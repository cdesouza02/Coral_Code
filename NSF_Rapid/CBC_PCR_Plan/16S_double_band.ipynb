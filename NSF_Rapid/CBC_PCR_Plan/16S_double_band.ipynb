{
 "cells": [
  {
   "cell_type": "code",
   "execution_count": null,
   "id": "d89ab556-2614-4641-b99e-475b2822a358",
   "metadata": {},
   "outputs": [],
   "source": [
    "#load libraries\n",
    "require(tidyr)\n",
    "require(dplyr)"
   ]
  },
  {
   "cell_type": "code",
   "execution_count": null,
   "id": "5b715a6a-7bc6-46dd-ad4e-c74ef41f2c24",
   "metadata": {},
   "outputs": [],
   "source": [
    "# load pcr csv\n",
    "pcr=read.csv(\"/Documents/SCTLD/Coral_Code/NSF_Rapid/CBC_PCR_Plan/"
   ]
  },
  {
   "cell_type": "code",
   "execution_count": null,
   "id": "f0fe0634-85da-447c-b7bc-02808783281d",
   "metadata": {},
   "outputs": [],
   "source": []
  },
  {
   "cell_type": "code",
   "execution_count": null,
   "id": "4719dc8e-7679-450c-ae4c-04a2a316347a",
   "metadata": {},
   "outputs": [],
   "source": []
  },
  {
   "cell_type": "code",
   "execution_count": null,
   "id": "93b89471-dfc2-4813-abb8-274d1a349ff3",
   "metadata": {},
   "outputs": [],
   "source": []
  }
 ],
 "metadata": {
  "kernelspec": {
   "display_name": "R",
   "language": "R",
   "name": "ir"
  },
  "language_info": {
   "codemirror_mode": "r",
   "file_extension": ".r",
   "mimetype": "text/x-r-source",
   "name": "R",
   "pygments_lexer": "r",
   "version": "4.3.3"
  }
 },
 "nbformat": 4,
 "nbformat_minor": 5
}
