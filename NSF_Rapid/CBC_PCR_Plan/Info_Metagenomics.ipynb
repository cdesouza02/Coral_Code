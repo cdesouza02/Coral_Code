{
 "cells": [
  {
   "cell_type": "code",
   "execution_count": 5,
   "id": "1c37da77-fc0a-48e1-b286-34da1ad13e82",
   "metadata": {},
   "outputs": [],
   "source": [
    "#load libraries\n",
    "require(tidyr)\n",
    "require(dplyr)"
   ]
  },
  {
   "cell_type": "code",
   "execution_count": 3,
   "id": "cc0adeb7-0537-4a90-8a45-1201320bed8a",
   "metadata": {},
   "outputs": [],
   "source": [
    "metagenomics=read.csv(\"~/Documents/SCTLD/SCTLD_samples/Sample_Data/Metagenomics_Tracker_Belize.csv\")"
   ]
  },
  {
   "cell_type": "code",
   "execution_count": null,
   "id": "15053062-4de0-46ee-aa55-9285b27bce3b",
   "metadata": {},
   "outputs": [],
   "source": []
  }
 ],
 "metadata": {
  "kernelspec": {
   "display_name": "R",
   "language": "R",
   "name": "ir"
  },
  "language_info": {
   "codemirror_mode": "r",
   "file_extension": ".r",
   "mimetype": "text/x-r-source",
   "name": "R",
   "pygments_lexer": "r",
   "version": "4.3.3"
  }
 },
 "nbformat": 4,
 "nbformat_minor": 5
}
