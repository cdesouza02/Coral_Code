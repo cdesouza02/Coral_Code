{
 "cells": [
  {
   "cell_type": "code",
   "execution_count": 63,
   "id": "1c37da77-fc0a-48e1-b286-34da1ad13e82",
   "metadata": {},
   "outputs": [],
   "source": [
    "#load libraries\n",
    "require(tidyr)\n",
    "require(dplyr)"
   ]
  },
  {
   "cell_type": "code",
   "execution_count": 64,
   "id": "15053062-4de0-46ee-aa55-9285b27bce3b",
   "metadata": {},
   "outputs": [],
   "source": [
    "#load Colony_Data.csv\n",
    "colony=read.csv(\"~/Documents/SCTLD/SCTLD_samples/Sample_Data/CBC_ColonyData.csv\")"
   ]
  },
  {
   "cell_type": "code",
   "execution_count": 65,
   "id": "80caca2e-2f65-4348-a80e-c20baf300297",
   "metadata": {},
   "outputs": [],
   "source": [
    "#isolate immune samples from colony data\n",
    "colony_immune=colony[colony$immune_y.n==\"y\",]\n",
    "colony_immune=as.vector(paste0(colony_immune$TransectNum,\"_\", colony_immune$NewTagNum))"
   ]
  },
  {
   "cell_type": "code",
   "execution_count": 66,
   "id": "cc0adeb7-0537-4a90-8a45-1201320bed8a",
   "metadata": {},
   "outputs": [],
   "source": [
    "#load metagenomics data\n",
    "metagenomics=read.csv(\"~/Documents/SCTLD/SCTLD_samples/Sample_Data/Metagenomics_Tracker_Belize.csv\")"
   ]
  },
  {
   "cell_type": "code",
   "execution_count": 67,
   "id": "5fe2b4b4-6f7f-4c11-b51e-10059ff9e450",
   "metadata": {},
   "outputs": [],
   "source": [
    "#waiting for a pull request review\n",
    "#add the extraction location to 012024 samples\n",
    "metagenomics <- metagenomics %>%\n",
    "  mutate(Extraction_physical_location = case_when(\n",
    "    (Extraction_physical_location == \"\" | is.na(Extraction_physical_location)) & \n",
    "    Date_Extracted %in% c(\"2_17_2025\", \"2_20_2025\") ~ \"UML_NARWHAL_R2_B16\",\n",
    "    TRUE ~ Extraction_physical_location))"
   ]
  },
  {
   "cell_type": "code",
   "execution_count": 68,
   "id": "3b703c4b-03f7-4f98-86d8-5bb4df5e0e78",
   "metadata": {},
   "outputs": [
    {
     "data": {
      "text/html": [
       "<style>\n",
       ".list-inline {list-style: none; margin:0; padding: 0}\n",
       ".list-inline>li {display: inline-block}\n",
       ".list-inline>li:not(:last-child)::after {content: \"\\00b7\"; padding: 0 .5ex}\n",
       "</style>\n",
       "<ol class=list-inline><li>'92023'</li><li>'122022'</li><li>'52022'</li><li>'112023'</li><li>'42024'</li><li>'102019'</li><li>'62019'</li><li>'122023'</li><li>'12024'</li><li>'22024'</li><li>'62024'</li><li>'82024'</li></ol>\n"
      ],
      "text/latex": [
       "\\begin{enumerate*}\n",
       "\\item '92023'\n",
       "\\item '122022'\n",
       "\\item '52022'\n",
       "\\item '112023'\n",
       "\\item '42024'\n",
       "\\item '102019'\n",
       "\\item '62019'\n",
       "\\item '122023'\n",
       "\\item '12024'\n",
       "\\item '22024'\n",
       "\\item '62024'\n",
       "\\item '82024'\n",
       "\\end{enumerate*}\n"
      ],
      "text/markdown": [
       "1. '92023'\n",
       "2. '122022'\n",
       "3. '52022'\n",
       "4. '112023'\n",
       "5. '42024'\n",
       "6. '102019'\n",
       "7. '62019'\n",
       "8. '122023'\n",
       "9. '12024'\n",
       "10. '22024'\n",
       "11. '62024'\n",
       "12. '82024'\n",
       "\n",
       "\n"
      ],
      "text/plain": [
       " [1] \"92023\"  \"122022\" \"52022\"  \"112023\" \"42024\"  \"102019\" \"62019\"  \"122023\"\n",
       " [9] \"12024\"  \"22024\"  \"62024\"  \"82024\" "
      ]
     },
     "metadata": {},
     "output_type": "display_data"
    },
    {
     "data": {
      "text/html": [
       "<table class=\"dataframe\">\n",
       "<caption>A data.frame: 6 × 23</caption>\n",
       "<thead>\n",
       "\t<tr><th></th><th scope=col>X.1</th><th scope=col>X</th><th scope=col>Month_year</th><th scope=col>Country</th><th scope=col>Location</th><th scope=col>CollectionDate</th><th scope=col>Transect</th><th scope=col>TransectNum</th><th scope=col>OldTagNum</th><th scope=col>NewTagNum</th><th scope=col>⋯</th><th scope=col>Sample_type</th><th scope=col>SampleNum</th><th scope=col>Health_status</th><th scope=col>Sampling_notes</th><th scope=col>Tubelabel_species</th><th scope=col>Sample_physical_location</th><th scope=col>Extraction_physical_location</th><th scope=col>Date_sequenced</th><th scope=col>Notes</th><th scope=col>colony</th></tr>\n",
       "\t<tr><th></th><th scope=col>&lt;int&gt;</th><th scope=col>&lt;int&gt;</th><th scope=col>&lt;chr&gt;</th><th scope=col>&lt;chr&gt;</th><th scope=col>&lt;chr&gt;</th><th scope=col>&lt;chr&gt;</th><th scope=col>&lt;chr&gt;</th><th scope=col>&lt;int&gt;</th><th scope=col>&lt;chr&gt;</th><th scope=col>&lt;chr&gt;</th><th scope=col>⋯</th><th scope=col>&lt;chr&gt;</th><th scope=col>&lt;chr&gt;</th><th scope=col>&lt;chr&gt;</th><th scope=col>&lt;chr&gt;</th><th scope=col>&lt;chr&gt;</th><th scope=col>&lt;chr&gt;</th><th scope=col>&lt;chr&gt;</th><th scope=col>&lt;chr&gt;</th><th scope=col>&lt;chr&gt;</th><th scope=col>&lt;chr&gt;</th></tr>\n",
       "</thead>\n",
       "<tbody>\n",
       "\t<tr><th scope=row>2</th><td>2</td><td>2</td><td>92023</td><td>BEL</td><td>CBC</td><td>9/27/23</td><td>CBC30N</td><td>1</td><td></td><td>1 </td><td>⋯</td><td>Core_RNAlater</td><td>185</td><td>Diseased_Margin</td><td>only margin sample available</td><td>092023_BEL_CBC_T1_185_SSID</td><td>UML_NARWHAL_R1_B10</td><td>                  </td><td></td><td>                      </td><td>1_1 </td></tr>\n",
       "\t<tr><th scope=row>3</th><td>3</td><td>3</td><td>92023</td><td>BEL</td><td>CBC</td><td>9/25/23</td><td>CBC30N</td><td>1</td><td></td><td>2 </td><td>⋯</td><td>Core_RNAlater</td><td>171</td><td>Healthy        </td><td>CLP 90%                     </td><td>092023_BEL_CBC_T1_171_PAST</td><td>UML_NARWHAL_R1_B10</td><td>UML_NARWHAL_R2_B12</td><td></td><td>                      </td><td>1_2 </td></tr>\n",
       "\t<tr><th scope=row>4</th><td>4</td><td>4</td><td>92023</td><td>BEL</td><td>CBC</td><td>9/25/23</td><td>CBC30N</td><td>1</td><td></td><td>3 </td><td>⋯</td><td>Core_RNAlater</td><td>173</td><td>Healthy        </td><td>CLP 80%; DC 20%             </td><td>092023_BEL_CBC_T1_173_SSID</td><td>UML_NARWHAL_R1_B10</td><td>UML_NARWHAL_R2_B12</td><td></td><td>                      </td><td>1_3 </td></tr>\n",
       "\t<tr><th scope=row>5</th><td>5</td><td>5</td><td>92023</td><td>BEL</td><td>CBC</td><td>9/25/23</td><td>CBC30N</td><td>1</td><td></td><td>12</td><td>⋯</td><td>Core_RNAlater</td><td>177</td><td>Healthy        </td><td>No CL                       </td><td>092023_BEL_CBC_T1_177_PSTR</td><td>UML_NARWHAL_R1_B10</td><td>UML_NARWHAL_R2_B12</td><td></td><td>                      </td><td>1_12</td></tr>\n",
       "\t<tr><th scope=row>6</th><td>6</td><td>6</td><td>92023</td><td>BEL</td><td>CBC</td><td>9/25/23</td><td>CBC30N</td><td>1</td><td></td><td>13</td><td>⋯</td><td>Core_RNAlater</td><td>175</td><td>Healthy        </td><td>No CL                       </td><td>092023_BEL_CBC_T1_175_PAST</td><td>UML_NARWHAL_R1_B10</td><td>UML_NARWHAL_R2_B12</td><td></td><td>R2_B15 EXTRACTED TWICE</td><td>1_13</td></tr>\n",
       "\t<tr><th scope=row>7</th><td>7</td><td>7</td><td>92023</td><td>BEL</td><td>CBC</td><td>9/27/23</td><td>CBC30N</td><td>1</td><td></td><td>5 </td><td>⋯</td><td>Core_RNAlater</td><td>188</td><td>Diseased_Tissue</td><td>                            </td><td>092023_BEL_CBC_T1_188_SSID</td><td>UML_NARWHAL_R1_B10</td><td>UML_NARWHAL_R2_B11</td><td></td><td>                      </td><td>1_5 </td></tr>\n",
       "</tbody>\n",
       "</table>\n"
      ],
      "text/latex": [
       "A data.frame: 6 × 23\n",
       "\\begin{tabular}{r|lllllllllllllllllllll}\n",
       "  & X.1 & X & Month\\_year & Country & Location & CollectionDate & Transect & TransectNum & OldTagNum & NewTagNum & ⋯ & Sample\\_type & SampleNum & Health\\_status & Sampling\\_notes & Tubelabel\\_species & Sample\\_physical\\_location & Extraction\\_physical\\_location & Date\\_sequenced & Notes & colony\\\\\n",
       "  & <int> & <int> & <chr> & <chr> & <chr> & <chr> & <chr> & <int> & <chr> & <chr> & ⋯ & <chr> & <chr> & <chr> & <chr> & <chr> & <chr> & <chr> & <chr> & <chr> & <chr>\\\\\n",
       "\\hline\n",
       "\t2 & 2 & 2 & 92023 & BEL & CBC & 9/27/23 & CBC30N & 1 &  & 1  & ⋯ & Core\\_RNAlater & 185 & Diseased\\_Margin & only margin sample available & 092023\\_BEL\\_CBC\\_T1\\_185\\_SSID & UML\\_NARWHAL\\_R1\\_B10 &                    &  &                        & 1\\_1 \\\\\n",
       "\t3 & 3 & 3 & 92023 & BEL & CBC & 9/25/23 & CBC30N & 1 &  & 2  & ⋯ & Core\\_RNAlater & 171 & Healthy         & CLP 90\\%                      & 092023\\_BEL\\_CBC\\_T1\\_171\\_PAST & UML\\_NARWHAL\\_R1\\_B10 & UML\\_NARWHAL\\_R2\\_B12 &  &                        & 1\\_2 \\\\\n",
       "\t4 & 4 & 4 & 92023 & BEL & CBC & 9/25/23 & CBC30N & 1 &  & 3  & ⋯ & Core\\_RNAlater & 173 & Healthy         & CLP 80\\%; DC 20\\%              & 092023\\_BEL\\_CBC\\_T1\\_173\\_SSID & UML\\_NARWHAL\\_R1\\_B10 & UML\\_NARWHAL\\_R2\\_B12 &  &                        & 1\\_3 \\\\\n",
       "\t5 & 5 & 5 & 92023 & BEL & CBC & 9/25/23 & CBC30N & 1 &  & 12 & ⋯ & Core\\_RNAlater & 177 & Healthy         & No CL                        & 092023\\_BEL\\_CBC\\_T1\\_177\\_PSTR & UML\\_NARWHAL\\_R1\\_B10 & UML\\_NARWHAL\\_R2\\_B12 &  &                        & 1\\_12\\\\\n",
       "\t6 & 6 & 6 & 92023 & BEL & CBC & 9/25/23 & CBC30N & 1 &  & 13 & ⋯ & Core\\_RNAlater & 175 & Healthy         & No CL                        & 092023\\_BEL\\_CBC\\_T1\\_175\\_PAST & UML\\_NARWHAL\\_R1\\_B10 & UML\\_NARWHAL\\_R2\\_B12 &  & R2\\_B15 EXTRACTED TWICE & 1\\_13\\\\\n",
       "\t7 & 7 & 7 & 92023 & BEL & CBC & 9/27/23 & CBC30N & 1 &  & 5  & ⋯ & Core\\_RNAlater & 188 & Diseased\\_Tissue &                              & 092023\\_BEL\\_CBC\\_T1\\_188\\_SSID & UML\\_NARWHAL\\_R1\\_B10 & UML\\_NARWHAL\\_R2\\_B11 &  &                        & 1\\_5 \\\\\n",
       "\\end{tabular}\n"
      ],
      "text/markdown": [
       "\n",
       "A data.frame: 6 × 23\n",
       "\n",
       "| <!--/--> | X.1 &lt;int&gt; | X &lt;int&gt; | Month_year &lt;chr&gt; | Country &lt;chr&gt; | Location &lt;chr&gt; | CollectionDate &lt;chr&gt; | Transect &lt;chr&gt; | TransectNum &lt;int&gt; | OldTagNum &lt;chr&gt; | NewTagNum &lt;chr&gt; | ⋯ ⋯ | Sample_type &lt;chr&gt; | SampleNum &lt;chr&gt; | Health_status &lt;chr&gt; | Sampling_notes &lt;chr&gt; | Tubelabel_species &lt;chr&gt; | Sample_physical_location &lt;chr&gt; | Extraction_physical_location &lt;chr&gt; | Date_sequenced &lt;chr&gt; | Notes &lt;chr&gt; | colony &lt;chr&gt; |\n",
       "|---|---|---|---|---|---|---|---|---|---|---|---|---|---|---|---|---|---|---|---|---|---|\n",
       "| 2 | 2 | 2 | 92023 | BEL | CBC | 9/27/23 | CBC30N | 1 | <!----> | 1  | ⋯ | Core_RNAlater | 185 | Diseased_Margin | only margin sample available | 092023_BEL_CBC_T1_185_SSID | UML_NARWHAL_R1_B10 | <!----> | <!----> | <!----> | 1_1  |\n",
       "| 3 | 3 | 3 | 92023 | BEL | CBC | 9/25/23 | CBC30N | 1 | <!----> | 2  | ⋯ | Core_RNAlater | 171 | Healthy         | CLP 90%                      | 092023_BEL_CBC_T1_171_PAST | UML_NARWHAL_R1_B10 | UML_NARWHAL_R2_B12 | <!----> | <!----> | 1_2  |\n",
       "| 4 | 4 | 4 | 92023 | BEL | CBC | 9/25/23 | CBC30N | 1 | <!----> | 3  | ⋯ | Core_RNAlater | 173 | Healthy         | CLP 80%; DC 20%              | 092023_BEL_CBC_T1_173_SSID | UML_NARWHAL_R1_B10 | UML_NARWHAL_R2_B12 | <!----> | <!----> | 1_3  |\n",
       "| 5 | 5 | 5 | 92023 | BEL | CBC | 9/25/23 | CBC30N | 1 | <!----> | 12 | ⋯ | Core_RNAlater | 177 | Healthy         | No CL                        | 092023_BEL_CBC_T1_177_PSTR | UML_NARWHAL_R1_B10 | UML_NARWHAL_R2_B12 | <!----> | <!----> | 1_12 |\n",
       "| 6 | 6 | 6 | 92023 | BEL | CBC | 9/25/23 | CBC30N | 1 | <!----> | 13 | ⋯ | Core_RNAlater | 175 | Healthy         | No CL                        | 092023_BEL_CBC_T1_175_PAST | UML_NARWHAL_R1_B10 | UML_NARWHAL_R2_B12 | <!----> | R2_B15 EXTRACTED TWICE | 1_13 |\n",
       "| 7 | 7 | 7 | 92023 | BEL | CBC | 9/27/23 | CBC30N | 1 | <!----> | 5  | ⋯ | Core_RNAlater | 188 | Diseased_Tissue | <!----> | 092023_BEL_CBC_T1_188_SSID | UML_NARWHAL_R1_B10 | UML_NARWHAL_R2_B11 | <!----> | <!----> | 1_5  |\n",
       "\n"
      ],
      "text/plain": [
       "  X.1 X Month_year Country Location CollectionDate Transect TransectNum\n",
       "2 2   2 92023      BEL     CBC      9/27/23        CBC30N   1          \n",
       "3 3   3 92023      BEL     CBC      9/25/23        CBC30N   1          \n",
       "4 4   4 92023      BEL     CBC      9/25/23        CBC30N   1          \n",
       "5 5   5 92023      BEL     CBC      9/25/23        CBC30N   1          \n",
       "6 6   6 92023      BEL     CBC      9/25/23        CBC30N   1          \n",
       "7 7   7 92023      BEL     CBC      9/27/23        CBC30N   1          \n",
       "  OldTagNum NewTagNum ⋯ Sample_type   SampleNum Health_status  \n",
       "2           1         ⋯ Core_RNAlater 185       Diseased_Margin\n",
       "3           2         ⋯ Core_RNAlater 171       Healthy        \n",
       "4           3         ⋯ Core_RNAlater 173       Healthy        \n",
       "5           12        ⋯ Core_RNAlater 177       Healthy        \n",
       "6           13        ⋯ Core_RNAlater 175       Healthy        \n",
       "7           5         ⋯ Core_RNAlater 188       Diseased_Tissue\n",
       "  Sampling_notes               Tubelabel_species         \n",
       "2 only margin sample available 092023_BEL_CBC_T1_185_SSID\n",
       "3 CLP 90%                      092023_BEL_CBC_T1_171_PAST\n",
       "4 CLP 80%; DC 20%              092023_BEL_CBC_T1_173_SSID\n",
       "5 No CL                        092023_BEL_CBC_T1_177_PSTR\n",
       "6 No CL                        092023_BEL_CBC_T1_175_PAST\n",
       "7                              092023_BEL_CBC_T1_188_SSID\n",
       "  Sample_physical_location Extraction_physical_location Date_sequenced\n",
       "2 UML_NARWHAL_R1_B10                                                  \n",
       "3 UML_NARWHAL_R1_B10       UML_NARWHAL_R2_B12                         \n",
       "4 UML_NARWHAL_R1_B10       UML_NARWHAL_R2_B12                         \n",
       "5 UML_NARWHAL_R1_B10       UML_NARWHAL_R2_B12                         \n",
       "6 UML_NARWHAL_R1_B10       UML_NARWHAL_R2_B12                         \n",
       "7 UML_NARWHAL_R1_B10       UML_NARWHAL_R2_B11                         \n",
       "  Notes                  colony\n",
       "2                        1_1   \n",
       "3                        1_2   \n",
       "4                        1_3   \n",
       "5                        1_12  \n",
       "6 R2_B15 EXTRACTED TWICE 1_13  \n",
       "7                        1_5   "
      ]
     },
     "metadata": {},
     "output_type": "display_data"
    }
   ],
   "source": [
    "#using an old copy of sample data from github bc i messed around with it and need to wait for pull review\n",
    "sample=read.csv(\"~/Downloads/CBC_samples1.csv\")\n",
    "\n",
    "# sample_dna add colony column to sample data\n",
    "sample$colony= colony= c(paste0(sample$TransectNum, \"_\", sample$NewTagNum))\n",
    "\n",
    "#clean sample data of leading spaces\n",
    "sample$Month_year <- trimws(sample$Month_year)\n",
    "\n",
    "# only utilize EtOH and RNALater samples and exclue 062025 samples\n",
    "sample_DNA <- sample[(sample$Sample_type == \"Core_EtOH\" | sample$Sample_type == \"Core_RNAlater\") &\n",
    "    sample$Month_year != \"62025\",]\n",
    "\n",
    "#double check that all 062025 samples have been removed\n",
    "unique(sample_DNA$Month_year)\n",
    "\n",
    "#view sample_dna, this is a new table modeled after sample data sheet and utilizing the colony tag num as a column\n",
    "head(sample_DNA)"
   ]
  },
  {
   "cell_type": "code",
   "execution_count": 69,
   "id": "d54dc86f-512b-4989-b207-9944bef36df1",
   "metadata": {},
   "outputs": [],
   "source": [
    "#changing X column to Tubelabel_species\n",
    "names(metagenomics)[names(metagenomics) == 'X'] <- 'Tubelabel_species'"
   ]
  },
  {
   "cell_type": "code",
   "execution_count": 70,
   "id": "fb540a20-3a50-4f3c-b588-398bd7fbabbb",
   "metadata": {},
   "outputs": [
    {
     "data": {
      "text/html": [
       "<style>\n",
       ".list-inline {list-style: none; margin:0; padding: 0}\n",
       ".list-inline>li {display: inline-block}\n",
       ".list-inline>li:not(:last-child)::after {content: \"\\00b7\"; padding: 0 .5ex}\n",
       "</style>\n",
       "<ol class=list-inline><li>'Tubelabel_species'</li><li>'Health_Status'</li><li>'Starting_Weight'</li><li>'Date_Extracted'</li><li>'Raw_ng_ul'</li><li>'Date_Enriched'</li><li>'Microbe_ng_ul'</li><li>'Microbe_Location'</li><li>'Microbe_clean_date.n'</li><li>'Host_ng_ul'</li><li>'Host_Location'</li><li>'Host_clean_y.n'</li><li>'Date_Libprep'</li><li>'Status'</li><li>'Notes'</li><li>'Seq_date'</li><li>'Host_Seq_date'</li><li>'Microbe_seq_file'</li><li>'Host_seq_file'</li><li>'Seq_Location..in.Unity.'</li><li>'Sample_physical_location'</li><li>'Extraction_physical_location'</li><li>'Location_notes'</li><li>'Sample_Code...datecollected_tagnumber_transect_samplenumber_species'</li></ol>\n"
      ],
      "text/latex": [
       "\\begin{enumerate*}\n",
       "\\item 'Tubelabel\\_species'\n",
       "\\item 'Health\\_Status'\n",
       "\\item 'Starting\\_Weight'\n",
       "\\item 'Date\\_Extracted'\n",
       "\\item 'Raw\\_ng\\_ul'\n",
       "\\item 'Date\\_Enriched'\n",
       "\\item 'Microbe\\_ng\\_ul'\n",
       "\\item 'Microbe\\_Location'\n",
       "\\item 'Microbe\\_clean\\_date.n'\n",
       "\\item 'Host\\_ng\\_ul'\n",
       "\\item 'Host\\_Location'\n",
       "\\item 'Host\\_clean\\_y.n'\n",
       "\\item 'Date\\_Libprep'\n",
       "\\item 'Status'\n",
       "\\item 'Notes'\n",
       "\\item 'Seq\\_date'\n",
       "\\item 'Host\\_Seq\\_date'\n",
       "\\item 'Microbe\\_seq\\_file'\n",
       "\\item 'Host\\_seq\\_file'\n",
       "\\item 'Seq\\_Location..in.Unity.'\n",
       "\\item 'Sample\\_physical\\_location'\n",
       "\\item 'Extraction\\_physical\\_location'\n",
       "\\item 'Location\\_notes'\n",
       "\\item 'Sample\\_Code...datecollected\\_tagnumber\\_transect\\_samplenumber\\_species'\n",
       "\\end{enumerate*}\n"
      ],
      "text/markdown": [
       "1. 'Tubelabel_species'\n",
       "2. 'Health_Status'\n",
       "3. 'Starting_Weight'\n",
       "4. 'Date_Extracted'\n",
       "5. 'Raw_ng_ul'\n",
       "6. 'Date_Enriched'\n",
       "7. 'Microbe_ng_ul'\n",
       "8. 'Microbe_Location'\n",
       "9. 'Microbe_clean_date.n'\n",
       "10. 'Host_ng_ul'\n",
       "11. 'Host_Location'\n",
       "12. 'Host_clean_y.n'\n",
       "13. 'Date_Libprep'\n",
       "14. 'Status'\n",
       "15. 'Notes'\n",
       "16. 'Seq_date'\n",
       "17. 'Host_Seq_date'\n",
       "18. 'Microbe_seq_file'\n",
       "19. 'Host_seq_file'\n",
       "20. 'Seq_Location..in.Unity.'\n",
       "21. 'Sample_physical_location'\n",
       "22. 'Extraction_physical_location'\n",
       "23. 'Location_notes'\n",
       "24. 'Sample_Code...datecollected_tagnumber_transect_samplenumber_species'\n",
       "\n",
       "\n"
      ],
      "text/plain": [
       " [1] \"Tubelabel_species\"                                                  \n",
       " [2] \"Health_Status\"                                                      \n",
       " [3] \"Starting_Weight\"                                                    \n",
       " [4] \"Date_Extracted\"                                                     \n",
       " [5] \"Raw_ng_ul\"                                                          \n",
       " [6] \"Date_Enriched\"                                                      \n",
       " [7] \"Microbe_ng_ul\"                                                      \n",
       " [8] \"Microbe_Location\"                                                   \n",
       " [9] \"Microbe_clean_date.n\"                                               \n",
       "[10] \"Host_ng_ul\"                                                         \n",
       "[11] \"Host_Location\"                                                      \n",
       "[12] \"Host_clean_y.n\"                                                     \n",
       "[13] \"Date_Libprep\"                                                       \n",
       "[14] \"Status\"                                                             \n",
       "[15] \"Notes\"                                                              \n",
       "[16] \"Seq_date\"                                                           \n",
       "[17] \"Host_Seq_date\"                                                      \n",
       "[18] \"Microbe_seq_file\"                                                   \n",
       "[19] \"Host_seq_file\"                                                      \n",
       "[20] \"Seq_Location..in.Unity.\"                                            \n",
       "[21] \"Sample_physical_location\"                                           \n",
       "[22] \"Extraction_physical_location\"                                       \n",
       "[23] \"Location_notes\"                                                     \n",
       "[24] \"Sample_Code...datecollected_tagnumber_transect_samplenumber_species\""
      ]
     },
     "metadata": {},
     "output_type": "display_data"
    }
   ],
   "source": [
    "colnames(metagenomics)"
   ]
  },
  {
   "cell_type": "code",
   "execution_count": 71,
   "id": "5d017a5b-5b73-4283-a989-97b102e37114",
   "metadata": {},
   "outputs": [],
   "source": [
    "#the columns that I want to isolate from metagenomics tracker\n",
    "metagenomics_PCR = metagenomics[c(\"Tubelabel_species\", \"Health_Status\", \"Date_Extracted\", \"Raw_ng_ul\", \"Extraction_physical_location\", \"Date_Enriched\",\"Microbe_Location\")]"
   ]
  },
  {
   "cell_type": "code",
   "execution_count": 72,
   "id": "69c02f2c-5983-4091-8223-62840d26cb85",
   "metadata": {},
   "outputs": [
    {
     "data": {
      "text/html": [
       "<table class=\"dataframe\">\n",
       "<caption>A data.frame: 6 × 7</caption>\n",
       "<thead>\n",
       "\t<tr><th></th><th scope=col>Tubelabel_species</th><th scope=col>Health_Status</th><th scope=col>Date_Extracted</th><th scope=col>Raw_ng_ul</th><th scope=col>Extraction_physical_location</th><th scope=col>Date_Enriched</th><th scope=col>Microbe_Location</th></tr>\n",
       "\t<tr><th></th><th scope=col>&lt;chr&gt;</th><th scope=col>&lt;chr&gt;</th><th scope=col>&lt;chr&gt;</th><th scope=col>&lt;chr&gt;</th><th scope=col>&lt;chr&gt;</th><th scope=col>&lt;chr&gt;</th><th scope=col>&lt;chr&gt;</th></tr>\n",
       "</thead>\n",
       "<tbody>\n",
       "\t<tr><th scope=row>1</th><td>052022_BEL_CBC_T2_45_PSTR </td><td>Diseased_Margin</td><td>10_10_2023</td><td>22.8</td><td>UML_NARWHAL_R2_B3 </td><td>10_17_2023</td><td>UML_NARWHAL_R2_B1 </td></tr>\n",
       "\t<tr><th scope=row>2</th><td>052022_BEL_CBC_T2_46_PSTR </td><td>Diseased_Tissue</td><td>10_10_2023</td><td>63.9</td><td>UML_NARWHAL_R2_B3 </td><td>10_17_2023</td><td>UML_NARWHAL_R2_B1 </td></tr>\n",
       "\t<tr><th scope=row>3</th><td>052022_BEL_CBC_T2_59_OFAV </td><td>Healthy        </td><td>10_3_2023 </td><td>73.7</td><td>UML_NARWHAL_R2_B3 </td><td>10_16_2023</td><td>UML_NARWHAL_R2_B1 </td></tr>\n",
       "\t<tr><th scope=row>4</th><td>042024_BEL_CBC_T1_925_PAST</td><td>Healthy        </td><td>8_19_2024 </td><td>5.46</td><td>UML_NARWHAL_R2_B29</td><td>9_28_2024 </td><td>UML_NARWHAL_R6_B30</td></tr>\n",
       "\t<tr><th scope=row>5</th><td>052022_BEL_CBC_T2_72_OFAV </td><td>Healthy        </td><td>10_3_2023 </td><td>47.6</td><td>UML_NARWHAL_R2_B3 </td><td>10_11_23  </td><td>UML_NARWHAL_R6_B1 </td></tr>\n",
       "\t<tr><th scope=row>6</th><td>052022_BEL_CBC_T2_71_OFAV </td><td>Healthy        </td><td>10_3_2023 </td><td>98.8</td><td>UML_NARWHAL_R2_B3 </td><td>10_16_2023</td><td>UML_NARWHAL_R6_B1 </td></tr>\n",
       "</tbody>\n",
       "</table>\n"
      ],
      "text/latex": [
       "A data.frame: 6 × 7\n",
       "\\begin{tabular}{r|lllllll}\n",
       "  & Tubelabel\\_species & Health\\_Status & Date\\_Extracted & Raw\\_ng\\_ul & Extraction\\_physical\\_location & Date\\_Enriched & Microbe\\_Location\\\\\n",
       "  & <chr> & <chr> & <chr> & <chr> & <chr> & <chr> & <chr>\\\\\n",
       "\\hline\n",
       "\t1 & 052022\\_BEL\\_CBC\\_T2\\_45\\_PSTR  & Diseased\\_Margin & 10\\_10\\_2023 & 22.8 & UML\\_NARWHAL\\_R2\\_B3  & 10\\_17\\_2023 & UML\\_NARWHAL\\_R2\\_B1 \\\\\n",
       "\t2 & 052022\\_BEL\\_CBC\\_T2\\_46\\_PSTR  & Diseased\\_Tissue & 10\\_10\\_2023 & 63.9 & UML\\_NARWHAL\\_R2\\_B3  & 10\\_17\\_2023 & UML\\_NARWHAL\\_R2\\_B1 \\\\\n",
       "\t3 & 052022\\_BEL\\_CBC\\_T2\\_59\\_OFAV  & Healthy         & 10\\_3\\_2023  & 73.7 & UML\\_NARWHAL\\_R2\\_B3  & 10\\_16\\_2023 & UML\\_NARWHAL\\_R2\\_B1 \\\\\n",
       "\t4 & 042024\\_BEL\\_CBC\\_T1\\_925\\_PAST & Healthy         & 8\\_19\\_2024  & 5.46 & UML\\_NARWHAL\\_R2\\_B29 & 9\\_28\\_2024  & UML\\_NARWHAL\\_R6\\_B30\\\\\n",
       "\t5 & 052022\\_BEL\\_CBC\\_T2\\_72\\_OFAV  & Healthy         & 10\\_3\\_2023  & 47.6 & UML\\_NARWHAL\\_R2\\_B3  & 10\\_11\\_23   & UML\\_NARWHAL\\_R6\\_B1 \\\\\n",
       "\t6 & 052022\\_BEL\\_CBC\\_T2\\_71\\_OFAV  & Healthy         & 10\\_3\\_2023  & 98.8 & UML\\_NARWHAL\\_R2\\_B3  & 10\\_16\\_2023 & UML\\_NARWHAL\\_R6\\_B1 \\\\\n",
       "\\end{tabular}\n"
      ],
      "text/markdown": [
       "\n",
       "A data.frame: 6 × 7\n",
       "\n",
       "| <!--/--> | Tubelabel_species &lt;chr&gt; | Health_Status &lt;chr&gt; | Date_Extracted &lt;chr&gt; | Raw_ng_ul &lt;chr&gt; | Extraction_physical_location &lt;chr&gt; | Date_Enriched &lt;chr&gt; | Microbe_Location &lt;chr&gt; |\n",
       "|---|---|---|---|---|---|---|---|\n",
       "| 1 | 052022_BEL_CBC_T2_45_PSTR  | Diseased_Margin | 10_10_2023 | 22.8 | UML_NARWHAL_R2_B3  | 10_17_2023 | UML_NARWHAL_R2_B1  |\n",
       "| 2 | 052022_BEL_CBC_T2_46_PSTR  | Diseased_Tissue | 10_10_2023 | 63.9 | UML_NARWHAL_R2_B3  | 10_17_2023 | UML_NARWHAL_R2_B1  |\n",
       "| 3 | 052022_BEL_CBC_T2_59_OFAV  | Healthy         | 10_3_2023  | 73.7 | UML_NARWHAL_R2_B3  | 10_16_2023 | UML_NARWHAL_R2_B1  |\n",
       "| 4 | 042024_BEL_CBC_T1_925_PAST | Healthy         | 8_19_2024  | 5.46 | UML_NARWHAL_R2_B29 | 9_28_2024  | UML_NARWHAL_R6_B30 |\n",
       "| 5 | 052022_BEL_CBC_T2_72_OFAV  | Healthy         | 10_3_2023  | 47.6 | UML_NARWHAL_R2_B3  | 10_11_23   | UML_NARWHAL_R6_B1  |\n",
       "| 6 | 052022_BEL_CBC_T2_71_OFAV  | Healthy         | 10_3_2023  | 98.8 | UML_NARWHAL_R2_B3  | 10_16_2023 | UML_NARWHAL_R6_B1  |\n",
       "\n"
      ],
      "text/plain": [
       "  Tubelabel_species          Health_Status   Date_Extracted Raw_ng_ul\n",
       "1 052022_BEL_CBC_T2_45_PSTR  Diseased_Margin 10_10_2023     22.8     \n",
       "2 052022_BEL_CBC_T2_46_PSTR  Diseased_Tissue 10_10_2023     63.9     \n",
       "3 052022_BEL_CBC_T2_59_OFAV  Healthy         10_3_2023      73.7     \n",
       "4 042024_BEL_CBC_T1_925_PAST Healthy         8_19_2024      5.46     \n",
       "5 052022_BEL_CBC_T2_72_OFAV  Healthy         10_3_2023      47.6     \n",
       "6 052022_BEL_CBC_T2_71_OFAV  Healthy         10_3_2023      98.8     \n",
       "  Extraction_physical_location Date_Enriched Microbe_Location  \n",
       "1 UML_NARWHAL_R2_B3            10_17_2023    UML_NARWHAL_R2_B1 \n",
       "2 UML_NARWHAL_R2_B3            10_17_2023    UML_NARWHAL_R2_B1 \n",
       "3 UML_NARWHAL_R2_B3            10_16_2023    UML_NARWHAL_R2_B1 \n",
       "4 UML_NARWHAL_R2_B29           9_28_2024     UML_NARWHAL_R6_B30\n",
       "5 UML_NARWHAL_R2_B3            10_11_23      UML_NARWHAL_R6_B1 \n",
       "6 UML_NARWHAL_R2_B3            10_16_2023    UML_NARWHAL_R6_B1 "
      ]
     },
     "metadata": {},
     "output_type": "display_data"
    }
   ],
   "source": [
    "head(metagenomics_PCR)"
   ]
  },
  {
   "cell_type": "code",
   "execution_count": 73,
   "id": "8fc6653e-2a06-41e8-84f8-0d17df83db53",
   "metadata": {},
   "outputs": [],
   "source": [
    "#info I am using to create ties between sample_dna and metagenomics_PCR\n",
    "sample_DNA=sample_DNA[c(\"Tubelabel_species\", \"colony\")]"
   ]
  },
  {
   "cell_type": "code",
   "execution_count": 74,
   "id": "5fe79484-4f45-4e9b-aa23-cea5df84e164",
   "metadata": {},
   "outputs": [],
   "source": [
    "#only including immune samples in sample_DNA\n",
    "immune_sample_DNA=sample_DNA[sample_DNA$colony %in% colony_immune,]"
   ]
  },
  {
   "cell_type": "code",
   "execution_count": 75,
   "id": "7e4886bf-48f8-4f2d-af92-628ba0a0f99a",
   "metadata": {},
   "outputs": [
    {
     "data": {
      "text/html": [
       "<table class=\"dataframe\">\n",
       "<caption>A data.frame: 6 × 2</caption>\n",
       "<thead>\n",
       "\t<tr><th></th><th scope=col>Tubelabel_species</th><th scope=col>colony</th></tr>\n",
       "\t<tr><th></th><th scope=col>&lt;chr&gt;</th><th scope=col>&lt;chr&gt;</th></tr>\n",
       "</thead>\n",
       "<tbody>\n",
       "\t<tr><th scope=row>3</th><td>092023_BEL_CBC_T1_171_PAST</td><td>1_2 </td></tr>\n",
       "\t<tr><th scope=row>4</th><td>092023_BEL_CBC_T1_173_SSID</td><td>1_3 </td></tr>\n",
       "\t<tr><th scope=row>5</th><td>092023_BEL_CBC_T1_177_PSTR</td><td>1_12</td></tr>\n",
       "\t<tr><th scope=row>6</th><td>092023_BEL_CBC_T1_175_PAST</td><td>1_13</td></tr>\n",
       "\t<tr><th scope=row>12</th><td>092023_BEL_CBC_T1_172_PAST</td><td>1_21</td></tr>\n",
       "\t<tr><th scope=row>13</th><td>092023_BEL_CBC_T1_174_MCAV</td><td>1_24</td></tr>\n",
       "</tbody>\n",
       "</table>\n"
      ],
      "text/latex": [
       "A data.frame: 6 × 2\n",
       "\\begin{tabular}{r|ll}\n",
       "  & Tubelabel\\_species & colony\\\\\n",
       "  & <chr> & <chr>\\\\\n",
       "\\hline\n",
       "\t3 & 092023\\_BEL\\_CBC\\_T1\\_171\\_PAST & 1\\_2 \\\\\n",
       "\t4 & 092023\\_BEL\\_CBC\\_T1\\_173\\_SSID & 1\\_3 \\\\\n",
       "\t5 & 092023\\_BEL\\_CBC\\_T1\\_177\\_PSTR & 1\\_12\\\\\n",
       "\t6 & 092023\\_BEL\\_CBC\\_T1\\_175\\_PAST & 1\\_13\\\\\n",
       "\t12 & 092023\\_BEL\\_CBC\\_T1\\_172\\_PAST & 1\\_21\\\\\n",
       "\t13 & 092023\\_BEL\\_CBC\\_T1\\_174\\_MCAV & 1\\_24\\\\\n",
       "\\end{tabular}\n"
      ],
      "text/markdown": [
       "\n",
       "A data.frame: 6 × 2\n",
       "\n",
       "| <!--/--> | Tubelabel_species &lt;chr&gt; | colony &lt;chr&gt; |\n",
       "|---|---|---|\n",
       "| 3 | 092023_BEL_CBC_T1_171_PAST | 1_2  |\n",
       "| 4 | 092023_BEL_CBC_T1_173_SSID | 1_3  |\n",
       "| 5 | 092023_BEL_CBC_T1_177_PSTR | 1_12 |\n",
       "| 6 | 092023_BEL_CBC_T1_175_PAST | 1_13 |\n",
       "| 12 | 092023_BEL_CBC_T1_172_PAST | 1_21 |\n",
       "| 13 | 092023_BEL_CBC_T1_174_MCAV | 1_24 |\n",
       "\n"
      ],
      "text/plain": [
       "   Tubelabel_species          colony\n",
       "3  092023_BEL_CBC_T1_171_PAST 1_2   \n",
       "4  092023_BEL_CBC_T1_173_SSID 1_3   \n",
       "5  092023_BEL_CBC_T1_177_PSTR 1_12  \n",
       "6  092023_BEL_CBC_T1_175_PAST 1_13  \n",
       "12 092023_BEL_CBC_T1_172_PAST 1_21  \n",
       "13 092023_BEL_CBC_T1_174_MCAV 1_24  "
      ]
     },
     "metadata": {},
     "output_type": "display_data"
    }
   ],
   "source": [
    "head(immune_sample_DNA)"
   ]
  },
  {
   "cell_type": "code",
   "execution_count": 76,
   "id": "b4a4141f-b14b-426f-87cd-b9edc0674b8d",
   "metadata": {},
   "outputs": [
    {
     "data": {
      "text/html": [
       "557"
      ],
      "text/latex": [
       "557"
      ],
      "text/markdown": [
       "557"
      ],
      "text/plain": [
       "[1] 557"
      ]
     },
     "metadata": {},
     "output_type": "display_data"
    }
   ],
   "source": [
    "nrow(metagenomics_PCR)"
   ]
  },
  {
   "cell_type": "code",
   "execution_count": 77,
   "id": "6be5f217-c05a-4362-bb07-ddf7b24f82e4",
   "metadata": {},
   "outputs": [
    {
     "data": {
      "text/html": [
       "368"
      ],
      "text/latex": [
       "368"
      ],
      "text/markdown": [
       "368"
      ],
      "text/plain": [
       "[1] 368"
      ]
     },
     "metadata": {},
     "output_type": "display_data"
    }
   ],
   "source": [
    "nrow(immune_sample_DNA)"
   ]
  },
  {
   "cell_type": "code",
   "execution_count": 78,
   "id": "e34eda86-60ae-4dbd-ad06-54e24112f2ab",
   "metadata": {},
   "outputs": [
    {
     "data": {
      "text/html": [
       "35"
      ],
      "text/latex": [
       "35"
      ],
      "text/markdown": [
       "35"
      ],
      "text/plain": [
       "[1] 35"
      ]
     },
     "metadata": {},
     "output_type": "display_data"
    }
   ],
   "source": [
    "#check to see why there is a discrepancy from immune_sample_DNA to_metagenomics_PCR\n",
    "unmatched=anti_join(immune_sample_DNA,metagenomics_PCR, by='Tubelabel_species')\n",
    "nrow(unmatched)"
   ]
  },
  {
   "cell_type": "code",
   "execution_count": 79,
   "id": "14b4ed80-d4e3-4faf-ad58-21f89ad98442",
   "metadata": {},
   "outputs": [
    {
     "name": "stdout",
     "output_type": "stream",
     "text": [
      " [1] \"022024_Belize_CBC_T1_771_PAST\" \"022024_Belize_CBC_T1_773_SSID\"\n",
      " [3] \"022024_Belize_CBC_T1_776_PSTR\" \"022024_Belize_CBC_T1_774_MCAV\"\n",
      " [5] \"022024_Belize_CBC_T2_810_SSID\" \"022024_Belize_CBC_T2_813_MCAV\"\n",
      " [7] \"022024_Belize_CBC_T2_812_PAST\" \"022024_Belize_CBC_T2_814_MCAV\"\n",
      " [9] \"022024_Belize_CBC_T2_811_PAST\" \"022024_Belize_CBC_T2_808_PAST\"\n",
      "[11] \"022024_Belize_CBC_T2_809_MCAV\" \"022024_Belize_CBC_T2_805_SSID\"\n",
      "[13] \"022024_Belize_CBC_T2_806_SSID\" \"022024_Belize_CBC_T2_807_SSID\"\n",
      "[15] \"022024_Belize_CBC_T2_804_OFAV\" \"022024_Belize_CBC_T2_815_OFAV\"\n",
      "[17] \"022024_Belize_CBC_T3_842_MCAV\" \"022024_Belize_CBC_T3_843_MCAV\"\n",
      "[19] \"022024_Belize_CBC_T3_845_SSID\" \"022024_Belize_CBC_T3_847_PAST\"\n",
      "[21] \"022024_Belize_CBC_T3_848_MCAV\" \"022024_Belize_CBC_T3_849_PSTR\"\n",
      "[23] \"022024_Belize_CBC_T3_850_MCAV\" \"022024_Belize_CBC_T3_853_SSID\"\n",
      "[25] \"022024_Belize_CBC_T3_854_PAST\" \"022024_Belize_CBC_T3_844_OFAV\"\n",
      "[27] \"022024_Belize_CBC_T3_852_OFAV\" \"022024_Belize_CBC_T3_851_PSTR\"\n",
      "[29] \"022024_Belize_CBC_T4_870_MCAV\" \"022024_Belize_CBC_T4_875_MCAV\"\n",
      "[31] \"022024_Belize_CBC_T4_873_MCAV\" \"022024_Belize_CBC_T4_874_OFAV\"\n",
      "[33] \"022024_Belize_CBC_T4_872_PSTR\" \"022024_Belize_CBC_T4_871_PSTR\"\n",
      "[35] \"022024_Belize_CBC_T1_775_OANN\"\n"
     ]
    }
   ],
   "source": [
    "# Identify the incorrect labels that contain \"Belize\"\n",
    "incorrect_names <- immune_sample_DNA$Tubelabel_species[grepl(\"Belize\", immune_sample_DNA$Tubelabel_species)]\n",
    "print(incorrect_names)"
   ]
  },
  {
   "cell_type": "code",
   "execution_count": 80,
   "id": "88cd24e2-73ca-4147-bb6d-242db39c3fb4",
   "metadata": {},
   "outputs": [],
   "source": [
    "# Replace \"Belize\" with \"BEL\" for the problematic names\n",
    "immune_sample_DNA$Tubelabel_species <- gsub(\"Belize\", \"BEL\", immune_sample_DNA$Tubelabel_species)"
   ]
  },
  {
   "cell_type": "code",
   "execution_count": 81,
   "id": "08dbca1a-2966-471e-8c5d-e13293bafb45",
   "metadata": {},
   "outputs": [
    {
     "name": "stdout",
     "output_type": "stream",
     "text": [
      "  [1] \"092023_BEL_CBC_T1_171_PAST\"      \"092023_BEL_CBC_T1_173_SSID\"     \n",
      "  [3] \"092023_BEL_CBC_T1_177_PSTR\"      \"092023_BEL_CBC_T1_175_PAST\"     \n",
      "  [5] \"092023_BEL_CBC_T1_172_PAST\"      \"092023_BEL_CBC_T1_174_MCAV\"     \n",
      "  [7] \"092023_BEL_CBC_T1_178_OANN\"      \"092023_BEL_CBC_T2_183_MCAV\"     \n",
      "  [9] \"092023_BEL_CBC_T2_182_PAST\"      \"092023_BEL_CBC_T2_184_MCAV\"     \n",
      " [11] \"092023_BEL_CBC_T2_181_PAST\"      \"092023_BEL_CBC_T2_175_PAST\"     \n",
      " [13] \"092023_BEL_CBC_T2_176_MCAV\"      \"092023_BEL_CBC_T2_174_SSID\"     \n",
      " [15] \"092023_BEL_CBC_T2_173_SSID\"      \"092023_BEL_CBC_T2_172_OFAV\"     \n",
      " [17] \"092023_BEL_CBC_T2_171_OFAV\"      \"092023_BEL_CBC_T2_179_SSID\"     \n",
      " [19] \"092023_BEL_CBC_T3_176_MCAV\"      \"092023_BEL_CBC_T3_177_SSID\"     \n",
      " [21] \"092023_BEL_CBC_T3_178_PAST\"      \"092023_BEL_CBC_T3_181_PAST\"     \n",
      " [23] \"092023_BEL_CBC_T3_175_MCAV\"      \"092023_BEL_CBC_T3_172_PSTR\"     \n",
      " [25] \"092023_BEL_CBC_T3_182_MCAV\"      \"092023_BEL_CBC_T3_183_SSID\"     \n",
      " [27] \"092023_BEL_CBC_T3_174_OFAV\"      \"092023_BEL_CBC_T3_171_OFAV\"     \n",
      " [29] \"092023_BEL_CBC_T3_173_OFAV\"      \"092023_BEL_CBC_T3_195_PSTR\"     \n",
      " [31] \"092023_BEL_CBC_T4_91_MCAV\"       \"092023_BEL_CBC_T4_96_MCAV\"      \n",
      " [33] \"092023_BEL_CBC_T4_94_MCAV\"       \"092023_BEL_CBC_T4_95_OFAV\"      \n",
      " [35] \"092023_BEL_CBC_T4_93_PSTR\"       \"092023_BEL_CBC_T4_92_PSTR\"      \n",
      " [37] \"092023_BEL_CBC_T3_184_PAST\"      \"112023_BEL_CBC_T1_273_PAST\"     \n",
      " [39] \"112023_BEL_CBC_T1_275_SSID\"      \"112023_BEL_CBC_T1_278_PSTR\"     \n",
      " [41] \"112023_BEL_CBC_T1_274_PAST\"      \"112023_BEL_CBC_T1_276_MCAV\"     \n",
      " [43] \"112023_BEL_CBC_T1_277_OFAV/OANN\" \"112023_BEL_CBC_T2_310_MCAV\"     \n",
      " [45] \"112023_BEL_CBC_T2_309_PAST\"      \"112023_BEL_CBC_T2_311_MCAV\"     \n",
      " [47] \"112023_BEL_CBC_T2_308_PAST\"      \"112023_BEL_CBC_T2_305_PAST\"     \n",
      " [49] \"112023_BEL_CBC_T2_306_MCAV\"      \"112023_BEL_CBC_T2_313_SSID\"     \n",
      " [51] \"112023_BEL_CBC_T2_314_SSID\"      \"122022_BEL_CBC_T1_122_PSTR\"     \n",
      " [53] \"112023_BEL_CBC_T2_304_OFAV\"      \"112023_BEL_CBC_T3_359_PAST\"     \n",
      " [55] \"112023_BEL_CBC_T2_312_OFAV\"      \"122022_BEL_CBC_T1_150_PAST\"     \n",
      " [57] \"122022_BEL_CBC_T1_151_MCAV\"      \"122022_BEL_CBC_T1_152_PAST\"     \n",
      " [59] \"122022_BEL_CBC_T1_156_SSID\"      \"112023_BEL_CBC_T2_307_SSID\"     \n",
      " [61] \"122022_BEL_CBC_T1_158_PAST\"      \"122022_BEL_CBC_T2_100_PAST\"     \n",
      " [63] \"122022_BEL_CBC_T2_83_PAST\"       \"122022_BEL_CBC_T2_86_MCAV\"      \n",
      " [65] \"122022_BEL_CBC_T2_87_OFAV\"       \"122022_BEL_CBC_T2_88_MCAV\"      \n",
      " [67] \"122022_BEL_CBC_T2_90_SSID\"       \"122022_BEL_CBC_T2_92_MCAV\"      \n",
      " [69] \"122022_BEL_CBC_T2_93_OFAV\"       \"122022_BEL_CBC_T2_94_PAST\"      \n",
      " [71] \"122022_BEL_CBC_T2_96_SSID\"       \"122022_BEL_CBC_T3_116_PAST\"     \n",
      " [73] \"122022_BEL_CBC_T3_119_MCAV\"      \"122022_BEL_CBC_T3_120_SSID\"     \n",
      " [75] \"122022_BEL_CBC_T3_121_OFAV\"      \"122022_BEL_CBC_T3_123_PAST\"     \n",
      " [77] \"122022_BEL_CBC_T3_124_PAST\"      \"122022_BEL_CBC_T3_126_SSID\"     \n",
      " [79] \"122022_BEL_CBC_T3_127_OFAV\"      \"122022_BEL_CBC_T3_128_MCAV\"     \n",
      " [81] \"122022_BEL_CBC_T3_141_PSTR\"      \"122022_BEL_CBC_T3_142_MCAV\"     \n",
      " [83] \"122022_BEL_CBC_T3_151_PSTR\"      \"122022_BEL_CBC_T4_11_MCAV\"      \n",
      " [85] \"122022_BEL_CBC_T4_3_MCAV\"        \"122022_BEL_CBC_T4_34_PSTR\"      \n",
      " [87] \"122022_BEL_CBC_T4_38_MCAV\"       \"122022_BEL_CBC_T4_1_OFAV\"       \n",
      " [89] \"122022_BEL_CBC_T4_4_PSTR\"        \"052022_BEL_CBC_T1_62_MCAV\"      \n",
      " [91] \"052022_BEL_CBC_T2_59_OFAV\"       \"052022_BEL_CBC_T2_71_OFAV\"      \n",
      " [93] \"052022_BEL_CBC_T2_1_SSID\"        \"052022_BEL_CBC_T2_10_MCAV\"      \n",
      " [95] \"052022_BEL_CBC_T2_11_PAST\"       \"052022_BEL_CBC_T2_12_MCAV\"      \n",
      " [97] \"052022_BEL_CBC_T2_3_SSID\"        \"052022_BEL_CBC_T2_4_MCAV\"       \n",
      " [99] \"052022_BEL_CBC_T2_5_PAST\"        \"052022_BEL_CBC_T2_9_PAST\"       \n",
      "[101] \"052022_BEL_CBC_T1_1_PAST\"        \"052022_BEL_CBC_T1_2_SSID\"       \n",
      "[103] \"112023_BEL_CBC_T3_347_MCAV\"      \"052022_BEL_CBC_T1_34_PAST\"      \n",
      "[105] \"122022_BEL_CBC_T1_123_OANN\"      \"052022_BEL_CBC_T1_53_PAST\"      \n",
      "[107] \"052022_BEL_CBC_T1_54_MCAV\"       \"052022_BEL_CBC_T1_55_PSTR\"      \n",
      "[109] \"052022_BEL_CBC_T3_1_MCAV\"        \"052022_BEL_CBC_T3_11_PAST\"      \n",
      "[111] \"052022_BEL_CBC_T3_13_MCAV\"       \"052022_BEL_CBC_T3_15_PSTR\"      \n",
      "[113] \"052022_BEL_CBC_T3_16_SSID\"       \"052022_BEL_CBC_T3_19_MCAV\"      \n",
      "[115] \"052022_BEL_CBC_T3_25_PAST\"       \"052022_BEL_CBC_T3_6_SSID\"       \n",
      "[117] \"052022_BEL_CBC_T3_65_OFAV\"       \"052022_BEL_CBC_T3_66_OFAV\"      \n",
      "[119] \"052022_BEL_CBC_T3_8_PAST\"        \"102019_BEL_CBC_T1_29_PSTR\"      \n",
      "[121] \"102019_BEL_CBC_T3_35_PSTR\"       \"062019_BEL_CBC_T2_17_SSID\"      \n",
      "[123] \"062019_BEL_CBC_T2_18_MCAV\"       \"062019_BEL_CBC_T2_21_PAST\"      \n",
      "[125] \"062019_BEL_CBC_T2_23_MCAV\"       \"062019_BEL_CBC_T2_25_PAST\"      \n",
      "[127] \"062019_BEL_CBC_T2_26_SSID\"       \"062019_BEL_CBC_T1_12_PAST\"      \n",
      "[129] \"062019_BEL_CBC_T1_21_PAST\"       \"062019_BEL_CBC_T1_22_MCAV\"      \n",
      "[131] \"062019_BEL_CBC_T3_1_MCAV\"        \"062019_BEL_CBC_T3_16_MCAV\"      \n",
      "[133] \"062019_BEL_CBC_T3_27_SSID\"       \"062019_BEL_CBC_T3_31_PAST\"      \n",
      "[135] \"062019_BEL_CBC_T3_4_PAST\"        \"062019_BEL_CBC_T3_5_SSID\"       \n",
      "[137] \"062019_BEL_CBC_T3_7_PAST\"        \"062019_BEL_CBC_T3_8_MCAV\"       \n",
      "[139] \"062019_BEL_CBC_T2_16_MCAV\"       \"062019_BEL_CBC_T1_1_PAST\"       \n",
      "[141] \"062019_BEL_CBC_T1_5_SSID\"        \"062019_BEL_CBC_T2_2_PAST\"       \n",
      "[143] \"112023_BEL_CBC_T3_348_SSID\"      \"112023_BEL_CBC_T3_349_PAST\"     \n",
      "[145] \"112023_BEL_CBC_T3_352_PAST\"      \"112023_BEL_CBC_T3_353_MCAV\"     \n",
      "[147] \"112023_BEL_CBC_T3_354_PSTR\"      \"112023_BEL_CBC_T3_356_MCAV\"     \n",
      "[149] \"112023_BEL_CBC_T3_358_SSID\"      \"112023_BEL_CBC_T3_350_OFAV\"     \n",
      "[151] \"112023_BEL_CBC_T3_357_OFAV\"      \"112023_BEL_CBC_T3_351_OFAV\"     \n",
      "[153] \"112023_BEL_CBC_T3_355_PSTR\"      \"112023_BEL_CBC_T4_396_MCAV\"     \n",
      "[155] \"112023_BEL_CBC_T4_401_MCAV\"      \"112023_BEL_CBC_T4_399_MCAV\"     \n",
      "[157] \"112023_BEL_CBC_T4_400_OFAV\"      \"112023_BEL_CBC_T4_398_PSTR\"     \n",
      "[159] \"112023_BEL_CBC_T4_397_PSTR\"      \"122023_BEL_CBC_T1_506_PAST\"     \n",
      "[161] \"122023_BEL_CBC_T1_508_SSID\"      \"122023_BEL_CBC_T1_510_PSTR\"     \n",
      "[163] \"122023_BEL_CBC_T1_507_PAST\"      \"122023_BEL_CBC_T1_509_MCAV\"     \n",
      "[165] \"122023_BEL_CBC_T1_511_OFAV/OANN\" \"122023_BEL_CBC_T2_518_MCAV\"     \n",
      "[167] \"122023_BEL_CBC_T2_520_PAST\"      \"122023_BEL_CBC_T2_522_MCAV\"     \n",
      "[169] \"122023_BEL_CBC_T2_519_PAST\"      \"122023_BEL_CBC_T2_515_PAST\"     \n",
      "[171] \"122023_BEL_CBC_T2_516_MCAV\"      \"122023_BEL_CBC_T2_514_SSID\"     \n",
      "[173] \"122023_BEL_CBC_T2_513_SSID\"      \"122023_BEL_CBC_T2_512_OFAV\"     \n",
      "[175] \"122023_BEL_CBC_T2_521_OFAV\"      \"122023_BEL_CBC_T2_517_SSID\"     \n",
      "[177] \"122023_BEL_CBC_T3_523_MCAV\"      \"122023_BEL_CBC_T3_526_SSID\"     \n",
      "[179] \"122023_BEL_CBC_T3_525_PAST\"      \"122023_BEL_CBC_T3_528_PAST \"    \n",
      "[181] \"122023_BEL_CBC_T3_529_MCAV\"      \"122023_BEL_CBC_T3_530_PSTR\"     \n",
      "[183] \"122023_BEL_CBC_T3_532_MCAV\"      \"122023_BEL_CBC_T3_534_SSID\"     \n",
      "[185] \"122023_BEL_CBC_T3_479_PAST \"     \"122023_BEL_CBC_T3_524_OFAV\"     \n",
      "[187] \"122023_BEL_CBC_T3_533_OFAV\"      \"122023_BEL_CBC_T3_527_OFAV\"     \n",
      "[189] \"122023_BEL_CBC_T3_531_PSTR\"      \"122023_BEL_CBC_T4_535_MCAV\"     \n",
      "[191] \"122023_BEL_CBC_T4_540_MCAV\"      \"122023_BEL_CBC_T4_539_MCAV\"     \n",
      "[193] \"122023_BEL_CBC_T4_538_OFAV\"      \"122023_BEL_CBC_T4_537_PSTR\"     \n",
      "[195] \"012024_BEL_CBC_T4_661_PSTR\"      \"012024_BEL_CBC_T4_663_PSTR\"     \n",
      "[197] \"012024_BEL_CBC_T4_665_MCAV\"      \"012024_BEL_CBC_T4_667_OFAV\"     \n",
      "[199] \"012024_BEL_CBC_T4_669_MCAV\"      \"012024_BEL_CBC_T1_557_SSID\"     \n",
      "[201] \"012024_BEL_CBC_T1_559_MCAV\"      \"122023_BEL_CBC_T4_536_PSTR\"     \n",
      "[203] \"012024_BEL_CBC_T1_563_PSTR\"      \"012024_BEL_CBC_T1_565_PAST\"     \n",
      "[205] \"012024_BEL_CBC_T3_625_SSID\"      \"012024_BEL_CBC_T3_627_PAST\"     \n",
      "[207] \"012024_BEL_CBC_T3_629_OFAV\"      \"012024_BEL_CBC_T3_631_MCAV\"     \n",
      "[209] \"012024_BEL_CBC_T3_633_MCAV\"      \"012024_BEL_CBC_T3_635_OFAV\"     \n",
      "[211] \"012024_BEL_CBC_T3_637_SSID\"      \"012024_BEL_CBC_T3_639_OFAV\"     \n",
      "[213] \"012024_BEL_CBC_T3_640_MCAV\"      \"012024_BEL_CBC_T3_642_PSTR\"     \n",
      "[215] \"012024_BEL_CBC_T3_644_PSTR\"      \"012024_BEL_CBC_T2_585_OFAV\"     \n",
      "[217] \"012024_BEL_CBC_T2_587_SSID\"      \"012024_BEL_CBC_T2_589_SSID\"     \n",
      "[219] \"012024_BEL_CBC_T2_591_PAST\"      \"012024_BEL_CBC_T2_593_MCAV\"     \n",
      "[221] \"012024_BEL_CBC_T2_595_PAST\"      \"012024_BEL_CBC_T2_597_PAST\"     \n",
      "[223] \"012024_BEL_CBC_T2_599_MCAV\"      \"012024_BEL_CBC_T2_601_OFAV\"     \n",
      "[225] \"012024_BEL_CBC_T2_603_MCAV\"      \"012024_BEL_CBC_T2_605_SSID\"     \n",
      "[227] \"022024_BEL_CBC_T1_771_PAST\"      \"022024_BEL_CBC_T1_773_SSID\"     \n",
      "[229] \"022024_BEL_CBC_T1_776_PSTR\"      \"022024_BEL_CBC_T1_774_MCAV\"     \n",
      "[231] \"012024_BEL_CBC_T1_561_OANN\"      \"022024_BEL_CBC_T2_810_SSID\"     \n",
      "[233] \"022024_BEL_CBC_T2_813_MCAV\"      \"022024_BEL_CBC_T2_812_PAST\"     \n",
      "[235] \"022024_BEL_CBC_T2_814_MCAV\"      \"022024_BEL_CBC_T2_811_PAST\"     \n",
      "[237] \"022024_BEL_CBC_T2_808_PAST\"      \"022024_BEL_CBC_T2_809_MCAV\"     \n",
      "[239] \"022024_BEL_CBC_T2_805_SSID\"      \"022024_BEL_CBC_T2_806_SSID\"     \n",
      "[241] \"022024_BEL_CBC_T2_807_SSID\"      \"022024_BEL_CBC_T2_804_OFAV\"     \n",
      "[243] \"022024_BEL_CBC_T2_815_OFAV\"      \"022024_BEL_CBC_T3_842_MCAV\"     \n",
      "[245] \"022024_BEL_CBC_T3_843_MCAV\"      \"022024_BEL_CBC_T3_845_SSID\"     \n",
      "[247] \"022024_BEL_CBC_T3_847_PAST\"      \"022024_BEL_CBC_T3_848_MCAV\"     \n",
      "[249] \"022024_BEL_CBC_T3_849_PSTR\"      \"022024_BEL_CBC_T3_850_MCAV\"     \n",
      "[251] \"022024_BEL_CBC_T3_853_SSID\"      \"022024_BEL_CBC_T3_854_PAST\"     \n",
      "[253] \"022024_BEL_CBC_T3_844_OFAV\"      \"022024_BEL_CBC_T3_852_OFAV\"     \n",
      "[255] \"022024_BEL_CBC_T3_851_PSTR\"      \"022024_BEL_CBC_T4_870_MCAV\"     \n",
      "[257] \"022024_BEL_CBC_T4_875_MCAV\"      \"022024_BEL_CBC_T4_873_MCAV\"     \n",
      "[259] \"022024_BEL_CBC_T4_874_OFAV\"      \"022024_BEL_CBC_T4_872_PSTR\"     \n",
      "[261] \"022024_BEL_CBC_T4_871_PSTR\"      \"022024_BEL_CBC_T1_775_OANN\"     \n",
      "[263] \"042024_BEL_CBC_T1_932_SSID\"      \"042024_BEL_CBC_T1_931_SSID\"     \n",
      "[265] \"042024_BEL_CBC_T1_924_MCAV\"      \"042024_BEL_CBC_T1_927_PSTR\"     \n",
      "[267] \"042024_BEL_CBC_T1_928_OANN\"      \"042024_BEL_CBC_T1_929_PAST\"     \n",
      "[269] \"042024_BEL_CBC_T3_942_PAST\"      \"042024_BEL_CBC_T3_944_SSID\"     \n",
      "[271] \"042024_BEL_CBC_T3_946_OFAV\"      \"042024_BEL_CBC_T3_947_MCAV\"     \n",
      "[273] \"042024_BEL_CBC_T3_949_PSTR\"      \"042024_BEL_CBC_T3_950_PSTR\"     \n",
      "[275] \"042024_BEL_CBC_T3_953_MCAV\"      \"042024_BEL_CBC_T3_955_OFAV\"     \n",
      "[277] \"042024_BEL_CBC_T3_956_MCAV\"      \"042024_BEL_CBC_T3_959_SSID\"     \n",
      "[279] \"042024_BEL_CBC_T3_960_OFAV\"      \"042024_BEL_CBC_T4_1047_MCAV\"    \n",
      "[281] \"042024_BEL_CBC_T4_1041_MCAV\"     \"042024_BEL_CBC_T4_1042_OFAV\"    \n",
      "[283] \"042024_BEL_CBC_T4_1044_PSTR\"     \"042024_BEL_CBC_T4_1045_MCAV\"    \n",
      "[285] \"042024_BEL_CBC_T4_1046_PSTR\"     \"042024_BEL_CBC_T2_1025_SSID\"    \n",
      "[287] \"042024_BEL_CBC_T2_1040_SSID\"     \"042024_BEL_CBC_T2_1026_OFAV\"    \n",
      "[289] \"042024_BEL_CBC_T2_1027_PAST\"     \"042024_BEL_CBC_T2_1028_PAST\"    \n",
      "[291] \"042024_BEL_CBC_T2_1014_OFAV\"     \"042024_BEL_CBC_T2_1016_MCAV\"    \n",
      "[293] \"042024_BEL_CBC_T2_1017_MCAV\"     \"042024_BEL_CBC_T2_1018_PAST\"    \n",
      "[295] \"042024_BEL_CBC_T2_1034_SSID\"     \"042024_BEL_CBC_T2_1035_SSID\"    \n",
      "[297] \"042024_BEL_CBC_T2_1144_MCAV\"     \"052022_BEL_CBC_T1_63_OFAV\"      \n",
      "[299] \"062024_BEL_CBC_T3_1421_OFAV\"     \"062024_BEL_CBC_T3_1439_OFAV \"   \n",
      "[301] \"062024_BEL_CBC_T3_1442_OFAV\"     \"062024_BEL_CBC_T3_1445_SSID\"    \n",
      "[303] \"062024_BEL_CBC_T3_1448_PAST\"     \"062024_BEL_CBC_T3_1412_MCAV\"    \n",
      "[305] \"062024_BEL_CBC_T3_1415_MCAV\"     \"062024_BEL_CBC_T3_1418_SSID\"    \n",
      "[307] \"062024_BEL_CBC_T3_1424_PAST\"     \"062024_BEL_CBC_T3_1427_MCAV\"    \n",
      "[309] \"062024_BEL_CBC_T3_1430_PSTR\"     \"062024_BEL_CBC_T3_1433_PSTR\"    \n",
      "[311] \"062024_BEL_CBC_T3_1436_MCAV\"     \"062024_BEL_CBC_T1_1341_SSID\"    \n",
      "[313] \"062024_BEL_CBC_T1_1344_SSID\"     \"062024_BEL_CBC_T1_1347_OANN\"    \n",
      "[315] \"062024_BEL_CBC_T1_1350_PSTR\"     \"062024_BEL_CBC_T1_1353_MCAV\"    \n",
      "[317] \"062024_BEL_CBC_T1_1356_PAST\"     \"062024_BEL_CBC_T2_1369_SSID\"    \n",
      "[319] \"062024_BEL_CBC_T2_1396_MCAV\"     \"062024_BEL_CBC_T2_1393_PAST\"    \n",
      "[321] \"062024_BEL_CBC_T2_1402_MCAV\"     \"062024_BEL_CBC_T2_1399_PAST\"    \n",
      "[323] \"062024_BEL_CBC_T2_1372_OFAV\"     \"062024_BEL_CBC_T2_1375_SSID\"    \n",
      "[325] \"062024_BEL_CBC_T2_1378_PAST\"     \"062024_BEL_CBC_T2_1381_SSID\"    \n",
      "[327] \"062024_BEL_CBC_T2_1384_MCAV\"     \"062024_BEL_CBC_T2_1387_OFAV\"    \n",
      "[329] \"062024_BEL_CBC_T4_1467_MCAV\"     \"062024_BEL_CBC_T4_1470_PSTR\"    \n",
      "[331] \"062024_BEL_CBC_T4_1473_PSTR\"     \"062024_BEL_CBC_T4_1458_MCAV\"    \n",
      "[333] \"062024_BEL_CBC_T4_1461_OFAV\"     \"062024_BEL_CBC_T4_1464_MCAV\"    \n",
      "[335] \"082024_BEL_CBC_T1_1479_PAST\"     \"082024_BEL_CBC_T1_1480_SSID\"    \n",
      "[337] \"082024_BEL_CBC_T1_1481_PSTR\"     \"082024_BEL_CBC_T1_1482_OANN\"    \n",
      "[339] \"082024_BEL_CBC_T1_1483_MCAV\"     \"082024_BEL_CBC_T4_1605_MCAV\"    \n",
      "[341] \"082024_BEL_CBC_T4_1606_PSTR\"     \"082024_BEL_CBC_T4_1607_PSTR\"    \n",
      "[343] \"082024_BEL_CBC_T4_1608_MCAV\"     \"082024_BEL_CBC_T4_1609_OFAV\"    \n",
      "[345] \"082024_BEL_CBC_T4_1610_MCAV\"     \"082024_BEL_CBC_T2_1507_OFAV\"    \n",
      "[347] \"082024_BEL_CBC_T2_1508_SSID\"     \"082024_BEL_CBC_T2_1509_SSID\"    \n",
      "[349] \"082024_BEL_CBC_T2_1510_PAST\"     \"082024_BEL_CBC_T2_1511_SSID\"    \n",
      "[351] \"082024_BEL_CBC_T2_1512_PAST\"     \"082024_BEL_CBC_T2_1513_PAST\"    \n",
      "[353] \"082024_BEL_CBC_T2_1514_MCAV\"     \"082024_BEL_CBC_T2_1515_MCAV\"    \n",
      "[355] \"082024_BEL_CBC_T2_1516_OFAV\"     \"082024_BEL_CBC_T2_1517_MCAV\"    \n",
      "[357] \"082024_BEL_CBC_T3_1553_MCAV\"     \"082024_BEL_CBC_T3_1554_OANN\"    \n",
      "[359] \"082024_BEL_CBC_T3_1555_SSID\"     \"082024_BEL_CBC_T3_1556_OFAV\"    \n",
      "[361] \"082024_BEL_CBC_T3_1557_PAST\"     \"082024_BEL_CBC_T3_1558_MCAV\"    \n",
      "[363] \"082024_BEL_CBC_T3_1559_PSTR\"     \"082024_BEL_CBC_T3_1560_PSTR\"    \n",
      "[365] \"082024_BEL_CBC_T3_1561_MCAV\"     \"082024_BEL_CBC_T3_1562_OFAV\"    \n",
      "[367] \"082024_BEL_CBC_T3_1563_SSID\"     \"082024_BEL_CBC_T3_1564_PAST\"    \n"
     ]
    }
   ],
   "source": [
    "# Check to ensure only \"Belize\" was replaced with \"BEL\"\n",
    "print(immune_sample_DNA$Tubelabel_species[grepl(\"BEL\", immune_sample_DNA$Tubelabel_species)])"
   ]
  },
  {
   "cell_type": "code",
   "execution_count": 82,
   "id": "6a766d13-705b-41f6-a1e0-d8f4e0b7e1ab",
   "metadata": {},
   "outputs": [
    {
     "data": {
      "text/html": [
       "<table class=\"dataframe\">\n",
       "<caption>A data.frame: 6 × 8</caption>\n",
       "<thead>\n",
       "\t<tr><th></th><th scope=col>Tubelabel_species</th><th scope=col>Health_Status</th><th scope=col>Date_Extracted</th><th scope=col>Raw_ng_ul</th><th scope=col>Extraction_physical_location</th><th scope=col>Date_Enriched</th><th scope=col>Microbe_Location</th><th scope=col>colony</th></tr>\n",
       "\t<tr><th></th><th scope=col>&lt;chr&gt;</th><th scope=col>&lt;chr&gt;</th><th scope=col>&lt;chr&gt;</th><th scope=col>&lt;chr&gt;</th><th scope=col>&lt;chr&gt;</th><th scope=col>&lt;chr&gt;</th><th scope=col>&lt;chr&gt;</th><th scope=col>&lt;chr&gt;</th></tr>\n",
       "</thead>\n",
       "<tbody>\n",
       "\t<tr><th scope=row>1</th><td>012024_BEL_CBC_T1_557_SSID</td><td>Healthy</td><td>2_17_2025</td><td>44.6</td><td>UML_NARWHAL_R2_B16</td><td></td><td></td><td>1_3 </td></tr>\n",
       "\t<tr><th scope=row>2</th><td>012024_BEL_CBC_T1_559_MCAV</td><td>Healthy</td><td>2_17_2025</td><td>14.8</td><td>UML_NARWHAL_R2_B16</td><td></td><td></td><td>1_24</td></tr>\n",
       "\t<tr><th scope=row>3</th><td>012024_BEL_CBC_T1_561_OANN</td><td>Healthy</td><td>2_17_2025</td><td>18  </td><td>UML_NARWHAL_R2_B16</td><td></td><td></td><td>1_25</td></tr>\n",
       "\t<tr><th scope=row>4</th><td>012024_BEL_CBC_T1_563_PSTR</td><td>Healthy</td><td>2_17_2025</td><td>35.8</td><td>UML_NARWHAL_R2_B16</td><td></td><td></td><td>1_12</td></tr>\n",
       "\t<tr><th scope=row>5</th><td>012024_BEL_CBC_T1_565_PAST</td><td>Healthy</td><td>2_17_2025</td><td>7.72</td><td>UML_NARWHAL_R2_B16</td><td></td><td></td><td>1_21</td></tr>\n",
       "\t<tr><th scope=row>6</th><td>012024_BEL_CBC_T2_585_OFAV</td><td>Healthy</td><td>2_17_2025</td><td>71.6</td><td>UML_NARWHAL_R2_B16</td><td></td><td></td><td>2_76</td></tr>\n",
       "</tbody>\n",
       "</table>\n"
      ],
      "text/latex": [
       "A data.frame: 6 × 8\n",
       "\\begin{tabular}{r|llllllll}\n",
       "  & Tubelabel\\_species & Health\\_Status & Date\\_Extracted & Raw\\_ng\\_ul & Extraction\\_physical\\_location & Date\\_Enriched & Microbe\\_Location & colony\\\\\n",
       "  & <chr> & <chr> & <chr> & <chr> & <chr> & <chr> & <chr> & <chr>\\\\\n",
       "\\hline\n",
       "\t1 & 012024\\_BEL\\_CBC\\_T1\\_557\\_SSID & Healthy & 2\\_17\\_2025 & 44.6 & UML\\_NARWHAL\\_R2\\_B16 &  &  & 1\\_3 \\\\\n",
       "\t2 & 012024\\_BEL\\_CBC\\_T1\\_559\\_MCAV & Healthy & 2\\_17\\_2025 & 14.8 & UML\\_NARWHAL\\_R2\\_B16 &  &  & 1\\_24\\\\\n",
       "\t3 & 012024\\_BEL\\_CBC\\_T1\\_561\\_OANN & Healthy & 2\\_17\\_2025 & 18   & UML\\_NARWHAL\\_R2\\_B16 &  &  & 1\\_25\\\\\n",
       "\t4 & 012024\\_BEL\\_CBC\\_T1\\_563\\_PSTR & Healthy & 2\\_17\\_2025 & 35.8 & UML\\_NARWHAL\\_R2\\_B16 &  &  & 1\\_12\\\\\n",
       "\t5 & 012024\\_BEL\\_CBC\\_T1\\_565\\_PAST & Healthy & 2\\_17\\_2025 & 7.72 & UML\\_NARWHAL\\_R2\\_B16 &  &  & 1\\_21\\\\\n",
       "\t6 & 012024\\_BEL\\_CBC\\_T2\\_585\\_OFAV & Healthy & 2\\_17\\_2025 & 71.6 & UML\\_NARWHAL\\_R2\\_B16 &  &  & 2\\_76\\\\\n",
       "\\end{tabular}\n"
      ],
      "text/markdown": [
       "\n",
       "A data.frame: 6 × 8\n",
       "\n",
       "| <!--/--> | Tubelabel_species &lt;chr&gt; | Health_Status &lt;chr&gt; | Date_Extracted &lt;chr&gt; | Raw_ng_ul &lt;chr&gt; | Extraction_physical_location &lt;chr&gt; | Date_Enriched &lt;chr&gt; | Microbe_Location &lt;chr&gt; | colony &lt;chr&gt; |\n",
       "|---|---|---|---|---|---|---|---|---|\n",
       "| 1 | 012024_BEL_CBC_T1_557_SSID | Healthy | 2_17_2025 | 44.6 | UML_NARWHAL_R2_B16 | <!----> | <!----> | 1_3  |\n",
       "| 2 | 012024_BEL_CBC_T1_559_MCAV | Healthy | 2_17_2025 | 14.8 | UML_NARWHAL_R2_B16 | <!----> | <!----> | 1_24 |\n",
       "| 3 | 012024_BEL_CBC_T1_561_OANN | Healthy | 2_17_2025 | 18   | UML_NARWHAL_R2_B16 | <!----> | <!----> | 1_25 |\n",
       "| 4 | 012024_BEL_CBC_T1_563_PSTR | Healthy | 2_17_2025 | 35.8 | UML_NARWHAL_R2_B16 | <!----> | <!----> | 1_12 |\n",
       "| 5 | 012024_BEL_CBC_T1_565_PAST | Healthy | 2_17_2025 | 7.72 | UML_NARWHAL_R2_B16 | <!----> | <!----> | 1_21 |\n",
       "| 6 | 012024_BEL_CBC_T2_585_OFAV | Healthy | 2_17_2025 | 71.6 | UML_NARWHAL_R2_B16 | <!----> | <!----> | 2_76 |\n",
       "\n"
      ],
      "text/plain": [
       "  Tubelabel_species          Health_Status Date_Extracted Raw_ng_ul\n",
       "1 012024_BEL_CBC_T1_557_SSID Healthy       2_17_2025      44.6     \n",
       "2 012024_BEL_CBC_T1_559_MCAV Healthy       2_17_2025      14.8     \n",
       "3 012024_BEL_CBC_T1_561_OANN Healthy       2_17_2025      18       \n",
       "4 012024_BEL_CBC_T1_563_PSTR Healthy       2_17_2025      35.8     \n",
       "5 012024_BEL_CBC_T1_565_PAST Healthy       2_17_2025      7.72     \n",
       "6 012024_BEL_CBC_T2_585_OFAV Healthy       2_17_2025      71.6     \n",
       "  Extraction_physical_location Date_Enriched Microbe_Location colony\n",
       "1 UML_NARWHAL_R2_B16                                          1_3   \n",
       "2 UML_NARWHAL_R2_B16                                          1_24  \n",
       "3 UML_NARWHAL_R2_B16                                          1_25  \n",
       "4 UML_NARWHAL_R2_B16                                          1_12  \n",
       "5 UML_NARWHAL_R2_B16                                          1_21  \n",
       "6 UML_NARWHAL_R2_B16                                          2_76  "
      ]
     },
     "metadata": {},
     "output_type": "display_data"
    }
   ],
   "source": [
    "# inner join \n",
    "immune_metagenomics_PCR <- merge(x=metagenomics_PCR,y=immune_sample_DNA, \n",
    "                by=\"Tubelabel_species\")\n",
    "head(immune_metagenomics_PCR)"
   ]
  },
  {
   "cell_type": "code",
   "execution_count": 83,
   "id": "62d3439e-8ab6-41b2-8096-cafd53c746f0",
   "metadata": {},
   "outputs": [
    {
     "data": {
      "text/html": [
       "37"
      ],
      "text/latex": [
       "37"
      ],
      "text/markdown": [
       "37"
      ],
      "text/plain": [
       "[1] 37"
      ]
     },
     "metadata": {},
     "output_type": "display_data"
    }
   ],
   "source": [
    "length(unique(immune_metagenomics_PCR$colony))"
   ]
  },
  {
   "cell_type": "code",
   "execution_count": 84,
   "id": "2c6e7c64-9a8e-4f4e-94a6-b7014d045eaa",
   "metadata": {},
   "outputs": [
    {
     "data": {
      "text/html": [
       "368"
      ],
      "text/latex": [
       "368"
      ],
      "text/markdown": [
       "368"
      ],
      "text/plain": [
       "[1] 368"
      ]
     },
     "metadata": {},
     "output_type": "display_data"
    }
   ],
   "source": [
    "nrow(immune_sample_DNA)"
   ]
  },
  {
   "cell_type": "code",
   "execution_count": 85,
   "id": "402ba544-fe84-4ed2-8734-b103d176dacc",
   "metadata": {},
   "outputs": [
    {
     "data": {
      "text/html": [
       "373"
      ],
      "text/latex": [
       "373"
      ],
      "text/markdown": [
       "373"
      ],
      "text/plain": [
       "[1] 373"
      ]
     },
     "metadata": {},
     "output_type": "display_data"
    }
   ],
   "source": [
    "nrow(immune_metagenomics_PCR)"
   ]
  },
  {
   "cell_type": "code",
   "execution_count": 86,
   "id": "295f41de-3cc8-4e84-9187-149d8ecd0a28",
   "metadata": {},
   "outputs": [
    {
     "data": {
      "text/html": [
       "0"
      ],
      "text/latex": [
       "0"
      ],
      "text/markdown": [
       "0"
      ],
      "text/plain": [
       "[1] 0"
      ]
     },
     "metadata": {},
     "output_type": "display_data"
    },
    {
     "data": {
      "text/html": [
       "<table class=\"dataframe\">\n",
       "<caption>A data.frame: 0 × 2</caption>\n",
       "<thead>\n",
       "\t<tr><th scope=col>Tubelabel_species</th><th scope=col>colony</th></tr>\n",
       "\t<tr><th scope=col>&lt;chr&gt;</th><th scope=col>&lt;chr&gt;</th></tr>\n",
       "</thead>\n",
       "<tbody>\n",
       "</tbody>\n",
       "</table>\n"
      ],
      "text/latex": [
       "A data.frame: 0 × 2\n",
       "\\begin{tabular}{ll}\n",
       " Tubelabel\\_species & colony\\\\\n",
       " <chr> & <chr>\\\\\n",
       "\\hline\n",
       "\\end{tabular}\n"
      ],
      "text/markdown": [
       "\n",
       "A data.frame: 0 × 2\n",
       "\n",
       "| Tubelabel_species &lt;chr&gt; | colony &lt;chr&gt; |\n",
       "|---|---|\n",
       "\n"
      ],
      "text/plain": [
       "     Tubelabel_species colony"
      ]
     },
     "metadata": {},
     "output_type": "display_data"
    }
   ],
   "source": [
    "#check to see why there is a discrepancy from immune_sample_DNA to immune_metagenomics_PCR\n",
    "immune_unmatched=anti_join(immune_sample_DNA, immune_metagenomics_PCR, by='Tubelabel_species')\n",
    "nrow(immune_unmatched)\n",
    "(immune_unmatched)"
   ]
  },
  {
   "cell_type": "code",
   "execution_count": 87,
   "id": "fd422b2e-c6e8-47d2-98ce-577c57e40995",
   "metadata": {},
   "outputs": [],
   "source": [
    "#manually corrected for these unmatched values in metagenomics tracker and CBC_samples\n",
    "#mostly my own typos\n",
    "#find 052022_BEL_CBC_T3_25_PAST extraction\n",
    "#do we want to extract 012024?"
   ]
  },
  {
   "cell_type": "code",
   "execution_count": 88,
   "id": "9a7042d1-b50e-4970-81d5-2083c32fd3a9",
   "metadata": {},
   "outputs": [],
   "source": [
    "#make spreadsheet with all immune metagenomics \n",
    "write.csv(immune_metagenomics_PCR, file=\"~/Documents/SCTLD/Coral_Code/NSF_Rapid/CBC_PCR_Plan/2_immune_metagenomics_PCR.csv\")"
   ]
  },
  {
   "cell_type": "code",
   "execution_count": 132,
   "id": "20c0b7b4-1b9f-4897-aafa-5bb0f0a235cb",
   "metadata": {},
   "outputs": [],
   "source": [
    "# Step 1: Load your data\n",
    "immune_metagenomics_PCR <- read.csv(\"2_immune_metagenomics_PCR.csv\")\n",
    "\n",
    "# Step 2: Shuffle the rows\n",
    "randomized_immune_metagenomics_PCR <- immune_metagenomics_PCR[sample(nrow(immune_metagenomics_PCR)), ]\n",
    "\n",
    "# Step 3: Save the shuffled data to a new .csv file\n",
    "write.csv(randomized_immune_metagenomics_PCR, \"~/Documents/SCTLD/Coral_Code/NSF_Rapid/CBC_PCR_Plan/2_randomized_immune_metagenomics_PCR.csv\", row.names = FALSE)"
   ]
  },
  {
   "cell_type": "code",
   "execution_count": 54,
   "id": "072bc4b0-c1c8-46e6-90ab-11abc42ba592",
   "metadata": {},
   "outputs": [],
   "source": [
    "\n",
    "\n",
    "\n",
    "#now I want to coelese the order so the first 96 samples match randomized_immune_metagenomics_PCR\n",
    "#first I'll make \"Date_16S\" and Date_ITS2 columns in 2_randomized\n",
    "\n",
    "#open files \n",
    "two= read.csv(\"~/Documents/SCTLD/Coral_Code/NSF_Rapid/CBC_PCR_Plan/2_randomized_immune_metagenomics_PCR.csv\")\n",
    "one=read.csv(\"~/Documents/SCTLD/Coral_Code/NSF_Rapid/CBC_PCR_Plan/randomized_immune_metagenomics_PCR.csv\")\n",
    "\n",
    "# Step 1: Create 'Date_16S' column in df 'two' with NA values\n",
    "two <- two %>%\n",
    "  mutate(Date_16S = NA)\n",
    "\n",
    "# Step 2: Coalesce values (e.g., combine one$Date_16S and two$Date_16S)\n",
    "two$Date_16S <- coalesce(one$Date_16S[match(two$Tubelabel_species, one$Tubelabel_species)], two$Date_16S)"
   ]
  },
  {
   "cell_type": "code",
   "execution_count": 55,
   "id": "453bd14c-3791-45c4-bc9a-8bba112e7de3",
   "metadata": {},
   "outputs": [
    {
     "data": {
      "text/html": [
       "'character'"
      ],
      "text/latex": [
       "'character'"
      ],
      "text/markdown": [
       "'character'"
      ],
      "text/plain": [
       "[1] \"character\""
      ]
     },
     "metadata": {},
     "output_type": "display_data"
    }
   ],
   "source": [
    "class(two$Date_16S)"
   ]
  },
  {
   "cell_type": "code",
   "execution_count": 56,
   "id": "e7f352ea-e76f-4470-ab2d-2ea1a33ce36a",
   "metadata": {},
   "outputs": [],
   "source": [
    "two <- two %>%\n",
    "  mutate(\n",
    "    # Ensure character\n",
    "    Date_16S = as.character(Date_16S),\n",
    "\n",
    "    # Replace blanks with NA\n",
    "    Date_16S = ifelse(Date_16S == \"\", NA, Date_16S),\n",
    "\n",
    "    # Temporarily convert to Date object\n",
    "    Date_parsed = as.Date(Date_16S, format = \"%m_%d_%Y\")\n",
    "  ) %>%\n",
    "  \n",
    "  # Sort using parsed Date\n",
    "  arrange(is.na(Date_parsed), Date_parsed) %>%\n",
    "  \n",
    "  # Restore original format (m_d_Y) for display\n",
    "  mutate(\n",
    "    Date_16S = ifelse(\n",
    "      is.na(Date_parsed),\n",
    "      NA,\n",
    "      format(Date_parsed, \"%-m_%-d_%Y\")  # e.g., 1_2_2025\n",
    "    )\n",
    "  ) %>%\n",
    "  \n",
    "  # Drop the temporary parsed date column\n",
    "  select(-Date_parsed)\n"
   ]
  },
  {
   "cell_type": "code",
   "execution_count": 57,
   "id": "08f62ae5-c701-4943-b01d-a92c6cdcafa2",
   "metadata": {},
   "outputs": [
    {
     "data": {
      "text/html": [
       "<style>\n",
       ".list-inline {list-style: none; margin:0; padding: 0}\n",
       ".list-inline>li {display: inline-block}\n",
       ".list-inline>li:not(:last-child)::after {content: \"\\00b7\"; padding: 0 .5ex}\n",
       "</style>\n",
       "<ol class=list-inline><li>'1_2_2025'</li><li>'1_2_2025'</li><li>'1_2_2025'</li><li>'1_2_2025'</li><li>'1_2_2025'</li><li>'1_2_2025'</li></ol>\n"
      ],
      "text/latex": [
       "\\begin{enumerate*}\n",
       "\\item '1\\_2\\_2025'\n",
       "\\item '1\\_2\\_2025'\n",
       "\\item '1\\_2\\_2025'\n",
       "\\item '1\\_2\\_2025'\n",
       "\\item '1\\_2\\_2025'\n",
       "\\item '1\\_2\\_2025'\n",
       "\\end{enumerate*}\n"
      ],
      "text/markdown": [
       "1. '1_2_2025'\n",
       "2. '1_2_2025'\n",
       "3. '1_2_2025'\n",
       "4. '1_2_2025'\n",
       "5. '1_2_2025'\n",
       "6. '1_2_2025'\n",
       "\n",
       "\n"
      ],
      "text/plain": [
       "[1] \"1_2_2025\" \"1_2_2025\" \"1_2_2025\" \"1_2_2025\" \"1_2_2025\" \"1_2_2025\""
      ]
     },
     "metadata": {},
     "output_type": "display_data"
    }
   ],
   "source": [
    "head(two$Date_16S)"
   ]
  },
  {
   "cell_type": "code",
   "execution_count": 58,
   "id": "ca5fd53e-2788-4d66-ba28-77a341e87cf5",
   "metadata": {},
   "outputs": [
    {
     "data": {
      "text/html": [
       "<style>\n",
       ".list-inline {list-style: none; margin:0; padding: 0}\n",
       ".list-inline>li {display: inline-block}\n",
       ".list-inline>li:not(:last-child)::after {content: \"\\00b7\"; padding: 0 .5ex}\n",
       "</style>\n",
       "<ol class=list-inline><li>'1_2_2025'</li><li>'1_22_2025'</li><li>'1_23_2025'</li><li>'2_24_2025'</li><li>'2_25_2025'</li><li>'2_26_2025'</li><li>'2_27_2025'</li><li>'3_4_2025'</li><li>'3_6_2025'</li><li>'3_7_2025'</li><li>'3_10_2025'</li><li>NA</li></ol>\n"
      ],
      "text/latex": [
       "\\begin{enumerate*}\n",
       "\\item '1\\_2\\_2025'\n",
       "\\item '1\\_22\\_2025'\n",
       "\\item '1\\_23\\_2025'\n",
       "\\item '2\\_24\\_2025'\n",
       "\\item '2\\_25\\_2025'\n",
       "\\item '2\\_26\\_2025'\n",
       "\\item '2\\_27\\_2025'\n",
       "\\item '3\\_4\\_2025'\n",
       "\\item '3\\_6\\_2025'\n",
       "\\item '3\\_7\\_2025'\n",
       "\\item '3\\_10\\_2025'\n",
       "\\item NA\n",
       "\\end{enumerate*}\n"
      ],
      "text/markdown": [
       "1. '1_2_2025'\n",
       "2. '1_22_2025'\n",
       "3. '1_23_2025'\n",
       "4. '2_24_2025'\n",
       "5. '2_25_2025'\n",
       "6. '2_26_2025'\n",
       "7. '2_27_2025'\n",
       "8. '3_4_2025'\n",
       "9. '3_6_2025'\n",
       "10. '3_7_2025'\n",
       "11. '3_10_2025'\n",
       "12. NA\n",
       "\n",
       "\n"
      ],
      "text/plain": [
       " [1] \"1_2_2025\"  \"1_22_2025\" \"1_23_2025\" \"2_24_2025\" \"2_25_2025\" \"2_26_2025\"\n",
       " [7] \"2_27_2025\" \"3_4_2025\"  \"3_6_2025\"  \"3_7_2025\"  \"3_10_2025\" NA         "
      ]
     },
     "metadata": {},
     "output_type": "display_data"
    }
   ],
   "source": [
    "unique(two$Date_16S)"
   ]
  },
  {
   "cell_type": "code",
   "execution_count": 59,
   "id": "b7177cda-4396-4b35-8570-6cbb59b6d784",
   "metadata": {},
   "outputs": [],
   "source": [
    "#repeat with ITS2\n",
    "# Step 1: Create 'Date_ITS2' column in df 'two' with NA values\n",
    "two <- two %>%\n",
    "  mutate(Date_ITS2 = NA)\n",
    "\n",
    "# Step 2: Coalesce values (e.g., combine one$Date_16S and two$Date_16S)\n",
    "two$Date_ITS2 <- coalesce(one$Date_ITS2[match(two$Tubelabel_species, one$Tubelabel_species)], two$Date_ITS2)"
   ]
  },
  {
   "cell_type": "code",
   "execution_count": 60,
   "id": "1d4be856-8ffc-4fad-b83c-8287be8f340a",
   "metadata": {},
   "outputs": [
    {
     "data": {
      "text/html": [
       "<style>\n",
       ".list-inline {list-style: none; margin:0; padding: 0}\n",
       ".list-inline>li {display: inline-block}\n",
       ".list-inline>li:not(:last-child)::after {content: \"\\00b7\"; padding: 0 .5ex}\n",
       "</style>\n",
       "<ol class=list-inline><li>'6_26_2025'</li><li>'6_27_2025'</li><li>'6_30_2025'</li><li>'7_2_2025'</li><li>'7_3_2025'</li><li>'7_7_2025'</li><li>'7_9_2025'</li><li>'7_10_2025'</li><li>'7_11_2025'</li><li>NA</li></ol>\n"
      ],
      "text/latex": [
       "\\begin{enumerate*}\n",
       "\\item '6\\_26\\_2025'\n",
       "\\item '6\\_27\\_2025'\n",
       "\\item '6\\_30\\_2025'\n",
       "\\item '7\\_2\\_2025'\n",
       "\\item '7\\_3\\_2025'\n",
       "\\item '7\\_7\\_2025'\n",
       "\\item '7\\_9\\_2025'\n",
       "\\item '7\\_10\\_2025'\n",
       "\\item '7\\_11\\_2025'\n",
       "\\item NA\n",
       "\\end{enumerate*}\n"
      ],
      "text/markdown": [
       "1. '6_26_2025'\n",
       "2. '6_27_2025'\n",
       "3. '6_30_2025'\n",
       "4. '7_2_2025'\n",
       "5. '7_3_2025'\n",
       "6. '7_7_2025'\n",
       "7. '7_9_2025'\n",
       "8. '7_10_2025'\n",
       "9. '7_11_2025'\n",
       "10. NA\n",
       "\n",
       "\n"
      ],
      "text/plain": [
       " [1] \"6_26_2025\" \"6_27_2025\" \"6_30_2025\" \"7_2_2025\"  \"7_3_2025\"  \"7_7_2025\" \n",
       " [7] \"7_9_2025\"  \"7_10_2025\" \"7_11_2025\" NA         "
      ]
     },
     "metadata": {},
     "output_type": "display_data"
    }
   ],
   "source": [
    "two <- two %>%\n",
    "  mutate(\n",
    "    # Ensure character\n",
    "    Date_ITS2 = as.character(Date_ITS2),\n",
    "\n",
    "    # Replace blanks with NA\n",
    "    Date_ITS2 = ifelse(Date_ITS2 == \"\", NA, Date_ITS2),\n",
    "\n",
    "    # Temporarily convert to Date object\n",
    "    Date_ITS2_parsed = as.Date(Date_ITS2, format = \"%m_%d_%Y\")\n",
    "  ) %>%\n",
    "  \n",
    "  # Sort using parsed Date\n",
    "  arrange(is.na(Date_ITS2_parsed), Date_ITS2_parsed) %>%\n",
    "  \n",
    "  # Restore original format (m_d_Y) for display\n",
    "  mutate(\n",
    "    Date_ITS2 = ifelse(\n",
    "      is.na(Date_ITS2_parsed),\n",
    "      NA,\n",
    "      format(Date_ITS2_parsed, \"%-m_%-d_%Y\")  # e.g., 1_2_2025\n",
    "    )\n",
    "  ) %>%\n",
    "  \n",
    "  # Drop the temporary parsed date column\n",
    "  select(-Date_ITS2_parsed)\n",
    "unique(two$Date_ITS2)"
   ]
  },
  {
   "cell_type": "code",
   "execution_count": 62,
   "id": "698cdeb5-7c0e-47a2-9584-0fb55fbff9a2",
   "metadata": {},
   "outputs": [],
   "source": [
    "write.csv(two, file=\"~/Documents/SCTLD/Coral_Code/NSF_Rapid/CBC_PCR_Plan/2_randomized_immune_metagenomics_PCR.csv\")"
   ]
  },
  {
   "cell_type": "code",
   "execution_count": null,
   "id": "56c33502-c1b0-4997-8734-8781f9e4ed49",
   "metadata": {},
   "outputs": [],
   "source": []
  }
 ],
 "metadata": {
  "kernelspec": {
   "display_name": "R",
   "language": "R",
   "name": "ir"
  },
  "language_info": {
   "codemirror_mode": "r",
   "file_extension": ".r",
   "mimetype": "text/x-r-source",
   "name": "R",
   "pygments_lexer": "r",
   "version": "4.3.3"
  }
 },
 "nbformat": 4,
 "nbformat_minor": 5
}
