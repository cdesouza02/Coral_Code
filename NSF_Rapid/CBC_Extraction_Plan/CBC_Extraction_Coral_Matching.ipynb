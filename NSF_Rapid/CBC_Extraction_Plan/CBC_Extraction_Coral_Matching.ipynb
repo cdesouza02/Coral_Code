{
 "cells": [
  {
   "cell_type": "code",
   "execution_count": 32,
   "id": "26cede72-a6c9-4cf8-b6f0-c38cacd6fe50",
   "metadata": {},
   "outputs": [],
   "source": [
    "#load necessary packages\n",
    "require(tidyr)\n",
    "require(dplyr)"
   ]
  },
  {
   "cell_type": "code",
   "execution_count": 33,
   "id": "6eea4709-60c8-4dd5-ab49-e946004fb51a",
   "metadata": {},
   "outputs": [],
   "source": [
    "#load Colony_Data.csv\n",
    "colony=read.csv(\"~/Documents/SCTLD/SCTLD_samples/Sample_Data/CBC_ColonyData.csv\")"
   ]
  },
  {
   "cell_type": "code",
   "execution_count": 34,
   "id": "ffb81915-ba1b-4ec7-9dd2-55428fbd8acd",
   "metadata": {},
   "outputs": [],
   "source": [
    "#load sample_data\n",
    "sample=read.csv(\"~/Documents/SCTLD/SCTLD_samples/Sample_Data/CBC_samples.csv\")"
   ]
  },
  {
   "cell_type": "code",
   "execution_count": 35,
   "id": "9e6d9f9f-a7ee-4493-9cc6-0204d8177c24",
   "metadata": {},
   "outputs": [],
   "source": [
    "colony_immune=colony[colony$immune_y.n==\"y\",]\n",
    "colony_immune=as.vector(paste0(colony_immune$TransectNum,\"_\", colony_immune$NewTagNum))"
   ]
  },
  {
   "cell_type": "code",
   "execution_count": 36,
   "id": "fddc7f72-757f-4432-a0c7-9bd3caa078b1",
   "metadata": {},
   "outputs": [],
   "source": [
    "#make new column in sample df for colony info\n",
    "sample$colony= colony= c(paste0(sample$TransectNum, \"_\", sample$NewTagNum))                      "
   ]
  },
  {
   "cell_type": "code",
   "execution_count": 37,
   "id": "5f8290a0-92d1-4ce4-878f-30ef0c8a4454",
   "metadata": {},
   "outputs": [],
   "source": [
    "# only utilize EtOH and RNALater samples\n",
    "sample_DNA=sample[sample$Sample_type==\"Core_EtOH\"|sample$Sample_type==\"Core_RNAlater\",]"
   ]
  },
  {
   "cell_type": "code",
   "execution_count": 38,
   "id": "ac1c0504-57a2-4a8c-b7b3-75fba30fc246",
   "metadata": {},
   "outputs": [
    {
     "data": {
      "text/html": [
       "<table class=\"dataframe\">\n",
       "<caption>A data.frame: 6 × 21</caption>\n",
       "<thead>\n",
       "\t<tr><th></th><th scope=col>Month_year</th><th scope=col>Country</th><th scope=col>Location</th><th scope=col>CollectionDate</th><th scope=col>Transect</th><th scope=col>TransectNum</th><th scope=col>OldTagNum</th><th scope=col>NewTagNum</th><th scope=col>Species</th><th scope=col>Time_sampled</th><th scope=col>⋯</th><th scope=col>Sample_type</th><th scope=col>SampleNum</th><th scope=col>Health_status</th><th scope=col>Sampling_notes</th><th scope=col>Tubelabel_species</th><th scope=col>Sample_physical_location</th><th scope=col>Extraction_physical_location</th><th scope=col>Date_sequenced</th><th scope=col>Notes</th><th scope=col>colony</th></tr>\n",
       "\t<tr><th></th><th scope=col>&lt;int&gt;</th><th scope=col>&lt;chr&gt;</th><th scope=col>&lt;chr&gt;</th><th scope=col>&lt;chr&gt;</th><th scope=col>&lt;chr&gt;</th><th scope=col>&lt;int&gt;</th><th scope=col>&lt;chr&gt;</th><th scope=col>&lt;chr&gt;</th><th scope=col>&lt;chr&gt;</th><th scope=col>&lt;chr&gt;</th><th scope=col>⋯</th><th scope=col>&lt;chr&gt;</th><th scope=col>&lt;chr&gt;</th><th scope=col>&lt;chr&gt;</th><th scope=col>&lt;chr&gt;</th><th scope=col>&lt;chr&gt;</th><th scope=col>&lt;chr&gt;</th><th scope=col>&lt;chr&gt;</th><th scope=col>&lt;chr&gt;</th><th scope=col>&lt;chr&gt;</th><th scope=col>&lt;chr&gt;</th></tr>\n",
       "</thead>\n",
       "<tbody>\n",
       "\t<tr><th scope=row>2</th><td>92023</td><td>BEL</td><td>CBC</td><td>9/27/23</td><td>CBC30N</td><td>1</td><td></td><td>1 </td><td>SSID</td><td></td><td>⋯</td><td>Core_RNAlater</td><td>185</td><td>Diseased_Margin</td><td>only margin sample available</td><td>092023_BEL_CBC_T1_185_SSID</td><td>UML_NARWHAL_R1_B10</td><td>                  </td><td></td><td>                      </td><td>1_1 </td></tr>\n",
       "\t<tr><th scope=row>3</th><td>92023</td><td>BEL</td><td>CBC</td><td>9/25/23</td><td>CBC30N</td><td>1</td><td></td><td>2 </td><td>PAST</td><td></td><td>⋯</td><td>Core_RNAlater</td><td>171</td><td>Healthy        </td><td>CLP 90%                     </td><td>092023_BEL_CBC_T1_171_PAST</td><td>UML_NARWHAL_R1_B10</td><td>UML_NARWHAL_R2_B12</td><td></td><td>                      </td><td>1_2 </td></tr>\n",
       "\t<tr><th scope=row>4</th><td>92023</td><td>BEL</td><td>CBC</td><td>9/25/23</td><td>CBC30N</td><td>1</td><td></td><td>3 </td><td>SSID</td><td></td><td>⋯</td><td>Core_RNAlater</td><td>173</td><td>Healthy        </td><td>CLP 80%; DC 20%             </td><td>092023_BEL_CBC_T1_173_SSID</td><td>UML_NARWHAL_R1_B10</td><td>UML_NARWHAL_R2_B12</td><td></td><td>                      </td><td>1_3 </td></tr>\n",
       "\t<tr><th scope=row>5</th><td>92023</td><td>BEL</td><td>CBC</td><td>9/25/23</td><td>CBC30N</td><td>1</td><td></td><td>12</td><td>PSTR</td><td></td><td>⋯</td><td>Core_RNAlater</td><td>177</td><td>Healthy        </td><td>No CL                       </td><td>092023_BEL_CBC_T1_177_PSTR</td><td>UML_NARWHAL_R1_B10</td><td>UML_NARWHAL_R2_B12</td><td></td><td>                      </td><td>1_12</td></tr>\n",
       "\t<tr><th scope=row>6</th><td>92023</td><td>BEL</td><td>CBC</td><td>9/25/23</td><td>CBC30N</td><td>1</td><td></td><td>13</td><td>PAST</td><td></td><td>⋯</td><td>Core_RNAlater</td><td>175</td><td>Healthy        </td><td>No CL                       </td><td>092023_BEL_CBC_T1_175_PAST</td><td>UML_NARWHAL_R1_B10</td><td>UML_NARWHAL_R2_B12</td><td></td><td>R2_B15 EXTRACTED TWICE</td><td>1_13</td></tr>\n",
       "\t<tr><th scope=row>7</th><td>92023</td><td>BEL</td><td>CBC</td><td>9/27/23</td><td>CBC30N</td><td>1</td><td></td><td>5 </td><td>SSID</td><td></td><td>⋯</td><td>Core_RNAlater</td><td>188</td><td>Diseased_Tissue</td><td>                            </td><td>092023_BEL_CBC_T1_188_SSID</td><td>UML_NARWHAL_R1_B10</td><td>UML_NARWHAL_R2_B11</td><td></td><td>                      </td><td>1_5 </td></tr>\n",
       "</tbody>\n",
       "</table>\n"
      ],
      "text/latex": [
       "A data.frame: 6 × 21\n",
       "\\begin{tabular}{r|lllllllllllllllllllll}\n",
       "  & Month\\_year & Country & Location & CollectionDate & Transect & TransectNum & OldTagNum & NewTagNum & Species & Time\\_sampled & ⋯ & Sample\\_type & SampleNum & Health\\_status & Sampling\\_notes & Tubelabel\\_species & Sample\\_physical\\_location & Extraction\\_physical\\_location & Date\\_sequenced & Notes & colony\\\\\n",
       "  & <int> & <chr> & <chr> & <chr> & <chr> & <int> & <chr> & <chr> & <chr> & <chr> & ⋯ & <chr> & <chr> & <chr> & <chr> & <chr> & <chr> & <chr> & <chr> & <chr> & <chr>\\\\\n",
       "\\hline\n",
       "\t2 & 92023 & BEL & CBC & 9/27/23 & CBC30N & 1 &  & 1  & SSID &  & ⋯ & Core\\_RNAlater & 185 & Diseased\\_Margin & only margin sample available & 092023\\_BEL\\_CBC\\_T1\\_185\\_SSID & UML\\_NARWHAL\\_R1\\_B10 &                    &  &                        & 1\\_1 \\\\\n",
       "\t3 & 92023 & BEL & CBC & 9/25/23 & CBC30N & 1 &  & 2  & PAST &  & ⋯ & Core\\_RNAlater & 171 & Healthy         & CLP 90\\%                      & 092023\\_BEL\\_CBC\\_T1\\_171\\_PAST & UML\\_NARWHAL\\_R1\\_B10 & UML\\_NARWHAL\\_R2\\_B12 &  &                        & 1\\_2 \\\\\n",
       "\t4 & 92023 & BEL & CBC & 9/25/23 & CBC30N & 1 &  & 3  & SSID &  & ⋯ & Core\\_RNAlater & 173 & Healthy         & CLP 80\\%; DC 20\\%              & 092023\\_BEL\\_CBC\\_T1\\_173\\_SSID & UML\\_NARWHAL\\_R1\\_B10 & UML\\_NARWHAL\\_R2\\_B12 &  &                        & 1\\_3 \\\\\n",
       "\t5 & 92023 & BEL & CBC & 9/25/23 & CBC30N & 1 &  & 12 & PSTR &  & ⋯ & Core\\_RNAlater & 177 & Healthy         & No CL                        & 092023\\_BEL\\_CBC\\_T1\\_177\\_PSTR & UML\\_NARWHAL\\_R1\\_B10 & UML\\_NARWHAL\\_R2\\_B12 &  &                        & 1\\_12\\\\\n",
       "\t6 & 92023 & BEL & CBC & 9/25/23 & CBC30N & 1 &  & 13 & PAST &  & ⋯ & Core\\_RNAlater & 175 & Healthy         & No CL                        & 092023\\_BEL\\_CBC\\_T1\\_175\\_PAST & UML\\_NARWHAL\\_R1\\_B10 & UML\\_NARWHAL\\_R2\\_B12 &  & R2\\_B15 EXTRACTED TWICE & 1\\_13\\\\\n",
       "\t7 & 92023 & BEL & CBC & 9/27/23 & CBC30N & 1 &  & 5  & SSID &  & ⋯ & Core\\_RNAlater & 188 & Diseased\\_Tissue &                              & 092023\\_BEL\\_CBC\\_T1\\_188\\_SSID & UML\\_NARWHAL\\_R1\\_B10 & UML\\_NARWHAL\\_R2\\_B11 &  &                        & 1\\_5 \\\\\n",
       "\\end{tabular}\n"
      ],
      "text/markdown": [
       "\n",
       "A data.frame: 6 × 21\n",
       "\n",
       "| <!--/--> | Month_year &lt;int&gt; | Country &lt;chr&gt; | Location &lt;chr&gt; | CollectionDate &lt;chr&gt; | Transect &lt;chr&gt; | TransectNum &lt;int&gt; | OldTagNum &lt;chr&gt; | NewTagNum &lt;chr&gt; | Species &lt;chr&gt; | Time_sampled &lt;chr&gt; | ⋯ ⋯ | Sample_type &lt;chr&gt; | SampleNum &lt;chr&gt; | Health_status &lt;chr&gt; | Sampling_notes &lt;chr&gt; | Tubelabel_species &lt;chr&gt; | Sample_physical_location &lt;chr&gt; | Extraction_physical_location &lt;chr&gt; | Date_sequenced &lt;chr&gt; | Notes &lt;chr&gt; | colony &lt;chr&gt; |\n",
       "|---|---|---|---|---|---|---|---|---|---|---|---|---|---|---|---|---|---|---|---|---|---|\n",
       "| 2 | 92023 | BEL | CBC | 9/27/23 | CBC30N | 1 | <!----> | 1  | SSID | <!----> | ⋯ | Core_RNAlater | 185 | Diseased_Margin | only margin sample available | 092023_BEL_CBC_T1_185_SSID | UML_NARWHAL_R1_B10 | <!----> | <!----> | <!----> | 1_1  |\n",
       "| 3 | 92023 | BEL | CBC | 9/25/23 | CBC30N | 1 | <!----> | 2  | PAST | <!----> | ⋯ | Core_RNAlater | 171 | Healthy         | CLP 90%                      | 092023_BEL_CBC_T1_171_PAST | UML_NARWHAL_R1_B10 | UML_NARWHAL_R2_B12 | <!----> | <!----> | 1_2  |\n",
       "| 4 | 92023 | BEL | CBC | 9/25/23 | CBC30N | 1 | <!----> | 3  | SSID | <!----> | ⋯ | Core_RNAlater | 173 | Healthy         | CLP 80%; DC 20%              | 092023_BEL_CBC_T1_173_SSID | UML_NARWHAL_R1_B10 | UML_NARWHAL_R2_B12 | <!----> | <!----> | 1_3  |\n",
       "| 5 | 92023 | BEL | CBC | 9/25/23 | CBC30N | 1 | <!----> | 12 | PSTR | <!----> | ⋯ | Core_RNAlater | 177 | Healthy         | No CL                        | 092023_BEL_CBC_T1_177_PSTR | UML_NARWHAL_R1_B10 | UML_NARWHAL_R2_B12 | <!----> | <!----> | 1_12 |\n",
       "| 6 | 92023 | BEL | CBC | 9/25/23 | CBC30N | 1 | <!----> | 13 | PAST | <!----> | ⋯ | Core_RNAlater | 175 | Healthy         | No CL                        | 092023_BEL_CBC_T1_175_PAST | UML_NARWHAL_R1_B10 | UML_NARWHAL_R2_B12 | <!----> | R2_B15 EXTRACTED TWICE | 1_13 |\n",
       "| 7 | 92023 | BEL | CBC | 9/27/23 | CBC30N | 1 | <!----> | 5  | SSID | <!----> | ⋯ | Core_RNAlater | 188 | Diseased_Tissue | <!----> | 092023_BEL_CBC_T1_188_SSID | UML_NARWHAL_R1_B10 | UML_NARWHAL_R2_B11 | <!----> | <!----> | 1_5  |\n",
       "\n"
      ],
      "text/plain": [
       "  Month_year Country Location CollectionDate Transect TransectNum OldTagNum\n",
       "2 92023      BEL     CBC      9/27/23        CBC30N   1                    \n",
       "3 92023      BEL     CBC      9/25/23        CBC30N   1                    \n",
       "4 92023      BEL     CBC      9/25/23        CBC30N   1                    \n",
       "5 92023      BEL     CBC      9/25/23        CBC30N   1                    \n",
       "6 92023      BEL     CBC      9/25/23        CBC30N   1                    \n",
       "7 92023      BEL     CBC      9/27/23        CBC30N   1                    \n",
       "  NewTagNum Species Time_sampled ⋯ Sample_type   SampleNum Health_status  \n",
       "2 1         SSID                 ⋯ Core_RNAlater 185       Diseased_Margin\n",
       "3 2         PAST                 ⋯ Core_RNAlater 171       Healthy        \n",
       "4 3         SSID                 ⋯ Core_RNAlater 173       Healthy        \n",
       "5 12        PSTR                 ⋯ Core_RNAlater 177       Healthy        \n",
       "6 13        PAST                 ⋯ Core_RNAlater 175       Healthy        \n",
       "7 5         SSID                 ⋯ Core_RNAlater 188       Diseased_Tissue\n",
       "  Sampling_notes               Tubelabel_species         \n",
       "2 only margin sample available 092023_BEL_CBC_T1_185_SSID\n",
       "3 CLP 90%                      092023_BEL_CBC_T1_171_PAST\n",
       "4 CLP 80%; DC 20%              092023_BEL_CBC_T1_173_SSID\n",
       "5 No CL                        092023_BEL_CBC_T1_177_PSTR\n",
       "6 No CL                        092023_BEL_CBC_T1_175_PAST\n",
       "7                              092023_BEL_CBC_T1_188_SSID\n",
       "  Sample_physical_location Extraction_physical_location Date_sequenced\n",
       "2 UML_NARWHAL_R1_B10                                                  \n",
       "3 UML_NARWHAL_R1_B10       UML_NARWHAL_R2_B12                         \n",
       "4 UML_NARWHAL_R1_B10       UML_NARWHAL_R2_B12                         \n",
       "5 UML_NARWHAL_R1_B10       UML_NARWHAL_R2_B12                         \n",
       "6 UML_NARWHAL_R1_B10       UML_NARWHAL_R2_B12                         \n",
       "7 UML_NARWHAL_R1_B10       UML_NARWHAL_R2_B11                         \n",
       "  Notes                  colony\n",
       "2                        1_1   \n",
       "3                        1_2   \n",
       "4                        1_3   \n",
       "5                        1_12  \n",
       "6 R2_B15 EXTRACTED TWICE 1_13  \n",
       "7                        1_5   "
      ]
     },
     "metadata": {},
     "output_type": "display_data"
    }
   ],
   "source": [
    "head(sample_DNA)"
   ]
  },
  {
   "cell_type": "code",
   "execution_count": 39,
   "id": "780ed08c-5bf2-47f8-ab92-eb8868e19b21",
   "metadata": {},
   "outputs": [],
   "source": [
    "#isolate samples that have not been extracted by tubelabel_species\n",
    "sample_extract=sample_DNA[sample_DNA$Extraction_physical_location==\"\",]\n",
    "sample_extract=as.vector(sample_extract$Tubelabel_species)"
   ]
  },
  {
   "cell_type": "code",
   "execution_count": 40,
   "id": "ef87af6a-ce71-4ca4-b542-03e83150fb0f",
   "metadata": {},
   "outputs": [],
   "source": [
    "#info we are using to make this table\n",
    "sample_DNA=sample_DNA[c(\"Month_year\", \"colony\", \"Tubelabel_species\")]"
   ]
  },
  {
   "cell_type": "code",
   "execution_count": 41,
   "id": "16fdb3cf-77b9-4fd3-aaf3-256c7247a5dc",
   "metadata": {},
   "outputs": [
    {
     "data": {
      "text/html": [
       "<style>\n",
       ".list-inline {list-style: none; margin:0; padding: 0}\n",
       ".list-inline>li {display: inline-block}\n",
       ".list-inline>li:not(:last-child)::after {content: \"\\00b7\"; padding: 0 .5ex}\n",
       "</style>\n",
       "<ol class=list-inline><li>'092023_BEL_CBC_T1_185_SSID'</li><li>'092023_BEL_CBC_T1_189_SSID'</li><li>'092023_BEL_CBC_T1_181_MCAV'</li><li>'092023_BEL_CBC_T1_192_SSID'</li><li>'092023_BEL_CBC_T1_193_SSID'</li><li>'092023_BEL_CBC_T1_195_SSID'</li></ol>\n"
      ],
      "text/latex": [
       "\\begin{enumerate*}\n",
       "\\item '092023\\_BEL\\_CBC\\_T1\\_185\\_SSID'\n",
       "\\item '092023\\_BEL\\_CBC\\_T1\\_189\\_SSID'\n",
       "\\item '092023\\_BEL\\_CBC\\_T1\\_181\\_MCAV'\n",
       "\\item '092023\\_BEL\\_CBC\\_T1\\_192\\_SSID'\n",
       "\\item '092023\\_BEL\\_CBC\\_T1\\_193\\_SSID'\n",
       "\\item '092023\\_BEL\\_CBC\\_T1\\_195\\_SSID'\n",
       "\\end{enumerate*}\n"
      ],
      "text/markdown": [
       "1. '092023_BEL_CBC_T1_185_SSID'\n",
       "2. '092023_BEL_CBC_T1_189_SSID'\n",
       "3. '092023_BEL_CBC_T1_181_MCAV'\n",
       "4. '092023_BEL_CBC_T1_192_SSID'\n",
       "5. '092023_BEL_CBC_T1_193_SSID'\n",
       "6. '092023_BEL_CBC_T1_195_SSID'\n",
       "\n",
       "\n"
      ],
      "text/plain": [
       "[1] \"092023_BEL_CBC_T1_185_SSID\" \"092023_BEL_CBC_T1_189_SSID\"\n",
       "[3] \"092023_BEL_CBC_T1_181_MCAV\" \"092023_BEL_CBC_T1_192_SSID\"\n",
       "[5] \"092023_BEL_CBC_T1_193_SSID\" \"092023_BEL_CBC_T1_195_SSID\""
      ]
     },
     "metadata": {},
     "output_type": "display_data"
    }
   ],
   "source": [
    "head(sample_extract)"
   ]
  },
  {
   "cell_type": "code",
   "execution_count": 42,
   "id": "66a40a43-53c1-47d4-9255-2f3e84aa2b85",
   "metadata": {},
   "outputs": [
    {
     "data": {
      "text/html": [
       "<table class=\"dataframe\">\n",
       "<caption>A data.frame: 6 × 3</caption>\n",
       "<thead>\n",
       "\t<tr><th></th><th scope=col>Month_year</th><th scope=col>colony</th><th scope=col>Tubelabel_species</th></tr>\n",
       "\t<tr><th></th><th scope=col>&lt;int&gt;</th><th scope=col>&lt;chr&gt;</th><th scope=col>&lt;chr&gt;</th></tr>\n",
       "</thead>\n",
       "<tbody>\n",
       "\t<tr><th scope=row>2</th><td>92023</td><td>1_1 </td><td>092023_BEL_CBC_T1_185_SSID</td></tr>\n",
       "\t<tr><th scope=row>3</th><td>92023</td><td>1_2 </td><td>092023_BEL_CBC_T1_171_PAST</td></tr>\n",
       "\t<tr><th scope=row>4</th><td>92023</td><td>1_3 </td><td>092023_BEL_CBC_T1_173_SSID</td></tr>\n",
       "\t<tr><th scope=row>5</th><td>92023</td><td>1_12</td><td>092023_BEL_CBC_T1_177_PSTR</td></tr>\n",
       "\t<tr><th scope=row>6</th><td>92023</td><td>1_13</td><td>092023_BEL_CBC_T1_175_PAST</td></tr>\n",
       "\t<tr><th scope=row>7</th><td>92023</td><td>1_5 </td><td>092023_BEL_CBC_T1_188_SSID</td></tr>\n",
       "</tbody>\n",
       "</table>\n"
      ],
      "text/latex": [
       "A data.frame: 6 × 3\n",
       "\\begin{tabular}{r|lll}\n",
       "  & Month\\_year & colony & Tubelabel\\_species\\\\\n",
       "  & <int> & <chr> & <chr>\\\\\n",
       "\\hline\n",
       "\t2 & 92023 & 1\\_1  & 092023\\_BEL\\_CBC\\_T1\\_185\\_SSID\\\\\n",
       "\t3 & 92023 & 1\\_2  & 092023\\_BEL\\_CBC\\_T1\\_171\\_PAST\\\\\n",
       "\t4 & 92023 & 1\\_3  & 092023\\_BEL\\_CBC\\_T1\\_173\\_SSID\\\\\n",
       "\t5 & 92023 & 1\\_12 & 092023\\_BEL\\_CBC\\_T1\\_177\\_PSTR\\\\\n",
       "\t6 & 92023 & 1\\_13 & 092023\\_BEL\\_CBC\\_T1\\_175\\_PAST\\\\\n",
       "\t7 & 92023 & 1\\_5  & 092023\\_BEL\\_CBC\\_T1\\_188\\_SSID\\\\\n",
       "\\end{tabular}\n"
      ],
      "text/markdown": [
       "\n",
       "A data.frame: 6 × 3\n",
       "\n",
       "| <!--/--> | Month_year &lt;int&gt; | colony &lt;chr&gt; | Tubelabel_species &lt;chr&gt; |\n",
       "|---|---|---|---|\n",
       "| 2 | 92023 | 1_1  | 092023_BEL_CBC_T1_185_SSID |\n",
       "| 3 | 92023 | 1_2  | 092023_BEL_CBC_T1_171_PAST |\n",
       "| 4 | 92023 | 1_3  | 092023_BEL_CBC_T1_173_SSID |\n",
       "| 5 | 92023 | 1_12 | 092023_BEL_CBC_T1_177_PSTR |\n",
       "| 6 | 92023 | 1_13 | 092023_BEL_CBC_T1_175_PAST |\n",
       "| 7 | 92023 | 1_5  | 092023_BEL_CBC_T1_188_SSID |\n",
       "\n"
      ],
      "text/plain": [
       "  Month_year colony Tubelabel_species         \n",
       "2 92023      1_1    092023_BEL_CBC_T1_185_SSID\n",
       "3 92023      1_2    092023_BEL_CBC_T1_171_PAST\n",
       "4 92023      1_3    092023_BEL_CBC_T1_173_SSID\n",
       "5 92023      1_12   092023_BEL_CBC_T1_177_PSTR\n",
       "6 92023      1_13   092023_BEL_CBC_T1_175_PAST\n",
       "7 92023      1_5    092023_BEL_CBC_T1_188_SSID"
      ]
     },
     "metadata": {},
     "output_type": "display_data"
    }
   ],
   "source": [
    "head(sample_DNA)"
   ]
  },
  {
   "cell_type": "code",
   "execution_count": 43,
   "id": "e85a5f3c-a025-4987-b368-1fda459f00ff",
   "metadata": {},
   "outputs": [],
   "source": [
    "#edit sample_extract to be in same format as sample_DNA\n",
    "sample_extract=sample_DNA[sample_DNA$Tubelabel_species %in% sample_extract,]"
   ]
  },
  {
   "cell_type": "code",
   "execution_count": 44,
   "id": "a0e27e01-e16a-4b55-a78f-ee9e8ba3a7c6",
   "metadata": {},
   "outputs": [
    {
     "data": {
      "text/html": [
       "<table class=\"dataframe\">\n",
       "<caption>A data.frame: 6 × 3</caption>\n",
       "<thead>\n",
       "\t<tr><th></th><th scope=col>Month_year</th><th scope=col>colony</th><th scope=col>Tubelabel_species</th></tr>\n",
       "\t<tr><th></th><th scope=col>&lt;int&gt;</th><th scope=col>&lt;chr&gt;</th><th scope=col>&lt;chr&gt;</th></tr>\n",
       "</thead>\n",
       "<tbody>\n",
       "\t<tr><th scope=row>1983</th><td>122022</td><td>1_10</td><td>122022_BEL_CBC_T1_121_SSID  </td></tr>\n",
       "\t<tr><th scope=row>1985</th><td>122022</td><td>1_11</td><td>122022_BEL_CBC_T1_135_SSID  </td></tr>\n",
       "\t<tr><th scope=row>1987</th><td> 52022</td><td>3_AS</td><td>052022_BEL_CBC_T3_17_PAST   </td></tr>\n",
       "\t<tr><th scope=row>1989</th><td>102019</td><td>3_AS</td><td>102019_BEL_CBC_T3_33_Unknown</td></tr>\n",
       "\t<tr><th scope=row>1990</th><td> 42024</td><td>5_38</td><td>042024_BEL_CBC_T5_1125_PAST </td></tr>\n",
       "\t<tr><th scope=row>2204</th><td>122022</td><td>3_AS</td><td>                            </td></tr>\n",
       "</tbody>\n",
       "</table>\n"
      ],
      "text/latex": [
       "A data.frame: 6 × 3\n",
       "\\begin{tabular}{r|lll}\n",
       "  & Month\\_year & colony & Tubelabel\\_species\\\\\n",
       "  & <int> & <chr> & <chr>\\\\\n",
       "\\hline\n",
       "\t1983 & 122022 & 1\\_10 & 122022\\_BEL\\_CBC\\_T1\\_121\\_SSID  \\\\\n",
       "\t1985 & 122022 & 1\\_11 & 122022\\_BEL\\_CBC\\_T1\\_135\\_SSID  \\\\\n",
       "\t1987 &  52022 & 3\\_AS & 052022\\_BEL\\_CBC\\_T3\\_17\\_PAST   \\\\\n",
       "\t1989 & 102019 & 3\\_AS & 102019\\_BEL\\_CBC\\_T3\\_33\\_Unknown\\\\\n",
       "\t1990 &  42024 & 5\\_38 & 042024\\_BEL\\_CBC\\_T5\\_1125\\_PAST \\\\\n",
       "\t2204 & 122022 & 3\\_AS &                             \\\\\n",
       "\\end{tabular}\n"
      ],
      "text/markdown": [
       "\n",
       "A data.frame: 6 × 3\n",
       "\n",
       "| <!--/--> | Month_year &lt;int&gt; | colony &lt;chr&gt; | Tubelabel_species &lt;chr&gt; |\n",
       "|---|---|---|---|\n",
       "| 1983 | 122022 | 1_10 | 122022_BEL_CBC_T1_121_SSID   |\n",
       "| 1985 | 122022 | 1_11 | 122022_BEL_CBC_T1_135_SSID   |\n",
       "| 1987 |  52022 | 3_AS | 052022_BEL_CBC_T3_17_PAST    |\n",
       "| 1989 | 102019 | 3_AS | 102019_BEL_CBC_T3_33_Unknown |\n",
       "| 1990 |  42024 | 5_38 | 042024_BEL_CBC_T5_1125_PAST  |\n",
       "| 2204 | 122022 | 3_AS | <!----> |\n",
       "\n"
      ],
      "text/plain": [
       "     Month_year colony Tubelabel_species           \n",
       "1983 122022     1_10   122022_BEL_CBC_T1_121_SSID  \n",
       "1985 122022     1_11   122022_BEL_CBC_T1_135_SSID  \n",
       "1987  52022     3_AS   052022_BEL_CBC_T3_17_PAST   \n",
       "1989 102019     3_AS   102019_BEL_CBC_T3_33_Unknown\n",
       "1990  42024     5_38   042024_BEL_CBC_T5_1125_PAST \n",
       "2204 122022     3_AS                               "
      ]
     },
     "metadata": {},
     "output_type": "display_data"
    }
   ],
   "source": [
    "tail(sample_extract)"
   ]
  },
  {
   "cell_type": "code",
   "execution_count": 45,
   "id": "d29d87b8-095c-47c2-bdff-826afeffe832",
   "metadata": {},
   "outputs": [],
   "source": [
    "#change format of sample_DNA table to see all samples that exist\n",
    "sample_matrix=pivot_wider(sample_DNA, names_from = Month_year, values_from = Tubelabel_species, values_fn = function(x) paste(x, collapse = \" \"))"
   ]
  },
  {
   "cell_type": "code",
   "execution_count": 46,
   "id": "ffcf70d1-b28c-4174-b7ac-61e4e10a16b7",
   "metadata": {},
   "outputs": [
    {
     "data": {
      "text/html": [
       "<table class=\"dataframe\">\n",
       "<caption>A tibble: 6 × 13</caption>\n",
       "<thead>\n",
       "\t<tr><th scope=col>colony</th><th scope=col>92023</th><th scope=col>122022</th><th scope=col>52022</th><th scope=col>112023</th><th scope=col>42024</th><th scope=col>102019</th><th scope=col>62019</th><th scope=col>122023</th><th scope=col>12024</th><th scope=col>22024</th><th scope=col>62024</th><th scope=col>82024</th></tr>\n",
       "\t<tr><th scope=col>&lt;chr&gt;</th><th scope=col>&lt;chr&gt;</th><th scope=col>&lt;chr&gt;</th><th scope=col>&lt;chr&gt;</th><th scope=col>&lt;chr&gt;</th><th scope=col>&lt;chr&gt;</th><th scope=col>&lt;chr&gt;</th><th scope=col>&lt;chr&gt;</th><th scope=col>&lt;chr&gt;</th><th scope=col>&lt;chr&gt;</th><th scope=col>&lt;chr&gt;</th><th scope=col>&lt;chr&gt;</th><th scope=col>&lt;chr&gt;</th></tr>\n",
       "</thead>\n",
       "<tbody>\n",
       "\t<tr><td>1_1 </td><td>092023_BEL_CBC_T1_185_SSID                           </td><td>122022_BEL_CBC_T1_148_SSID 122022_BEL_CBC_T1_149_SSID</td><td>052022_BEL_CBC_T1_3_SSID 052022_BEL_CBC_T1_6_SSID</td><td>NA                        </td><td>042024_BEL_CBC_T1_937_SSID                           </td><td>NA                       </td><td>062019_BEL_CBC_T1_2_SSID </td><td>NA                        </td><td>NA                        </td><td>NA                           </td><td>NA                                                     </td><td>NA                         </td></tr>\n",
       "\t<tr><td>1_2 </td><td>092023_BEL_CBC_T1_171_PAST                           </td><td>122022_BEL_CBC_T1_158_PAST                           </td><td>052022_BEL_CBC_T1_1_PAST                         </td><td>112023_BEL_CBC_T1_273_PAST</td><td>NA                                                   </td><td>NA                       </td><td>062019_BEL_CBC_T1_1_PAST </td><td>122023_BEL_CBC_T1_506_PAST</td><td>NA                        </td><td>022024_Belize_CBC_T1_771_PAST</td><td>062024_BEL_CBC_T1_1356_PAST                            </td><td>082024_BEL_CBC_T1_1479_PAST</td></tr>\n",
       "\t<tr><td>1_3 </td><td>092023_BEL_CBC_T1_173_SSID                           </td><td>122022_BEL_CBC_T1_156_SSID                           </td><td>052022_BEL_CBC_T1_2_SSID                         </td><td>112023_BEL_CBC_T1_275_SSID</td><td>042024_BEL_CBC_T1_932_SSID 042024_BEL_CBC_T1_931_SSID</td><td>NA                       </td><td>062019_BEL_CBC_T1_5_SSID </td><td>122023_BEL_CBC_T1_508_SSID</td><td>012024_BEL_CBC_T1_557_SSID</td><td>022024_Belize_CBC_T1_773_SSID</td><td>062024_BEL_CBC_T1_1341_SSID 062024_BEL_CBC_T1_1344_SSID</td><td>082024_BEL_CBC_T1_1480_SSID</td></tr>\n",
       "\t<tr><td>1_12</td><td>092023_BEL_CBC_T1_177_PSTR                           </td><td>122022_BEL_CBC_T1_122_PSTR                           </td><td>052022_BEL_CBC_T1_55_PSTR                        </td><td>112023_BEL_CBC_T1_278_PSTR</td><td>042024_BEL_CBC_T1_927_PSTR                           </td><td>102019_BEL_CBC_T1_29_PSTR</td><td>NA                       </td><td>122023_BEL_CBC_T1_510_PSTR</td><td>012024_BEL_CBC_T1_563_PSTR</td><td>022024_Belize_CBC_T1_776_PSTR</td><td>062024_BEL_CBC_T1_1350_PSTR                            </td><td>082024_BEL_CBC_T1_1481_PSTR</td></tr>\n",
       "\t<tr><td>1_13</td><td>092023_BEL_CBC_T1_175_PAST                           </td><td>122022_BEL_CBC_T1_152_PAST                           </td><td>052022_BEL_CBC_T1_53_PAST                        </td><td>NA                        </td><td>NA                                                   </td><td>NA                       </td><td>062019_BEL_CBC_T1_12_PAST</td><td>NA                        </td><td>NA                        </td><td>NA                           </td><td>NA                                                     </td><td>NA                         </td></tr>\n",
       "\t<tr><td>1_5 </td><td>092023_BEL_CBC_T1_188_SSID 092023_BEL_CBC_T1_189_SSID</td><td>NA                                                   </td><td>052022_BEL_CBC_T1_8_SSID 052022_BEL_CBC_T1_9_SSID</td><td>NA                        </td><td>042024_BEL_CBC_T1_933_SSID 042024_BEL_CBC_T1_934_SSID</td><td>NA                       </td><td>062019_BEL_CBC_T1_23_SSID</td><td>NA                        </td><td>NA                        </td><td>NA                           </td><td>NA                                                     </td><td>NA                         </td></tr>\n",
       "</tbody>\n",
       "</table>\n"
      ],
      "text/latex": [
       "A tibble: 6 × 13\n",
       "\\begin{tabular}{lllllllllllll}\n",
       " colony & 92023 & 122022 & 52022 & 112023 & 42024 & 102019 & 62019 & 122023 & 12024 & 22024 & 62024 & 82024\\\\\n",
       " <chr> & <chr> & <chr> & <chr> & <chr> & <chr> & <chr> & <chr> & <chr> & <chr> & <chr> & <chr> & <chr>\\\\\n",
       "\\hline\n",
       "\t 1\\_1  & 092023\\_BEL\\_CBC\\_T1\\_185\\_SSID                            & 122022\\_BEL\\_CBC\\_T1\\_148\\_SSID 122022\\_BEL\\_CBC\\_T1\\_149\\_SSID & 052022\\_BEL\\_CBC\\_T1\\_3\\_SSID 052022\\_BEL\\_CBC\\_T1\\_6\\_SSID & NA                         & 042024\\_BEL\\_CBC\\_T1\\_937\\_SSID                            & NA                        & 062019\\_BEL\\_CBC\\_T1\\_2\\_SSID  & NA                         & NA                         & NA                            & NA                                                      & NA                         \\\\\n",
       "\t 1\\_2  & 092023\\_BEL\\_CBC\\_T1\\_171\\_PAST                            & 122022\\_BEL\\_CBC\\_T1\\_158\\_PAST                            & 052022\\_BEL\\_CBC\\_T1\\_1\\_PAST                          & 112023\\_BEL\\_CBC\\_T1\\_273\\_PAST & NA                                                    & NA                        & 062019\\_BEL\\_CBC\\_T1\\_1\\_PAST  & 122023\\_BEL\\_CBC\\_T1\\_506\\_PAST & NA                         & 022024\\_Belize\\_CBC\\_T1\\_771\\_PAST & 062024\\_BEL\\_CBC\\_T1\\_1356\\_PAST                             & 082024\\_BEL\\_CBC\\_T1\\_1479\\_PAST\\\\\n",
       "\t 1\\_3  & 092023\\_BEL\\_CBC\\_T1\\_173\\_SSID                            & 122022\\_BEL\\_CBC\\_T1\\_156\\_SSID                            & 052022\\_BEL\\_CBC\\_T1\\_2\\_SSID                          & 112023\\_BEL\\_CBC\\_T1\\_275\\_SSID & 042024\\_BEL\\_CBC\\_T1\\_932\\_SSID 042024\\_BEL\\_CBC\\_T1\\_931\\_SSID & NA                        & 062019\\_BEL\\_CBC\\_T1\\_5\\_SSID  & 122023\\_BEL\\_CBC\\_T1\\_508\\_SSID & 012024\\_BEL\\_CBC\\_T1\\_557\\_SSID & 022024\\_Belize\\_CBC\\_T1\\_773\\_SSID & 062024\\_BEL\\_CBC\\_T1\\_1341\\_SSID 062024\\_BEL\\_CBC\\_T1\\_1344\\_SSID & 082024\\_BEL\\_CBC\\_T1\\_1480\\_SSID\\\\\n",
       "\t 1\\_12 & 092023\\_BEL\\_CBC\\_T1\\_177\\_PSTR                            & 122022\\_BEL\\_CBC\\_T1\\_122\\_PSTR                            & 052022\\_BEL\\_CBC\\_T1\\_55\\_PSTR                         & 112023\\_BEL\\_CBC\\_T1\\_278\\_PSTR & 042024\\_BEL\\_CBC\\_T1\\_927\\_PSTR                            & 102019\\_BEL\\_CBC\\_T1\\_29\\_PSTR & NA                        & 122023\\_BEL\\_CBC\\_T1\\_510\\_PSTR & 012024\\_BEL\\_CBC\\_T1\\_563\\_PSTR & 022024\\_Belize\\_CBC\\_T1\\_776\\_PSTR & 062024\\_BEL\\_CBC\\_T1\\_1350\\_PSTR                             & 082024\\_BEL\\_CBC\\_T1\\_1481\\_PSTR\\\\\n",
       "\t 1\\_13 & 092023\\_BEL\\_CBC\\_T1\\_175\\_PAST                            & 122022\\_BEL\\_CBC\\_T1\\_152\\_PAST                            & 052022\\_BEL\\_CBC\\_T1\\_53\\_PAST                         & NA                         & NA                                                    & NA                        & 062019\\_BEL\\_CBC\\_T1\\_12\\_PAST & NA                         & NA                         & NA                            & NA                                                      & NA                         \\\\\n",
       "\t 1\\_5  & 092023\\_BEL\\_CBC\\_T1\\_188\\_SSID 092023\\_BEL\\_CBC\\_T1\\_189\\_SSID & NA                                                    & 052022\\_BEL\\_CBC\\_T1\\_8\\_SSID 052022\\_BEL\\_CBC\\_T1\\_9\\_SSID & NA                         & 042024\\_BEL\\_CBC\\_T1\\_933\\_SSID 042024\\_BEL\\_CBC\\_T1\\_934\\_SSID & NA                        & 062019\\_BEL\\_CBC\\_T1\\_23\\_SSID & NA                         & NA                         & NA                            & NA                                                      & NA                         \\\\\n",
       "\\end{tabular}\n"
      ],
      "text/markdown": [
       "\n",
       "A tibble: 6 × 13\n",
       "\n",
       "| colony &lt;chr&gt; | 92023 &lt;chr&gt; | 122022 &lt;chr&gt; | 52022 &lt;chr&gt; | 112023 &lt;chr&gt; | 42024 &lt;chr&gt; | 102019 &lt;chr&gt; | 62019 &lt;chr&gt; | 122023 &lt;chr&gt; | 12024 &lt;chr&gt; | 22024 &lt;chr&gt; | 62024 &lt;chr&gt; | 82024 &lt;chr&gt; |\n",
       "|---|---|---|---|---|---|---|---|---|---|---|---|---|\n",
       "| 1_1  | 092023_BEL_CBC_T1_185_SSID                            | 122022_BEL_CBC_T1_148_SSID 122022_BEL_CBC_T1_149_SSID | 052022_BEL_CBC_T1_3_SSID 052022_BEL_CBC_T1_6_SSID | NA                         | 042024_BEL_CBC_T1_937_SSID                            | NA                        | 062019_BEL_CBC_T1_2_SSID  | NA                         | NA                         | NA                            | NA                                                      | NA                          |\n",
       "| 1_2  | 092023_BEL_CBC_T1_171_PAST                            | 122022_BEL_CBC_T1_158_PAST                            | 052022_BEL_CBC_T1_1_PAST                          | 112023_BEL_CBC_T1_273_PAST | NA                                                    | NA                        | 062019_BEL_CBC_T1_1_PAST  | 122023_BEL_CBC_T1_506_PAST | NA                         | 022024_Belize_CBC_T1_771_PAST | 062024_BEL_CBC_T1_1356_PAST                             | 082024_BEL_CBC_T1_1479_PAST |\n",
       "| 1_3  | 092023_BEL_CBC_T1_173_SSID                            | 122022_BEL_CBC_T1_156_SSID                            | 052022_BEL_CBC_T1_2_SSID                          | 112023_BEL_CBC_T1_275_SSID | 042024_BEL_CBC_T1_932_SSID 042024_BEL_CBC_T1_931_SSID | NA                        | 062019_BEL_CBC_T1_5_SSID  | 122023_BEL_CBC_T1_508_SSID | 012024_BEL_CBC_T1_557_SSID | 022024_Belize_CBC_T1_773_SSID | 062024_BEL_CBC_T1_1341_SSID 062024_BEL_CBC_T1_1344_SSID | 082024_BEL_CBC_T1_1480_SSID |\n",
       "| 1_12 | 092023_BEL_CBC_T1_177_PSTR                            | 122022_BEL_CBC_T1_122_PSTR                            | 052022_BEL_CBC_T1_55_PSTR                         | 112023_BEL_CBC_T1_278_PSTR | 042024_BEL_CBC_T1_927_PSTR                            | 102019_BEL_CBC_T1_29_PSTR | NA                        | 122023_BEL_CBC_T1_510_PSTR | 012024_BEL_CBC_T1_563_PSTR | 022024_Belize_CBC_T1_776_PSTR | 062024_BEL_CBC_T1_1350_PSTR                             | 082024_BEL_CBC_T1_1481_PSTR |\n",
       "| 1_13 | 092023_BEL_CBC_T1_175_PAST                            | 122022_BEL_CBC_T1_152_PAST                            | 052022_BEL_CBC_T1_53_PAST                         | NA                         | NA                                                    | NA                        | 062019_BEL_CBC_T1_12_PAST | NA                         | NA                         | NA                            | NA                                                      | NA                          |\n",
       "| 1_5  | 092023_BEL_CBC_T1_188_SSID 092023_BEL_CBC_T1_189_SSID | NA                                                    | 052022_BEL_CBC_T1_8_SSID 052022_BEL_CBC_T1_9_SSID | NA                         | 042024_BEL_CBC_T1_933_SSID 042024_BEL_CBC_T1_934_SSID | NA                        | 062019_BEL_CBC_T1_23_SSID | NA                         | NA                         | NA                            | NA                                                      | NA                          |\n",
       "\n"
      ],
      "text/plain": [
       "  colony 92023                                                \n",
       "1 1_1    092023_BEL_CBC_T1_185_SSID                           \n",
       "2 1_2    092023_BEL_CBC_T1_171_PAST                           \n",
       "3 1_3    092023_BEL_CBC_T1_173_SSID                           \n",
       "4 1_12   092023_BEL_CBC_T1_177_PSTR                           \n",
       "5 1_13   092023_BEL_CBC_T1_175_PAST                           \n",
       "6 1_5    092023_BEL_CBC_T1_188_SSID 092023_BEL_CBC_T1_189_SSID\n",
       "  122022                                               \n",
       "1 122022_BEL_CBC_T1_148_SSID 122022_BEL_CBC_T1_149_SSID\n",
       "2 122022_BEL_CBC_T1_158_PAST                           \n",
       "3 122022_BEL_CBC_T1_156_SSID                           \n",
       "4 122022_BEL_CBC_T1_122_PSTR                           \n",
       "5 122022_BEL_CBC_T1_152_PAST                           \n",
       "6 NA                                                   \n",
       "  52022                                             112023                    \n",
       "1 052022_BEL_CBC_T1_3_SSID 052022_BEL_CBC_T1_6_SSID NA                        \n",
       "2 052022_BEL_CBC_T1_1_PAST                          112023_BEL_CBC_T1_273_PAST\n",
       "3 052022_BEL_CBC_T1_2_SSID                          112023_BEL_CBC_T1_275_SSID\n",
       "4 052022_BEL_CBC_T1_55_PSTR                         112023_BEL_CBC_T1_278_PSTR\n",
       "5 052022_BEL_CBC_T1_53_PAST                         NA                        \n",
       "6 052022_BEL_CBC_T1_8_SSID 052022_BEL_CBC_T1_9_SSID NA                        \n",
       "  42024                                                \n",
       "1 042024_BEL_CBC_T1_937_SSID                           \n",
       "2 NA                                                   \n",
       "3 042024_BEL_CBC_T1_932_SSID 042024_BEL_CBC_T1_931_SSID\n",
       "4 042024_BEL_CBC_T1_927_PSTR                           \n",
       "5 NA                                                   \n",
       "6 042024_BEL_CBC_T1_933_SSID 042024_BEL_CBC_T1_934_SSID\n",
       "  102019                    62019                    \n",
       "1 NA                        062019_BEL_CBC_T1_2_SSID \n",
       "2 NA                        062019_BEL_CBC_T1_1_PAST \n",
       "3 NA                        062019_BEL_CBC_T1_5_SSID \n",
       "4 102019_BEL_CBC_T1_29_PSTR NA                       \n",
       "5 NA                        062019_BEL_CBC_T1_12_PAST\n",
       "6 NA                        062019_BEL_CBC_T1_23_SSID\n",
       "  122023                     12024                     \n",
       "1 NA                         NA                        \n",
       "2 122023_BEL_CBC_T1_506_PAST NA                        \n",
       "3 122023_BEL_CBC_T1_508_SSID 012024_BEL_CBC_T1_557_SSID\n",
       "4 122023_BEL_CBC_T1_510_PSTR 012024_BEL_CBC_T1_563_PSTR\n",
       "5 NA                         NA                        \n",
       "6 NA                         NA                        \n",
       "  22024                        \n",
       "1 NA                           \n",
       "2 022024_Belize_CBC_T1_771_PAST\n",
       "3 022024_Belize_CBC_T1_773_SSID\n",
       "4 022024_Belize_CBC_T1_776_PSTR\n",
       "5 NA                           \n",
       "6 NA                           \n",
       "  62024                                                  \n",
       "1 NA                                                     \n",
       "2 062024_BEL_CBC_T1_1356_PAST                            \n",
       "3 062024_BEL_CBC_T1_1341_SSID 062024_BEL_CBC_T1_1344_SSID\n",
       "4 062024_BEL_CBC_T1_1350_PSTR                            \n",
       "5 NA                                                     \n",
       "6 NA                                                     \n",
       "  82024                      \n",
       "1 NA                         \n",
       "2 082024_BEL_CBC_T1_1479_PAST\n",
       "3 082024_BEL_CBC_T1_1480_SSID\n",
       "4 082024_BEL_CBC_T1_1481_PSTR\n",
       "5 NA                         \n",
       "6 NA                         "
      ]
     },
     "metadata": {},
     "output_type": "display_data"
    }
   ],
   "source": [
    "head(sample_matrix)"
   ]
  },
  {
   "cell_type": "code",
   "execution_count": 47,
   "id": "3cb84bb5-0d16-4e27-9b28-6fd3d14cb23c",
   "metadata": {},
   "outputs": [],
   "source": [
    "#make new columns based on colony, and month_year in both dataframes\n",
    "#make them appear in chronological order\n",
    "sample_matrix= sample_matrix[, c(\"colony\", \"62019\", \"102019\", \"52022\", \"122022\", \"92023\", \"112023\", \"122023\",\"12024\", \"22024\", \"42024\", \"62024\", \"82024\")]\n",
    "     \n",
    "     "
   ]
  },
  {
   "cell_type": "code",
   "execution_count": 48,
   "id": "806014bc-b038-4f15-9dc5-37fe1e55e0c0",
   "metadata": {
    "scrolled": true
   },
   "outputs": [
    {
     "data": {
      "text/html": [
       "<table class=\"dataframe\">\n",
       "<caption>A tibble: 6 × 13</caption>\n",
       "<thead>\n",
       "\t<tr><th scope=col>colony</th><th scope=col>62019</th><th scope=col>102019</th><th scope=col>52022</th><th scope=col>122022</th><th scope=col>92023</th><th scope=col>112023</th><th scope=col>122023</th><th scope=col>12024</th><th scope=col>22024</th><th scope=col>42024</th><th scope=col>62024</th><th scope=col>82024</th></tr>\n",
       "\t<tr><th scope=col>&lt;chr&gt;</th><th scope=col>&lt;chr&gt;</th><th scope=col>&lt;chr&gt;</th><th scope=col>&lt;chr&gt;</th><th scope=col>&lt;chr&gt;</th><th scope=col>&lt;chr&gt;</th><th scope=col>&lt;chr&gt;</th><th scope=col>&lt;chr&gt;</th><th scope=col>&lt;chr&gt;</th><th scope=col>&lt;chr&gt;</th><th scope=col>&lt;chr&gt;</th><th scope=col>&lt;chr&gt;</th><th scope=col>&lt;chr&gt;</th></tr>\n",
       "</thead>\n",
       "<tbody>\n",
       "\t<tr><td>1_1 </td><td>062019_BEL_CBC_T1_2_SSID </td><td>NA                       </td><td>052022_BEL_CBC_T1_3_SSID 052022_BEL_CBC_T1_6_SSID</td><td>122022_BEL_CBC_T1_148_SSID 122022_BEL_CBC_T1_149_SSID</td><td>092023_BEL_CBC_T1_185_SSID                           </td><td>NA                        </td><td>NA                        </td><td>NA                        </td><td>NA                           </td><td>042024_BEL_CBC_T1_937_SSID                           </td><td>NA                                                     </td><td>NA                         </td></tr>\n",
       "\t<tr><td>1_2 </td><td>062019_BEL_CBC_T1_1_PAST </td><td>NA                       </td><td>052022_BEL_CBC_T1_1_PAST                         </td><td>122022_BEL_CBC_T1_158_PAST                           </td><td>092023_BEL_CBC_T1_171_PAST                           </td><td>112023_BEL_CBC_T1_273_PAST</td><td>122023_BEL_CBC_T1_506_PAST</td><td>NA                        </td><td>022024_Belize_CBC_T1_771_PAST</td><td>NA                                                   </td><td>062024_BEL_CBC_T1_1356_PAST                            </td><td>082024_BEL_CBC_T1_1479_PAST</td></tr>\n",
       "\t<tr><td>1_3 </td><td>062019_BEL_CBC_T1_5_SSID </td><td>NA                       </td><td>052022_BEL_CBC_T1_2_SSID                         </td><td>122022_BEL_CBC_T1_156_SSID                           </td><td>092023_BEL_CBC_T1_173_SSID                           </td><td>112023_BEL_CBC_T1_275_SSID</td><td>122023_BEL_CBC_T1_508_SSID</td><td>012024_BEL_CBC_T1_557_SSID</td><td>022024_Belize_CBC_T1_773_SSID</td><td>042024_BEL_CBC_T1_932_SSID 042024_BEL_CBC_T1_931_SSID</td><td>062024_BEL_CBC_T1_1341_SSID 062024_BEL_CBC_T1_1344_SSID</td><td>082024_BEL_CBC_T1_1480_SSID</td></tr>\n",
       "\t<tr><td>1_12</td><td>NA                       </td><td>102019_BEL_CBC_T1_29_PSTR</td><td>052022_BEL_CBC_T1_55_PSTR                        </td><td>122022_BEL_CBC_T1_122_PSTR                           </td><td>092023_BEL_CBC_T1_177_PSTR                           </td><td>112023_BEL_CBC_T1_278_PSTR</td><td>122023_BEL_CBC_T1_510_PSTR</td><td>012024_BEL_CBC_T1_563_PSTR</td><td>022024_Belize_CBC_T1_776_PSTR</td><td>042024_BEL_CBC_T1_927_PSTR                           </td><td>062024_BEL_CBC_T1_1350_PSTR                            </td><td>082024_BEL_CBC_T1_1481_PSTR</td></tr>\n",
       "\t<tr><td>1_13</td><td>062019_BEL_CBC_T1_12_PAST</td><td>NA                       </td><td>052022_BEL_CBC_T1_53_PAST                        </td><td>122022_BEL_CBC_T1_152_PAST                           </td><td>092023_BEL_CBC_T1_175_PAST                           </td><td>NA                        </td><td>NA                        </td><td>NA                        </td><td>NA                           </td><td>NA                                                   </td><td>NA                                                     </td><td>NA                         </td></tr>\n",
       "\t<tr><td>1_5 </td><td>062019_BEL_CBC_T1_23_SSID</td><td>NA                       </td><td>052022_BEL_CBC_T1_8_SSID 052022_BEL_CBC_T1_9_SSID</td><td>NA                                                   </td><td>092023_BEL_CBC_T1_188_SSID 092023_BEL_CBC_T1_189_SSID</td><td>NA                        </td><td>NA                        </td><td>NA                        </td><td>NA                           </td><td>042024_BEL_CBC_T1_933_SSID 042024_BEL_CBC_T1_934_SSID</td><td>NA                                                     </td><td>NA                         </td></tr>\n",
       "</tbody>\n",
       "</table>\n"
      ],
      "text/latex": [
       "A tibble: 6 × 13\n",
       "\\begin{tabular}{lllllllllllll}\n",
       " colony & 62019 & 102019 & 52022 & 122022 & 92023 & 112023 & 122023 & 12024 & 22024 & 42024 & 62024 & 82024\\\\\n",
       " <chr> & <chr> & <chr> & <chr> & <chr> & <chr> & <chr> & <chr> & <chr> & <chr> & <chr> & <chr> & <chr>\\\\\n",
       "\\hline\n",
       "\t 1\\_1  & 062019\\_BEL\\_CBC\\_T1\\_2\\_SSID  & NA                        & 052022\\_BEL\\_CBC\\_T1\\_3\\_SSID 052022\\_BEL\\_CBC\\_T1\\_6\\_SSID & 122022\\_BEL\\_CBC\\_T1\\_148\\_SSID 122022\\_BEL\\_CBC\\_T1\\_149\\_SSID & 092023\\_BEL\\_CBC\\_T1\\_185\\_SSID                            & NA                         & NA                         & NA                         & NA                            & 042024\\_BEL\\_CBC\\_T1\\_937\\_SSID                            & NA                                                      & NA                         \\\\\n",
       "\t 1\\_2  & 062019\\_BEL\\_CBC\\_T1\\_1\\_PAST  & NA                        & 052022\\_BEL\\_CBC\\_T1\\_1\\_PAST                          & 122022\\_BEL\\_CBC\\_T1\\_158\\_PAST                            & 092023\\_BEL\\_CBC\\_T1\\_171\\_PAST                            & 112023\\_BEL\\_CBC\\_T1\\_273\\_PAST & 122023\\_BEL\\_CBC\\_T1\\_506\\_PAST & NA                         & 022024\\_Belize\\_CBC\\_T1\\_771\\_PAST & NA                                                    & 062024\\_BEL\\_CBC\\_T1\\_1356\\_PAST                             & 082024\\_BEL\\_CBC\\_T1\\_1479\\_PAST\\\\\n",
       "\t 1\\_3  & 062019\\_BEL\\_CBC\\_T1\\_5\\_SSID  & NA                        & 052022\\_BEL\\_CBC\\_T1\\_2\\_SSID                          & 122022\\_BEL\\_CBC\\_T1\\_156\\_SSID                            & 092023\\_BEL\\_CBC\\_T1\\_173\\_SSID                            & 112023\\_BEL\\_CBC\\_T1\\_275\\_SSID & 122023\\_BEL\\_CBC\\_T1\\_508\\_SSID & 012024\\_BEL\\_CBC\\_T1\\_557\\_SSID & 022024\\_Belize\\_CBC\\_T1\\_773\\_SSID & 042024\\_BEL\\_CBC\\_T1\\_932\\_SSID 042024\\_BEL\\_CBC\\_T1\\_931\\_SSID & 062024\\_BEL\\_CBC\\_T1\\_1341\\_SSID 062024\\_BEL\\_CBC\\_T1\\_1344\\_SSID & 082024\\_BEL\\_CBC\\_T1\\_1480\\_SSID\\\\\n",
       "\t 1\\_12 & NA                        & 102019\\_BEL\\_CBC\\_T1\\_29\\_PSTR & 052022\\_BEL\\_CBC\\_T1\\_55\\_PSTR                         & 122022\\_BEL\\_CBC\\_T1\\_122\\_PSTR                            & 092023\\_BEL\\_CBC\\_T1\\_177\\_PSTR                            & 112023\\_BEL\\_CBC\\_T1\\_278\\_PSTR & 122023\\_BEL\\_CBC\\_T1\\_510\\_PSTR & 012024\\_BEL\\_CBC\\_T1\\_563\\_PSTR & 022024\\_Belize\\_CBC\\_T1\\_776\\_PSTR & 042024\\_BEL\\_CBC\\_T1\\_927\\_PSTR                            & 062024\\_BEL\\_CBC\\_T1\\_1350\\_PSTR                             & 082024\\_BEL\\_CBC\\_T1\\_1481\\_PSTR\\\\\n",
       "\t 1\\_13 & 062019\\_BEL\\_CBC\\_T1\\_12\\_PAST & NA                        & 052022\\_BEL\\_CBC\\_T1\\_53\\_PAST                         & 122022\\_BEL\\_CBC\\_T1\\_152\\_PAST                            & 092023\\_BEL\\_CBC\\_T1\\_175\\_PAST                            & NA                         & NA                         & NA                         & NA                            & NA                                                    & NA                                                      & NA                         \\\\\n",
       "\t 1\\_5  & 062019\\_BEL\\_CBC\\_T1\\_23\\_SSID & NA                        & 052022\\_BEL\\_CBC\\_T1\\_8\\_SSID 052022\\_BEL\\_CBC\\_T1\\_9\\_SSID & NA                                                    & 092023\\_BEL\\_CBC\\_T1\\_188\\_SSID 092023\\_BEL\\_CBC\\_T1\\_189\\_SSID & NA                         & NA                         & NA                         & NA                            & 042024\\_BEL\\_CBC\\_T1\\_933\\_SSID 042024\\_BEL\\_CBC\\_T1\\_934\\_SSID & NA                                                      & NA                         \\\\\n",
       "\\end{tabular}\n"
      ],
      "text/markdown": [
       "\n",
       "A tibble: 6 × 13\n",
       "\n",
       "| colony &lt;chr&gt; | 62019 &lt;chr&gt; | 102019 &lt;chr&gt; | 52022 &lt;chr&gt; | 122022 &lt;chr&gt; | 92023 &lt;chr&gt; | 112023 &lt;chr&gt; | 122023 &lt;chr&gt; | 12024 &lt;chr&gt; | 22024 &lt;chr&gt; | 42024 &lt;chr&gt; | 62024 &lt;chr&gt; | 82024 &lt;chr&gt; |\n",
       "|---|---|---|---|---|---|---|---|---|---|---|---|---|\n",
       "| 1_1  | 062019_BEL_CBC_T1_2_SSID  | NA                        | 052022_BEL_CBC_T1_3_SSID 052022_BEL_CBC_T1_6_SSID | 122022_BEL_CBC_T1_148_SSID 122022_BEL_CBC_T1_149_SSID | 092023_BEL_CBC_T1_185_SSID                            | NA                         | NA                         | NA                         | NA                            | 042024_BEL_CBC_T1_937_SSID                            | NA                                                      | NA                          |\n",
       "| 1_2  | 062019_BEL_CBC_T1_1_PAST  | NA                        | 052022_BEL_CBC_T1_1_PAST                          | 122022_BEL_CBC_T1_158_PAST                            | 092023_BEL_CBC_T1_171_PAST                            | 112023_BEL_CBC_T1_273_PAST | 122023_BEL_CBC_T1_506_PAST | NA                         | 022024_Belize_CBC_T1_771_PAST | NA                                                    | 062024_BEL_CBC_T1_1356_PAST                             | 082024_BEL_CBC_T1_1479_PAST |\n",
       "| 1_3  | 062019_BEL_CBC_T1_5_SSID  | NA                        | 052022_BEL_CBC_T1_2_SSID                          | 122022_BEL_CBC_T1_156_SSID                            | 092023_BEL_CBC_T1_173_SSID                            | 112023_BEL_CBC_T1_275_SSID | 122023_BEL_CBC_T1_508_SSID | 012024_BEL_CBC_T1_557_SSID | 022024_Belize_CBC_T1_773_SSID | 042024_BEL_CBC_T1_932_SSID 042024_BEL_CBC_T1_931_SSID | 062024_BEL_CBC_T1_1341_SSID 062024_BEL_CBC_T1_1344_SSID | 082024_BEL_CBC_T1_1480_SSID |\n",
       "| 1_12 | NA                        | 102019_BEL_CBC_T1_29_PSTR | 052022_BEL_CBC_T1_55_PSTR                         | 122022_BEL_CBC_T1_122_PSTR                            | 092023_BEL_CBC_T1_177_PSTR                            | 112023_BEL_CBC_T1_278_PSTR | 122023_BEL_CBC_T1_510_PSTR | 012024_BEL_CBC_T1_563_PSTR | 022024_Belize_CBC_T1_776_PSTR | 042024_BEL_CBC_T1_927_PSTR                            | 062024_BEL_CBC_T1_1350_PSTR                             | 082024_BEL_CBC_T1_1481_PSTR |\n",
       "| 1_13 | 062019_BEL_CBC_T1_12_PAST | NA                        | 052022_BEL_CBC_T1_53_PAST                         | 122022_BEL_CBC_T1_152_PAST                            | 092023_BEL_CBC_T1_175_PAST                            | NA                         | NA                         | NA                         | NA                            | NA                                                    | NA                                                      | NA                          |\n",
       "| 1_5  | 062019_BEL_CBC_T1_23_SSID | NA                        | 052022_BEL_CBC_T1_8_SSID 052022_BEL_CBC_T1_9_SSID | NA                                                    | 092023_BEL_CBC_T1_188_SSID 092023_BEL_CBC_T1_189_SSID | NA                         | NA                         | NA                         | NA                            | 042024_BEL_CBC_T1_933_SSID 042024_BEL_CBC_T1_934_SSID | NA                                                      | NA                          |\n",
       "\n"
      ],
      "text/plain": [
       "  colony 62019                     102019                   \n",
       "1 1_1    062019_BEL_CBC_T1_2_SSID  NA                       \n",
       "2 1_2    062019_BEL_CBC_T1_1_PAST  NA                       \n",
       "3 1_3    062019_BEL_CBC_T1_5_SSID  NA                       \n",
       "4 1_12   NA                        102019_BEL_CBC_T1_29_PSTR\n",
       "5 1_13   062019_BEL_CBC_T1_12_PAST NA                       \n",
       "6 1_5    062019_BEL_CBC_T1_23_SSID NA                       \n",
       "  52022                                            \n",
       "1 052022_BEL_CBC_T1_3_SSID 052022_BEL_CBC_T1_6_SSID\n",
       "2 052022_BEL_CBC_T1_1_PAST                         \n",
       "3 052022_BEL_CBC_T1_2_SSID                         \n",
       "4 052022_BEL_CBC_T1_55_PSTR                        \n",
       "5 052022_BEL_CBC_T1_53_PAST                        \n",
       "6 052022_BEL_CBC_T1_8_SSID 052022_BEL_CBC_T1_9_SSID\n",
       "  122022                                               \n",
       "1 122022_BEL_CBC_T1_148_SSID 122022_BEL_CBC_T1_149_SSID\n",
       "2 122022_BEL_CBC_T1_158_PAST                           \n",
       "3 122022_BEL_CBC_T1_156_SSID                           \n",
       "4 122022_BEL_CBC_T1_122_PSTR                           \n",
       "5 122022_BEL_CBC_T1_152_PAST                           \n",
       "6 NA                                                   \n",
       "  92023                                                \n",
       "1 092023_BEL_CBC_T1_185_SSID                           \n",
       "2 092023_BEL_CBC_T1_171_PAST                           \n",
       "3 092023_BEL_CBC_T1_173_SSID                           \n",
       "4 092023_BEL_CBC_T1_177_PSTR                           \n",
       "5 092023_BEL_CBC_T1_175_PAST                           \n",
       "6 092023_BEL_CBC_T1_188_SSID 092023_BEL_CBC_T1_189_SSID\n",
       "  112023                     122023                    \n",
       "1 NA                         NA                        \n",
       "2 112023_BEL_CBC_T1_273_PAST 122023_BEL_CBC_T1_506_PAST\n",
       "3 112023_BEL_CBC_T1_275_SSID 122023_BEL_CBC_T1_508_SSID\n",
       "4 112023_BEL_CBC_T1_278_PSTR 122023_BEL_CBC_T1_510_PSTR\n",
       "5 NA                         NA                        \n",
       "6 NA                         NA                        \n",
       "  12024                      22024                        \n",
       "1 NA                         NA                           \n",
       "2 NA                         022024_Belize_CBC_T1_771_PAST\n",
       "3 012024_BEL_CBC_T1_557_SSID 022024_Belize_CBC_T1_773_SSID\n",
       "4 012024_BEL_CBC_T1_563_PSTR 022024_Belize_CBC_T1_776_PSTR\n",
       "5 NA                         NA                           \n",
       "6 NA                         NA                           \n",
       "  42024                                                \n",
       "1 042024_BEL_CBC_T1_937_SSID                           \n",
       "2 NA                                                   \n",
       "3 042024_BEL_CBC_T1_932_SSID 042024_BEL_CBC_T1_931_SSID\n",
       "4 042024_BEL_CBC_T1_927_PSTR                           \n",
       "5 NA                                                   \n",
       "6 042024_BEL_CBC_T1_933_SSID 042024_BEL_CBC_T1_934_SSID\n",
       "  62024                                                  \n",
       "1 NA                                                     \n",
       "2 062024_BEL_CBC_T1_1356_PAST                            \n",
       "3 062024_BEL_CBC_T1_1341_SSID 062024_BEL_CBC_T1_1344_SSID\n",
       "4 062024_BEL_CBC_T1_1350_PSTR                            \n",
       "5 NA                                                     \n",
       "6 NA                                                     \n",
       "  82024                      \n",
       "1 NA                         \n",
       "2 082024_BEL_CBC_T1_1479_PAST\n",
       "3 082024_BEL_CBC_T1_1480_SSID\n",
       "4 082024_BEL_CBC_T1_1481_PSTR\n",
       "5 NA                         \n",
       "6 NA                         "
      ]
     },
     "metadata": {},
     "output_type": "display_data"
    }
   ],
   "source": [
    "head(sample_matrix)"
   ]
  },
  {
   "cell_type": "code",
   "execution_count": 51,
   "id": "87e4da8a-883a-4cb6-aeb8-cb715c69b0ce",
   "metadata": {},
   "outputs": [],
   "source": [
    "#change format of sample_extract table to see all samples that need to be extracted \n",
    "sample_matrix_extract=pivot_wider(sample_extract, names_from = Month_year, values_from = Tubelabel_species, values_fn = function(x) paste(x, collapse = \" \"))"
   ]
  },
  {
   "cell_type": "code",
   "execution_count": null,
   "id": "171beeaa-a1b9-4791-8de7-20c6fba7ac92",
   "metadata": {},
   "outputs": [],
   "source": []
  },
  {
   "cell_type": "code",
   "execution_count": 49,
   "id": "3d5d763e-df51-4ee9-90cf-63cb84652123",
   "metadata": {},
   "outputs": [],
   "source": [
    "#only including immune samples in sample_matrix\n",
    "sample_matrix_immune=sample_matrix[sample_matrix$colony %in% colony_immune,]"
   ]
  },
  {
   "cell_type": "code",
   "execution_count": 52,
   "id": "ac5d2b64-ed59-4bba-9a4b-3276cc7fa4d3",
   "metadata": {},
   "outputs": [],
   "source": [
    "#only including immune samples in sample_matrix_extract\n",
    "sample_matrix_extract_immune=sample_matrix_extract[sample_matrix_extract$colony %in% colony_immune,]"
   ]
  },
  {
   "cell_type": "code",
   "execution_count": 53,
   "id": "8ded7dd8-4fa5-42d1-ac7c-3f172557cb6b",
   "metadata": {},
   "outputs": [],
   "source": [
    "#make spreadsheet with all immune samples\n",
    "write.csv(sample_matrix_immune, file=\"~/Documents/SCTLD/Coral_Code/NSF_Rapid/CBC_Extraction_Plan/sample_table_immune_all.csv\")"
   ]
  },
  {
   "cell_type": "code",
   "execution_count": 54,
   "id": "71ae51a2-6b7c-41e0-b9dc-253b85f63e22",
   "metadata": {},
   "outputs": [],
   "source": [
    "#not including 112023, 122023, 062024, 082024 bc I've already extracted all of them\n",
    "sample_matrix_extract= sample_matrix_extract[, c(\"colony\", \"62019\", \"102019\", \"52022\", \"122022\", \"92023\", \"12024\", \"22024\", \"42024\")]\n"
   ]
  },
  {
   "cell_type": "code",
   "execution_count": 55,
   "id": "8f9289f7-65a0-4199-92b7-bd7672be4c00",
   "metadata": {},
   "outputs": [],
   "source": [
    "#make spreadsheet of all immune samples that still need to be extracted\n",
    "write.csv(sample_matrix_extract_immune, file=\"~/Documents/SCTLD/Coral_Code/NSF_Rapid/CBC_Extraction_Plan/sample_table_immune_toextract.csv\")"
   ]
  },
  {
   "cell_type": "code",
   "execution_count": null,
   "id": "e9066998-308f-44a6-9b0e-57d3d93d5612",
   "metadata": {},
   "outputs": [],
   "source": []
  },
  {
   "cell_type": "code",
   "execution_count": null,
   "id": "47098666-f412-4dd4-8cb2-211c582aee3d",
   "metadata": {},
   "outputs": [],
   "source": [
    "#DO NOT USE\n",
    "#different approach to get sample_matrix_extract to work even though I have extracted all of the rapids\n",
    "install.packages('reshape2')\n",
    "library(reshape2)\n",
    "sample_matrix_extract <- dcast(sample_extract, colony ~ \n",
    "Month_year, value.var = \"Tubelabel_species\" ) \n",
    "#this didn't include 122023, 062024, and 082024 bc I've already extracted\n",
    "head(sample_matrix_extract)"
   ]
  }
 ],
 "metadata": {
  "kernelspec": {
   "display_name": "R",
   "language": "R",
   "name": "ir"
  },
  "language_info": {
   "codemirror_mode": "r",
   "file_extension": ".r",
   "mimetype": "text/x-r-source",
   "name": "R",
   "pygments_lexer": "r",
   "version": "4.3.3"
  }
 },
 "nbformat": 4,
 "nbformat_minor": 5
}
