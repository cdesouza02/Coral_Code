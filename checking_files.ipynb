{
 "cells": [
  {
   "cell_type": "code",
   "execution_count": 20,
   "id": "ae3f6594-f9ca-43ea-b4e4-2b930b2b3ab2",
   "metadata": {},
   "outputs": [],
   "source": [
    "#load libraries\n",
    "require(tidyr)\n",
    "require(dplyr)"
   ]
  },
  {
   "cell_type": "code",
   "execution_count": 21,
   "id": "23b4631a-0a60-4b24-b032-c378887b1e57",
   "metadata": {},
   "outputs": [],
   "source": [
    "#load metagenomics data\n",
    "metagenomics=read.csv(\"~/Documents/SCTLD/SCTLD_samples/Sample_Data/Metagenomics_Tracker_Belize.csv\")\n",
    "#changing X column to Tubelabel_species\n",
    "names(metagenomics)[names(metagenomics) == 'X'] <- 'Tubelabel_species'"
   ]
  },
  {
   "cell_type": "code",
   "execution_count": 22,
   "id": "cde62b84-bc20-4338-abb9-a3e7cadc8f33",
   "metadata": {},
   "outputs": [],
   "source": [
    "#load sample_data\n",
    "sample=read.csv(\"~/Downloads/CBC_samples.csv\")"
   ]
  },
  {
   "cell_type": "code",
   "execution_count": 23,
   "id": "a5dc3ad4-3047-4cda-b046-a2d40c3e7b66",
   "metadata": {},
   "outputs": [],
   "source": [
    " #MATCHING EXTRACTION_PHYSICAL_LOCATION BETWEEN CBC_SAMPLES AND METAGENOMICS_BELIZE"
   ]
  },
  {
   "cell_type": "code",
   "execution_count": 24,
   "id": "b1b4c2f8-c195-4cf3-8c86-fa6446858466",
   "metadata": {},
   "outputs": [
    {
     "data": {
      "text/html": [
       "<style>\n",
       ".list-inline {list-style: none; margin:0; padding: 0}\n",
       ".list-inline>li {display: inline-block}\n",
       ".list-inline>li:not(:last-child)::after {content: \"\\00b7\"; padding: 0 .5ex}\n",
       "</style>\n",
       "<ol class=list-inline><li>'Tubelabel_species'</li><li>'Health_Status'</li><li>'Starting_Weight'</li><li>'Date_Extracted'</li><li>'Raw_ng_ul'</li><li>'Date_Enriched'</li><li>'Microbe_ng_ul'</li><li>'Microbe_Location'</li><li>'Microbe_clean_date.n'</li><li>'Host_ng_ul'</li><li>'Host_Location'</li><li>'Host_clean_y.n'</li><li>'Date_Libprep'</li><li>'Status'</li><li>'Notes'</li><li>'Seq_date'</li><li>'Host_Seq_date'</li><li>'Microbe_seq_file'</li><li>'Host_seq_file'</li><li>'Seq_Location..in.Unity.'</li><li>'Sample_physical_location'</li><li>'Extraction_physical_location'</li><li>'Location_notes'</li><li>'Sample_Code...datecollected_tagnumber_transect_samplenumber_species'</li></ol>\n"
      ],
      "text/latex": [
       "\\begin{enumerate*}\n",
       "\\item 'Tubelabel\\_species'\n",
       "\\item 'Health\\_Status'\n",
       "\\item 'Starting\\_Weight'\n",
       "\\item 'Date\\_Extracted'\n",
       "\\item 'Raw\\_ng\\_ul'\n",
       "\\item 'Date\\_Enriched'\n",
       "\\item 'Microbe\\_ng\\_ul'\n",
       "\\item 'Microbe\\_Location'\n",
       "\\item 'Microbe\\_clean\\_date.n'\n",
       "\\item 'Host\\_ng\\_ul'\n",
       "\\item 'Host\\_Location'\n",
       "\\item 'Host\\_clean\\_y.n'\n",
       "\\item 'Date\\_Libprep'\n",
       "\\item 'Status'\n",
       "\\item 'Notes'\n",
       "\\item 'Seq\\_date'\n",
       "\\item 'Host\\_Seq\\_date'\n",
       "\\item 'Microbe\\_seq\\_file'\n",
       "\\item 'Host\\_seq\\_file'\n",
       "\\item 'Seq\\_Location..in.Unity.'\n",
       "\\item 'Sample\\_physical\\_location'\n",
       "\\item 'Extraction\\_physical\\_location'\n",
       "\\item 'Location\\_notes'\n",
       "\\item 'Sample\\_Code...datecollected\\_tagnumber\\_transect\\_samplenumber\\_species'\n",
       "\\end{enumerate*}\n"
      ],
      "text/markdown": [
       "1. 'Tubelabel_species'\n",
       "2. 'Health_Status'\n",
       "3. 'Starting_Weight'\n",
       "4. 'Date_Extracted'\n",
       "5. 'Raw_ng_ul'\n",
       "6. 'Date_Enriched'\n",
       "7. 'Microbe_ng_ul'\n",
       "8. 'Microbe_Location'\n",
       "9. 'Microbe_clean_date.n'\n",
       "10. 'Host_ng_ul'\n",
       "11. 'Host_Location'\n",
       "12. 'Host_clean_y.n'\n",
       "13. 'Date_Libprep'\n",
       "14. 'Status'\n",
       "15. 'Notes'\n",
       "16. 'Seq_date'\n",
       "17. 'Host_Seq_date'\n",
       "18. 'Microbe_seq_file'\n",
       "19. 'Host_seq_file'\n",
       "20. 'Seq_Location..in.Unity.'\n",
       "21. 'Sample_physical_location'\n",
       "22. 'Extraction_physical_location'\n",
       "23. 'Location_notes'\n",
       "24. 'Sample_Code...datecollected_tagnumber_transect_samplenumber_species'\n",
       "\n",
       "\n"
      ],
      "text/plain": [
       " [1] \"Tubelabel_species\"                                                  \n",
       " [2] \"Health_Status\"                                                      \n",
       " [3] \"Starting_Weight\"                                                    \n",
       " [4] \"Date_Extracted\"                                                     \n",
       " [5] \"Raw_ng_ul\"                                                          \n",
       " [6] \"Date_Enriched\"                                                      \n",
       " [7] \"Microbe_ng_ul\"                                                      \n",
       " [8] \"Microbe_Location\"                                                   \n",
       " [9] \"Microbe_clean_date.n\"                                               \n",
       "[10] \"Host_ng_ul\"                                                         \n",
       "[11] \"Host_Location\"                                                      \n",
       "[12] \"Host_clean_y.n\"                                                     \n",
       "[13] \"Date_Libprep\"                                                       \n",
       "[14] \"Status\"                                                             \n",
       "[15] \"Notes\"                                                              \n",
       "[16] \"Seq_date\"                                                           \n",
       "[17] \"Host_Seq_date\"                                                      \n",
       "[18] \"Microbe_seq_file\"                                                   \n",
       "[19] \"Host_seq_file\"                                                      \n",
       "[20] \"Seq_Location..in.Unity.\"                                            \n",
       "[21] \"Sample_physical_location\"                                           \n",
       "[22] \"Extraction_physical_location\"                                       \n",
       "[23] \"Location_notes\"                                                     \n",
       "[24] \"Sample_Code...datecollected_tagnumber_transect_samplenumber_species\""
      ]
     },
     "metadata": {},
     "output_type": "display_data"
    }
   ],
   "source": [
    "colnames(metagenomics)"
   ]
  },
  {
   "cell_type": "code",
   "execution_count": 25,
   "id": "be55cb53-5b83-4df1-bd63-82b647482e4e",
   "metadata": {},
   "outputs": [
    {
     "data": {
      "text/html": [
       "<style>\n",
       ".list-inline {list-style: none; margin:0; padding: 0}\n",
       ".list-inline>li {display: inline-block}\n",
       ".list-inline>li:not(:last-child)::after {content: \"\\00b7\"; padding: 0 .5ex}\n",
       "</style>\n",
       "<ol class=list-inline><li>'X'</li><li>'Month_year'</li><li>'Country'</li><li>'Location'</li><li>'CollectionDate'</li><li>'Transect'</li><li>'TransectNum'</li><li>'OldTagNum'</li><li>'NewTagNum'</li><li>'Species'</li><li>'Time_sampled'</li><li>'Time_processed'</li><li>'Sample_type'</li><li>'SampleNum'</li><li>'Health_status'</li><li>'Sampling_notes'</li><li>'Tubelabel_species'</li><li>'Sample_physical_location'</li><li>'Extraction_physical_location'</li><li>'Date_sequenced'</li><li>'Notes'</li></ol>\n"
      ],
      "text/latex": [
       "\\begin{enumerate*}\n",
       "\\item 'X'\n",
       "\\item 'Month\\_year'\n",
       "\\item 'Country'\n",
       "\\item 'Location'\n",
       "\\item 'CollectionDate'\n",
       "\\item 'Transect'\n",
       "\\item 'TransectNum'\n",
       "\\item 'OldTagNum'\n",
       "\\item 'NewTagNum'\n",
       "\\item 'Species'\n",
       "\\item 'Time\\_sampled'\n",
       "\\item 'Time\\_processed'\n",
       "\\item 'Sample\\_type'\n",
       "\\item 'SampleNum'\n",
       "\\item 'Health\\_status'\n",
       "\\item 'Sampling\\_notes'\n",
       "\\item 'Tubelabel\\_species'\n",
       "\\item 'Sample\\_physical\\_location'\n",
       "\\item 'Extraction\\_physical\\_location'\n",
       "\\item 'Date\\_sequenced'\n",
       "\\item 'Notes'\n",
       "\\end{enumerate*}\n"
      ],
      "text/markdown": [
       "1. 'X'\n",
       "2. 'Month_year'\n",
       "3. 'Country'\n",
       "4. 'Location'\n",
       "5. 'CollectionDate'\n",
       "6. 'Transect'\n",
       "7. 'TransectNum'\n",
       "8. 'OldTagNum'\n",
       "9. 'NewTagNum'\n",
       "10. 'Species'\n",
       "11. 'Time_sampled'\n",
       "12. 'Time_processed'\n",
       "13. 'Sample_type'\n",
       "14. 'SampleNum'\n",
       "15. 'Health_status'\n",
       "16. 'Sampling_notes'\n",
       "17. 'Tubelabel_species'\n",
       "18. 'Sample_physical_location'\n",
       "19. 'Extraction_physical_location'\n",
       "20. 'Date_sequenced'\n",
       "21. 'Notes'\n",
       "\n",
       "\n"
      ],
      "text/plain": [
       " [1] \"X\"                            \"Month_year\"                  \n",
       " [3] \"Country\"                      \"Location\"                    \n",
       " [5] \"CollectionDate\"               \"Transect\"                    \n",
       " [7] \"TransectNum\"                  \"OldTagNum\"                   \n",
       " [9] \"NewTagNum\"                    \"Species\"                     \n",
       "[11] \"Time_sampled\"                 \"Time_processed\"              \n",
       "[13] \"Sample_type\"                  \"SampleNum\"                   \n",
       "[15] \"Health_status\"                \"Sampling_notes\"              \n",
       "[17] \"Tubelabel_species\"            \"Sample_physical_location\"    \n",
       "[19] \"Extraction_physical_location\" \"Date_sequenced\"              \n",
       "[21] \"Notes\"                       "
      ]
     },
     "metadata": {},
     "output_type": "display_data"
    }
   ],
   "source": [
    "colnames(sample)"
   ]
  },
  {
   "cell_type": "code",
   "execution_count": 26,
   "id": "5c30a9e2-0c39-4813-b5b5-d8a8fdee9873",
   "metadata": {},
   "outputs": [
    {
     "data": {
      "text/html": [
       "<style>\n",
       ".list-inline {list-style: none; margin:0; padding: 0}\n",
       ".list-inline>li {display: inline-block}\n",
       ".list-inline>li:not(:last-child)::after {content: \"\\00b7\"; padding: 0 .5ex}\n",
       "</style>\n",
       "<ol class=list-inline><li>''</li><li>'UML_NARWHAL_R2_B12'</li><li>'UML_NARWHAL_R2_B11'</li><li>'UML_NARWHAL_R2_B3'</li><li>'UML_NARWHAL_R2_B26'</li><li>'UML_NARWHAL_R2_B29, UML_NARWHAL_R2_B34'</li><li>'UML_NARWHAL_R2_B29'</li><li>'UML_NARWHAL_R2_B14'</li><li>'UML_NARWHAL_R2_B15'</li><li>'UML_NARWHAL_R2_B32, UML_NARWHAL_R2_B29, UML_NARWHAL_R2_B35'</li><li>'UML_NARWHAL_R2_B32, UML_NARWHAL_R2_B29, UML_NARHWAL_PINK'</li><li><span style=white-space:pre-wrap>'UML_NARWHAL_R2_B32,  UML_NARWHAL_R2_B35'</span></li><li>'UML_NARWHAL_R2_B32, UML_NARWHAL_R2_B35'</li><li>'UML_NARWHAL_R2_B14, UML_NARWHAL_R2_B33'</li><li>'UML_NARWHAL_R2_B32'</li><li>'UML_NARWHAL_R2_B32, UML_NARWHAL_R2_B35, UML_NARWHAL_R2_B33'</li><li>'UML_NARWHAL_R2_B35'</li><li>'UML_NARWHAL_R2_B32, UML_NARWHAL_R2_B29, UML_NARWHAL_R2_B34, UML_NARWHAL_R2_B35'</li><li>' UML_NARWHAL_R2_B35, UML_NARWHAL_R2_B3'</li><li>'UML_NARWHAL_R2_B32, UML_NARWHAL_R2_B33'</li><li>'UML_NARWHAL_R2_B33'</li><li>'UML_NARWHAL_R2_B34, UML_NARWHAL_R2_B32, UML_NARWHAL_R2_B35'</li><li>'UML_NARWHAL_R2_B35, UML_NARWHAL_R2_B29, UML_NARWHAL_R2_B34'</li><li>'DNA_extracted'</li><li>'UML_NARWHAL_R2_B32, UML_NARWHAL_R2_B29, UML_NARWHAL_R2_B33'</li><li>'UML_NARWHAL_R2_B32, UML_NARWHAL_R2_B33, UML_NARWHAL_R2_B35'</li><li><span style=white-space:pre-wrap>'UML_NARWHAL_R2_B29, UML_NARWHAL_R2_B34, UML_NARWHAL_R2_B32,  UML_NARWHAL_R2_B35'</span></li><li>'UML_NARWHAL_R2_B29, UML_NARWHAL_R2_B33'</li><li>'UML_NARWHAL_R2_B29, UML_NARWHAL_R2_B35, UML_NARWHAL_R2_B32'</li><li>'UML_NARWHAL_R2_B33, UML_NARWHAL_R2_B32, UML_NARWHAL_R2_B35'</li><li>'UML_NARWHAL_R2_B32, UML_NARWHAL_R2_B29, UML_NARWHAL_R2_B34'</li><li>'UML_NARWHAL_R2_B32, UML_NARWHAL_R2_B35, UML_NARWHAL_R2_B29, UML_NARWHAL_R2_B26, UML_NARWHAL_R2_B34'</li><li>'UML_NARWHAL_R2_B32, UML_NARWHAL_R2_B33, UML_NARWHAL_R2_B29, UML_NARWHAL_R2_B35'</li><li>'UML_NARWHAL_R2_B13'</li><li>'UML_NARWHAL_R2_B16'</li></ol>\n"
      ],
      "text/latex": [
       "\\begin{enumerate*}\n",
       "\\item ''\n",
       "\\item 'UML\\_NARWHAL\\_R2\\_B12'\n",
       "\\item 'UML\\_NARWHAL\\_R2\\_B11'\n",
       "\\item 'UML\\_NARWHAL\\_R2\\_B3'\n",
       "\\item 'UML\\_NARWHAL\\_R2\\_B26'\n",
       "\\item 'UML\\_NARWHAL\\_R2\\_B29, UML\\_NARWHAL\\_R2\\_B34'\n",
       "\\item 'UML\\_NARWHAL\\_R2\\_B29'\n",
       "\\item 'UML\\_NARWHAL\\_R2\\_B14'\n",
       "\\item 'UML\\_NARWHAL\\_R2\\_B15'\n",
       "\\item 'UML\\_NARWHAL\\_R2\\_B32, UML\\_NARWHAL\\_R2\\_B29, UML\\_NARWHAL\\_R2\\_B35'\n",
       "\\item 'UML\\_NARWHAL\\_R2\\_B32, UML\\_NARWHAL\\_R2\\_B29, UML\\_NARHWAL\\_PINK'\n",
       "\\item 'UML\\_NARWHAL\\_R2\\_B32,  UML\\_NARWHAL\\_R2\\_B35'\n",
       "\\item 'UML\\_NARWHAL\\_R2\\_B32, UML\\_NARWHAL\\_R2\\_B35'\n",
       "\\item 'UML\\_NARWHAL\\_R2\\_B14, UML\\_NARWHAL\\_R2\\_B33'\n",
       "\\item 'UML\\_NARWHAL\\_R2\\_B32'\n",
       "\\item 'UML\\_NARWHAL\\_R2\\_B32, UML\\_NARWHAL\\_R2\\_B35, UML\\_NARWHAL\\_R2\\_B33'\n",
       "\\item 'UML\\_NARWHAL\\_R2\\_B35'\n",
       "\\item 'UML\\_NARWHAL\\_R2\\_B32, UML\\_NARWHAL\\_R2\\_B29, UML\\_NARWHAL\\_R2\\_B34, UML\\_NARWHAL\\_R2\\_B35'\n",
       "\\item ' UML\\_NARWHAL\\_R2\\_B35, UML\\_NARWHAL\\_R2\\_B3'\n",
       "\\item 'UML\\_NARWHAL\\_R2\\_B32, UML\\_NARWHAL\\_R2\\_B33'\n",
       "\\item 'UML\\_NARWHAL\\_R2\\_B33'\n",
       "\\item 'UML\\_NARWHAL\\_R2\\_B34, UML\\_NARWHAL\\_R2\\_B32, UML\\_NARWHAL\\_R2\\_B35'\n",
       "\\item 'UML\\_NARWHAL\\_R2\\_B35, UML\\_NARWHAL\\_R2\\_B29, UML\\_NARWHAL\\_R2\\_B34'\n",
       "\\item 'DNA\\_extracted'\n",
       "\\item 'UML\\_NARWHAL\\_R2\\_B32, UML\\_NARWHAL\\_R2\\_B29, UML\\_NARWHAL\\_R2\\_B33'\n",
       "\\item 'UML\\_NARWHAL\\_R2\\_B32, UML\\_NARWHAL\\_R2\\_B33, UML\\_NARWHAL\\_R2\\_B35'\n",
       "\\item 'UML\\_NARWHAL\\_R2\\_B29, UML\\_NARWHAL\\_R2\\_B34, UML\\_NARWHAL\\_R2\\_B32,  UML\\_NARWHAL\\_R2\\_B35'\n",
       "\\item 'UML\\_NARWHAL\\_R2\\_B29, UML\\_NARWHAL\\_R2\\_B33'\n",
       "\\item 'UML\\_NARWHAL\\_R2\\_B29, UML\\_NARWHAL\\_R2\\_B35, UML\\_NARWHAL\\_R2\\_B32'\n",
       "\\item 'UML\\_NARWHAL\\_R2\\_B33, UML\\_NARWHAL\\_R2\\_B32, UML\\_NARWHAL\\_R2\\_B35'\n",
       "\\item 'UML\\_NARWHAL\\_R2\\_B32, UML\\_NARWHAL\\_R2\\_B29, UML\\_NARWHAL\\_R2\\_B34'\n",
       "\\item 'UML\\_NARWHAL\\_R2\\_B32, UML\\_NARWHAL\\_R2\\_B35, UML\\_NARWHAL\\_R2\\_B29, UML\\_NARWHAL\\_R2\\_B26, UML\\_NARWHAL\\_R2\\_B34'\n",
       "\\item 'UML\\_NARWHAL\\_R2\\_B32, UML\\_NARWHAL\\_R2\\_B33, UML\\_NARWHAL\\_R2\\_B29, UML\\_NARWHAL\\_R2\\_B35'\n",
       "\\item 'UML\\_NARWHAL\\_R2\\_B13'\n",
       "\\item 'UML\\_NARWHAL\\_R2\\_B16'\n",
       "\\end{enumerate*}\n"
      ],
      "text/markdown": [
       "1. ''\n",
       "2. 'UML_NARWHAL_R2_B12'\n",
       "3. 'UML_NARWHAL_R2_B11'\n",
       "4. 'UML_NARWHAL_R2_B3'\n",
       "5. 'UML_NARWHAL_R2_B26'\n",
       "6. 'UML_NARWHAL_R2_B29, UML_NARWHAL_R2_B34'\n",
       "7. 'UML_NARWHAL_R2_B29'\n",
       "8. 'UML_NARWHAL_R2_B14'\n",
       "9. 'UML_NARWHAL_R2_B15'\n",
       "10. 'UML_NARWHAL_R2_B32, UML_NARWHAL_R2_B29, UML_NARWHAL_R2_B35'\n",
       "11. 'UML_NARWHAL_R2_B32, UML_NARWHAL_R2_B29, UML_NARHWAL_PINK'\n",
       "12. <span style=white-space:pre-wrap>'UML_NARWHAL_R2_B32,  UML_NARWHAL_R2_B35'</span>\n",
       "13. 'UML_NARWHAL_R2_B32, UML_NARWHAL_R2_B35'\n",
       "14. 'UML_NARWHAL_R2_B14, UML_NARWHAL_R2_B33'\n",
       "15. 'UML_NARWHAL_R2_B32'\n",
       "16. 'UML_NARWHAL_R2_B32, UML_NARWHAL_R2_B35, UML_NARWHAL_R2_B33'\n",
       "17. 'UML_NARWHAL_R2_B35'\n",
       "18. 'UML_NARWHAL_R2_B32, UML_NARWHAL_R2_B29, UML_NARWHAL_R2_B34, UML_NARWHAL_R2_B35'\n",
       "19. ' UML_NARWHAL_R2_B35, UML_NARWHAL_R2_B3'\n",
       "20. 'UML_NARWHAL_R2_B32, UML_NARWHAL_R2_B33'\n",
       "21. 'UML_NARWHAL_R2_B33'\n",
       "22. 'UML_NARWHAL_R2_B34, UML_NARWHAL_R2_B32, UML_NARWHAL_R2_B35'\n",
       "23. 'UML_NARWHAL_R2_B35, UML_NARWHAL_R2_B29, UML_NARWHAL_R2_B34'\n",
       "24. 'DNA_extracted'\n",
       "25. 'UML_NARWHAL_R2_B32, UML_NARWHAL_R2_B29, UML_NARWHAL_R2_B33'\n",
       "26. 'UML_NARWHAL_R2_B32, UML_NARWHAL_R2_B33, UML_NARWHAL_R2_B35'\n",
       "27. <span style=white-space:pre-wrap>'UML_NARWHAL_R2_B29, UML_NARWHAL_R2_B34, UML_NARWHAL_R2_B32,  UML_NARWHAL_R2_B35'</span>\n",
       "28. 'UML_NARWHAL_R2_B29, UML_NARWHAL_R2_B33'\n",
       "29. 'UML_NARWHAL_R2_B29, UML_NARWHAL_R2_B35, UML_NARWHAL_R2_B32'\n",
       "30. 'UML_NARWHAL_R2_B33, UML_NARWHAL_R2_B32, UML_NARWHAL_R2_B35'\n",
       "31. 'UML_NARWHAL_R2_B32, UML_NARWHAL_R2_B29, UML_NARWHAL_R2_B34'\n",
       "32. 'UML_NARWHAL_R2_B32, UML_NARWHAL_R2_B35, UML_NARWHAL_R2_B29, UML_NARWHAL_R2_B26, UML_NARWHAL_R2_B34'\n",
       "33. 'UML_NARWHAL_R2_B32, UML_NARWHAL_R2_B33, UML_NARWHAL_R2_B29, UML_NARWHAL_R2_B35'\n",
       "34. 'UML_NARWHAL_R2_B13'\n",
       "35. 'UML_NARWHAL_R2_B16'\n",
       "\n",
       "\n"
      ],
      "text/plain": [
       " [1] \"\"                                                                                                  \n",
       " [2] \"UML_NARWHAL_R2_B12\"                                                                                \n",
       " [3] \"UML_NARWHAL_R2_B11\"                                                                                \n",
       " [4] \"UML_NARWHAL_R2_B3\"                                                                                 \n",
       " [5] \"UML_NARWHAL_R2_B26\"                                                                                \n",
       " [6] \"UML_NARWHAL_R2_B29, UML_NARWHAL_R2_B34\"                                                            \n",
       " [7] \"UML_NARWHAL_R2_B29\"                                                                                \n",
       " [8] \"UML_NARWHAL_R2_B14\"                                                                                \n",
       " [9] \"UML_NARWHAL_R2_B15\"                                                                                \n",
       "[10] \"UML_NARWHAL_R2_B32, UML_NARWHAL_R2_B29, UML_NARWHAL_R2_B35\"                                        \n",
       "[11] \"UML_NARWHAL_R2_B32, UML_NARWHAL_R2_B29, UML_NARHWAL_PINK\"                                          \n",
       "[12] \"UML_NARWHAL_R2_B32,  UML_NARWHAL_R2_B35\"                                                           \n",
       "[13] \"UML_NARWHAL_R2_B32, UML_NARWHAL_R2_B35\"                                                            \n",
       "[14] \"UML_NARWHAL_R2_B14, UML_NARWHAL_R2_B33\"                                                            \n",
       "[15] \"UML_NARWHAL_R2_B32\"                                                                                \n",
       "[16] \"UML_NARWHAL_R2_B32, UML_NARWHAL_R2_B35, UML_NARWHAL_R2_B33\"                                        \n",
       "[17] \"UML_NARWHAL_R2_B35\"                                                                                \n",
       "[18] \"UML_NARWHAL_R2_B32, UML_NARWHAL_R2_B29, UML_NARWHAL_R2_B34, UML_NARWHAL_R2_B35\"                    \n",
       "[19] \" UML_NARWHAL_R2_B35, UML_NARWHAL_R2_B3\"                                                            \n",
       "[20] \"UML_NARWHAL_R2_B32, UML_NARWHAL_R2_B33\"                                                            \n",
       "[21] \"UML_NARWHAL_R2_B33\"                                                                                \n",
       "[22] \"UML_NARWHAL_R2_B34, UML_NARWHAL_R2_B32, UML_NARWHAL_R2_B35\"                                        \n",
       "[23] \"UML_NARWHAL_R2_B35, UML_NARWHAL_R2_B29, UML_NARWHAL_R2_B34\"                                        \n",
       "[24] \"DNA_extracted\"                                                                                     \n",
       "[25] \"UML_NARWHAL_R2_B32, UML_NARWHAL_R2_B29, UML_NARWHAL_R2_B33\"                                        \n",
       "[26] \"UML_NARWHAL_R2_B32, UML_NARWHAL_R2_B33, UML_NARWHAL_R2_B35\"                                        \n",
       "[27] \"UML_NARWHAL_R2_B29, UML_NARWHAL_R2_B34, UML_NARWHAL_R2_B32,  UML_NARWHAL_R2_B35\"                   \n",
       "[28] \"UML_NARWHAL_R2_B29, UML_NARWHAL_R2_B33\"                                                            \n",
       "[29] \"UML_NARWHAL_R2_B29, UML_NARWHAL_R2_B35, UML_NARWHAL_R2_B32\"                                        \n",
       "[30] \"UML_NARWHAL_R2_B33, UML_NARWHAL_R2_B32, UML_NARWHAL_R2_B35\"                                        \n",
       "[31] \"UML_NARWHAL_R2_B32, UML_NARWHAL_R2_B29, UML_NARWHAL_R2_B34\"                                        \n",
       "[32] \"UML_NARWHAL_R2_B32, UML_NARWHAL_R2_B35, UML_NARWHAL_R2_B29, UML_NARWHAL_R2_B26, UML_NARWHAL_R2_B34\"\n",
       "[33] \"UML_NARWHAL_R2_B32, UML_NARWHAL_R2_B33, UML_NARWHAL_R2_B29, UML_NARWHAL_R2_B35\"                    \n",
       "[34] \"UML_NARWHAL_R2_B13\"                                                                                \n",
       "[35] \"UML_NARWHAL_R2_B16\"                                                                                "
      ]
     },
     "metadata": {},
     "output_type": "display_data"
    }
   ],
   "source": [
    "unique(sample$Extraction_physical_location)"
   ]
  },
  {
   "cell_type": "code",
   "execution_count": 27,
   "id": "a340d2a5-528d-460e-83b8-b610afa099be",
   "metadata": {},
   "outputs": [
    {
     "data": {
      "text/html": [
       "<style>\n",
       ".list-inline {list-style: none; margin:0; padding: 0}\n",
       ".list-inline>li {display: inline-block}\n",
       ".list-inline>li:not(:last-child)::after {content: \"\\00b7\"; padding: 0 .5ex}\n",
       "</style>\n",
       "<ol class=list-inline><li>'UML_NARWHAL_R2_B3'</li><li>'UML_NARWHAL_R2_B29'</li><li>'UML_NARWHAL_R2_B32, UML_NARWHAL_R2_B35'</li><li>'UML_NARWHAL_R2_B14, UML_NARWHAL_R2_B33'</li><li>'UML_NARWHAL_R2_B32, UML_NARWHAL_R2_B35, UML_NARWHAL_R2_B33'</li><li>''</li><li>' UML_NARWHAL_R2_B35, UML_NARWHAL_R2_B3'</li><li>'UML_NARWHAL_R2_B32'</li><li>'UML_NARWHAL_R2_B29, UML_NARWHAL_R2_B33'</li><li>'UML_NARWHAL_R2_B33'</li><li>'UML_NARWHAL_R2_B32, UML_NARWHAL_R2_B29, UML_NARWHAL_R2_B33'</li><li>'UML_NARWHAL_R2_B35'</li><li>'UML_NARWHAL_R2_B32, UML_NARWHAL_R2_B29, UML_NARWHAL_R2_B35'</li><li>'UML_NARWHAL_R2_B32, UML_NARWHAL_R2_B33'</li><li>'UML_NARWHAL_R2_B32, UML_NARWHAL_R2_B29, UML_NARWHAL_R2_B34, UML_NARWHAL_R2_B35'</li><li>'UML_NARWHAL_R2_B32, UML_NARWHAL_R2_B35, UML_NARWHAL_R2_B29, UML_NARWHAL_R2_B26, UML_NARWHAL_R2_B34'</li><li>'UML_NARWHAL_R2_B26'</li><li>'UML_NARWHAL_R2_B11'</li><li><span style=white-space:pre-wrap>'UML_NARWHAL_R2_B32,  UML_NARWHAL_R2_B35'</span></li><li>'UML_NARWHAL_R2_B32, UML_NARWHAL_R2_B29, UML_NARHWAL_PINK'</li><li>'UML_NARWHAL_R2_B29, UML_NARWHAL_R2_B34'</li><li>'UML_NARWHAL_R2_B35, UML_NARWHAL_R2_B29, UML_NARWHAL_R2_B34'</li><li>'UML_NARWHAL_R2_B29, UML_NARWHAL_R2_B35, UML_NARWHAL_R2_B32'</li><li><span style=white-space:pre-wrap>'UML_NARWHAL_R2_B29, UML_NARWHAL_R2_B34, UML_NARWHAL_R2_B32,  UML_NARWHAL_R2_B35'</span></li><li>'UML_NARWHAL_R2_B32, UML_NARWHAL_R2_B29, UML_NARWHAL_R2_B34'</li><li>'UML_NARWHAL_R2_B34, UML_NARWHAL_R2_B32, UML_NARWHAL_R2_B35'</li><li>'UML_NARWHAL_R2_B32, UML_NARWHAL_R2_B33, UML_NARWHAL_R2_B35'</li><li>'UML_NARWHAL_R2_B33, UML_NARWHAL_R2_B32, UML_NARWHAL_R2_B35'</li><li>'UML_NARWHAL_R2_B12'</li><li>'UML_NARWHAL_R2_B13'</li><li>'UML_NARWHAL_R2_B32, UML_NARWHAL_R2_B33, UML_NARWHAL_R2_B29, UML_NARWHAL_R2_B35'</li><li>'UML_NARWHAL_R2_B14'</li><li>'UML_NARWHAL_R2_B15'</li><li>'UML_NARWHAL_R2_B16'</li></ol>\n"
      ],
      "text/latex": [
       "\\begin{enumerate*}\n",
       "\\item 'UML\\_NARWHAL\\_R2\\_B3'\n",
       "\\item 'UML\\_NARWHAL\\_R2\\_B29'\n",
       "\\item 'UML\\_NARWHAL\\_R2\\_B32, UML\\_NARWHAL\\_R2\\_B35'\n",
       "\\item 'UML\\_NARWHAL\\_R2\\_B14, UML\\_NARWHAL\\_R2\\_B33'\n",
       "\\item 'UML\\_NARWHAL\\_R2\\_B32, UML\\_NARWHAL\\_R2\\_B35, UML\\_NARWHAL\\_R2\\_B33'\n",
       "\\item ''\n",
       "\\item ' UML\\_NARWHAL\\_R2\\_B35, UML\\_NARWHAL\\_R2\\_B3'\n",
       "\\item 'UML\\_NARWHAL\\_R2\\_B32'\n",
       "\\item 'UML\\_NARWHAL\\_R2\\_B29, UML\\_NARWHAL\\_R2\\_B33'\n",
       "\\item 'UML\\_NARWHAL\\_R2\\_B33'\n",
       "\\item 'UML\\_NARWHAL\\_R2\\_B32, UML\\_NARWHAL\\_R2\\_B29, UML\\_NARWHAL\\_R2\\_B33'\n",
       "\\item 'UML\\_NARWHAL\\_R2\\_B35'\n",
       "\\item 'UML\\_NARWHAL\\_R2\\_B32, UML\\_NARWHAL\\_R2\\_B29, UML\\_NARWHAL\\_R2\\_B35'\n",
       "\\item 'UML\\_NARWHAL\\_R2\\_B32, UML\\_NARWHAL\\_R2\\_B33'\n",
       "\\item 'UML\\_NARWHAL\\_R2\\_B32, UML\\_NARWHAL\\_R2\\_B29, UML\\_NARWHAL\\_R2\\_B34, UML\\_NARWHAL\\_R2\\_B35'\n",
       "\\item 'UML\\_NARWHAL\\_R2\\_B32, UML\\_NARWHAL\\_R2\\_B35, UML\\_NARWHAL\\_R2\\_B29, UML\\_NARWHAL\\_R2\\_B26, UML\\_NARWHAL\\_R2\\_B34'\n",
       "\\item 'UML\\_NARWHAL\\_R2\\_B26'\n",
       "\\item 'UML\\_NARWHAL\\_R2\\_B11'\n",
       "\\item 'UML\\_NARWHAL\\_R2\\_B32,  UML\\_NARWHAL\\_R2\\_B35'\n",
       "\\item 'UML\\_NARWHAL\\_R2\\_B32, UML\\_NARWHAL\\_R2\\_B29, UML\\_NARHWAL\\_PINK'\n",
       "\\item 'UML\\_NARWHAL\\_R2\\_B29, UML\\_NARWHAL\\_R2\\_B34'\n",
       "\\item 'UML\\_NARWHAL\\_R2\\_B35, UML\\_NARWHAL\\_R2\\_B29, UML\\_NARWHAL\\_R2\\_B34'\n",
       "\\item 'UML\\_NARWHAL\\_R2\\_B29, UML\\_NARWHAL\\_R2\\_B35, UML\\_NARWHAL\\_R2\\_B32'\n",
       "\\item 'UML\\_NARWHAL\\_R2\\_B29, UML\\_NARWHAL\\_R2\\_B34, UML\\_NARWHAL\\_R2\\_B32,  UML\\_NARWHAL\\_R2\\_B35'\n",
       "\\item 'UML\\_NARWHAL\\_R2\\_B32, UML\\_NARWHAL\\_R2\\_B29, UML\\_NARWHAL\\_R2\\_B34'\n",
       "\\item 'UML\\_NARWHAL\\_R2\\_B34, UML\\_NARWHAL\\_R2\\_B32, UML\\_NARWHAL\\_R2\\_B35'\n",
       "\\item 'UML\\_NARWHAL\\_R2\\_B32, UML\\_NARWHAL\\_R2\\_B33, UML\\_NARWHAL\\_R2\\_B35'\n",
       "\\item 'UML\\_NARWHAL\\_R2\\_B33, UML\\_NARWHAL\\_R2\\_B32, UML\\_NARWHAL\\_R2\\_B35'\n",
       "\\item 'UML\\_NARWHAL\\_R2\\_B12'\n",
       "\\item 'UML\\_NARWHAL\\_R2\\_B13'\n",
       "\\item 'UML\\_NARWHAL\\_R2\\_B32, UML\\_NARWHAL\\_R2\\_B33, UML\\_NARWHAL\\_R2\\_B29, UML\\_NARWHAL\\_R2\\_B35'\n",
       "\\item 'UML\\_NARWHAL\\_R2\\_B14'\n",
       "\\item 'UML\\_NARWHAL\\_R2\\_B15'\n",
       "\\item 'UML\\_NARWHAL\\_R2\\_B16'\n",
       "\\end{enumerate*}\n"
      ],
      "text/markdown": [
       "1. 'UML_NARWHAL_R2_B3'\n",
       "2. 'UML_NARWHAL_R2_B29'\n",
       "3. 'UML_NARWHAL_R2_B32, UML_NARWHAL_R2_B35'\n",
       "4. 'UML_NARWHAL_R2_B14, UML_NARWHAL_R2_B33'\n",
       "5. 'UML_NARWHAL_R2_B32, UML_NARWHAL_R2_B35, UML_NARWHAL_R2_B33'\n",
       "6. ''\n",
       "7. ' UML_NARWHAL_R2_B35, UML_NARWHAL_R2_B3'\n",
       "8. 'UML_NARWHAL_R2_B32'\n",
       "9. 'UML_NARWHAL_R2_B29, UML_NARWHAL_R2_B33'\n",
       "10. 'UML_NARWHAL_R2_B33'\n",
       "11. 'UML_NARWHAL_R2_B32, UML_NARWHAL_R2_B29, UML_NARWHAL_R2_B33'\n",
       "12. 'UML_NARWHAL_R2_B35'\n",
       "13. 'UML_NARWHAL_R2_B32, UML_NARWHAL_R2_B29, UML_NARWHAL_R2_B35'\n",
       "14. 'UML_NARWHAL_R2_B32, UML_NARWHAL_R2_B33'\n",
       "15. 'UML_NARWHAL_R2_B32, UML_NARWHAL_R2_B29, UML_NARWHAL_R2_B34, UML_NARWHAL_R2_B35'\n",
       "16. 'UML_NARWHAL_R2_B32, UML_NARWHAL_R2_B35, UML_NARWHAL_R2_B29, UML_NARWHAL_R2_B26, UML_NARWHAL_R2_B34'\n",
       "17. 'UML_NARWHAL_R2_B26'\n",
       "18. 'UML_NARWHAL_R2_B11'\n",
       "19. <span style=white-space:pre-wrap>'UML_NARWHAL_R2_B32,  UML_NARWHAL_R2_B35'</span>\n",
       "20. 'UML_NARWHAL_R2_B32, UML_NARWHAL_R2_B29, UML_NARHWAL_PINK'\n",
       "21. 'UML_NARWHAL_R2_B29, UML_NARWHAL_R2_B34'\n",
       "22. 'UML_NARWHAL_R2_B35, UML_NARWHAL_R2_B29, UML_NARWHAL_R2_B34'\n",
       "23. 'UML_NARWHAL_R2_B29, UML_NARWHAL_R2_B35, UML_NARWHAL_R2_B32'\n",
       "24. <span style=white-space:pre-wrap>'UML_NARWHAL_R2_B29, UML_NARWHAL_R2_B34, UML_NARWHAL_R2_B32,  UML_NARWHAL_R2_B35'</span>\n",
       "25. 'UML_NARWHAL_R2_B32, UML_NARWHAL_R2_B29, UML_NARWHAL_R2_B34'\n",
       "26. 'UML_NARWHAL_R2_B34, UML_NARWHAL_R2_B32, UML_NARWHAL_R2_B35'\n",
       "27. 'UML_NARWHAL_R2_B32, UML_NARWHAL_R2_B33, UML_NARWHAL_R2_B35'\n",
       "28. 'UML_NARWHAL_R2_B33, UML_NARWHAL_R2_B32, UML_NARWHAL_R2_B35'\n",
       "29. 'UML_NARWHAL_R2_B12'\n",
       "30. 'UML_NARWHAL_R2_B13'\n",
       "31. 'UML_NARWHAL_R2_B32, UML_NARWHAL_R2_B33, UML_NARWHAL_R2_B29, UML_NARWHAL_R2_B35'\n",
       "32. 'UML_NARWHAL_R2_B14'\n",
       "33. 'UML_NARWHAL_R2_B15'\n",
       "34. 'UML_NARWHAL_R2_B16'\n",
       "\n",
       "\n"
      ],
      "text/plain": [
       " [1] \"UML_NARWHAL_R2_B3\"                                                                                 \n",
       " [2] \"UML_NARWHAL_R2_B29\"                                                                                \n",
       " [3] \"UML_NARWHAL_R2_B32, UML_NARWHAL_R2_B35\"                                                            \n",
       " [4] \"UML_NARWHAL_R2_B14, UML_NARWHAL_R2_B33\"                                                            \n",
       " [5] \"UML_NARWHAL_R2_B32, UML_NARWHAL_R2_B35, UML_NARWHAL_R2_B33\"                                        \n",
       " [6] \"\"                                                                                                  \n",
       " [7] \" UML_NARWHAL_R2_B35, UML_NARWHAL_R2_B3\"                                                            \n",
       " [8] \"UML_NARWHAL_R2_B32\"                                                                                \n",
       " [9] \"UML_NARWHAL_R2_B29, UML_NARWHAL_R2_B33\"                                                            \n",
       "[10] \"UML_NARWHAL_R2_B33\"                                                                                \n",
       "[11] \"UML_NARWHAL_R2_B32, UML_NARWHAL_R2_B29, UML_NARWHAL_R2_B33\"                                        \n",
       "[12] \"UML_NARWHAL_R2_B35\"                                                                                \n",
       "[13] \"UML_NARWHAL_R2_B32, UML_NARWHAL_R2_B29, UML_NARWHAL_R2_B35\"                                        \n",
       "[14] \"UML_NARWHAL_R2_B32, UML_NARWHAL_R2_B33\"                                                            \n",
       "[15] \"UML_NARWHAL_R2_B32, UML_NARWHAL_R2_B29, UML_NARWHAL_R2_B34, UML_NARWHAL_R2_B35\"                    \n",
       "[16] \"UML_NARWHAL_R2_B32, UML_NARWHAL_R2_B35, UML_NARWHAL_R2_B29, UML_NARWHAL_R2_B26, UML_NARWHAL_R2_B34\"\n",
       "[17] \"UML_NARWHAL_R2_B26\"                                                                                \n",
       "[18] \"UML_NARWHAL_R2_B11\"                                                                                \n",
       "[19] \"UML_NARWHAL_R2_B32,  UML_NARWHAL_R2_B35\"                                                           \n",
       "[20] \"UML_NARWHAL_R2_B32, UML_NARWHAL_R2_B29, UML_NARHWAL_PINK\"                                          \n",
       "[21] \"UML_NARWHAL_R2_B29, UML_NARWHAL_R2_B34\"                                                            \n",
       "[22] \"UML_NARWHAL_R2_B35, UML_NARWHAL_R2_B29, UML_NARWHAL_R2_B34\"                                        \n",
       "[23] \"UML_NARWHAL_R2_B29, UML_NARWHAL_R2_B35, UML_NARWHAL_R2_B32\"                                        \n",
       "[24] \"UML_NARWHAL_R2_B29, UML_NARWHAL_R2_B34, UML_NARWHAL_R2_B32,  UML_NARWHAL_R2_B35\"                   \n",
       "[25] \"UML_NARWHAL_R2_B32, UML_NARWHAL_R2_B29, UML_NARWHAL_R2_B34\"                                        \n",
       "[26] \"UML_NARWHAL_R2_B34, UML_NARWHAL_R2_B32, UML_NARWHAL_R2_B35\"                                        \n",
       "[27] \"UML_NARWHAL_R2_B32, UML_NARWHAL_R2_B33, UML_NARWHAL_R2_B35\"                                        \n",
       "[28] \"UML_NARWHAL_R2_B33, UML_NARWHAL_R2_B32, UML_NARWHAL_R2_B35\"                                        \n",
       "[29] \"UML_NARWHAL_R2_B12\"                                                                                \n",
       "[30] \"UML_NARWHAL_R2_B13\"                                                                                \n",
       "[31] \"UML_NARWHAL_R2_B32, UML_NARWHAL_R2_B33, UML_NARWHAL_R2_B29, UML_NARWHAL_R2_B35\"                    \n",
       "[32] \"UML_NARWHAL_R2_B14\"                                                                                \n",
       "[33] \"UML_NARWHAL_R2_B15\"                                                                                \n",
       "[34] \"UML_NARWHAL_R2_B16\"                                                                                "
      ]
     },
     "metadata": {},
     "output_type": "display_data"
    }
   ],
   "source": [
    "unique(metagenomics$Extraction_physical_location)"
   ]
  },
  {
   "cell_type": "code",
   "execution_count": 29,
   "id": "d365299e-22c5-4f9d-9670-e4c4a73c6292",
   "metadata": {},
   "outputs": [
    {
     "data": {
      "text/html": [
       "1"
      ],
      "text/latex": [
       "1"
      ],
      "text/markdown": [
       "1"
      ],
      "text/plain": [
       "[1] 1"
      ]
     },
     "metadata": {},
     "output_type": "display_data"
    },
    {
     "data": {
      "text/html": [
       "<table class=\"dataframe\">\n",
       "<caption>A data.frame: 1 × 21</caption>\n",
       "<thead>\n",
       "\t<tr><th scope=col>X</th><th scope=col>Month_year</th><th scope=col>Country</th><th scope=col>Location</th><th scope=col>CollectionDate</th><th scope=col>Transect</th><th scope=col>TransectNum</th><th scope=col>OldTagNum</th><th scope=col>NewTagNum</th><th scope=col>Species</th><th scope=col>⋯</th><th scope=col>Time_processed</th><th scope=col>Sample_type</th><th scope=col>SampleNum</th><th scope=col>Health_status</th><th scope=col>Sampling_notes</th><th scope=col>Tubelabel_species</th><th scope=col>Sample_physical_location</th><th scope=col>Extraction_physical_location</th><th scope=col>Date_sequenced</th><th scope=col>Notes</th></tr>\n",
       "\t<tr><th scope=col>&lt;int&gt;</th><th scope=col>&lt;int&gt;</th><th scope=col>&lt;chr&gt;</th><th scope=col>&lt;chr&gt;</th><th scope=col>&lt;chr&gt;</th><th scope=col>&lt;chr&gt;</th><th scope=col>&lt;int&gt;</th><th scope=col>&lt;chr&gt;</th><th scope=col>&lt;chr&gt;</th><th scope=col>&lt;chr&gt;</th><th scope=col>⋯</th><th scope=col>&lt;chr&gt;</th><th scope=col>&lt;chr&gt;</th><th scope=col>&lt;chr&gt;</th><th scope=col>&lt;chr&gt;</th><th scope=col>&lt;chr&gt;</th><th scope=col>&lt;chr&gt;</th><th scope=col>&lt;chr&gt;</th><th scope=col>&lt;chr&gt;</th><th scope=col>&lt;chr&gt;</th><th scope=col>&lt;chr&gt;</th></tr>\n",
       "</thead>\n",
       "<tbody>\n",
       "\t<tr><td>928</td><td>62019</td><td>BEL</td><td>CBC</td><td>6/24/19</td><td>CBC30N</td><td>1</td><td>384</td><td>16</td><td>SSID</td><td>⋯</td><td></td><td>Core_EtOH</td><td>15</td><td>Healthy</td><td></td><td>062019_BEL_CBC_T1_15_SSID</td><td>UML_NARWHAL_R1_B1</td><td>DNA_extracted</td><td></td><td></td></tr>\n",
       "</tbody>\n",
       "</table>\n"
      ],
      "text/latex": [
       "A data.frame: 1 × 21\n",
       "\\begin{tabular}{lllllllllllllllllllll}\n",
       " X & Month\\_year & Country & Location & CollectionDate & Transect & TransectNum & OldTagNum & NewTagNum & Species & ⋯ & Time\\_processed & Sample\\_type & SampleNum & Health\\_status & Sampling\\_notes & Tubelabel\\_species & Sample\\_physical\\_location & Extraction\\_physical\\_location & Date\\_sequenced & Notes\\\\\n",
       " <int> & <int> & <chr> & <chr> & <chr> & <chr> & <int> & <chr> & <chr> & <chr> & ⋯ & <chr> & <chr> & <chr> & <chr> & <chr> & <chr> & <chr> & <chr> & <chr> & <chr>\\\\\n",
       "\\hline\n",
       "\t 928 & 62019 & BEL & CBC & 6/24/19 & CBC30N & 1 & 384 & 16 & SSID & ⋯ &  & Core\\_EtOH & 15 & Healthy &  & 062019\\_BEL\\_CBC\\_T1\\_15\\_SSID & UML\\_NARWHAL\\_R1\\_B1 & DNA\\_extracted &  & \\\\\n",
       "\\end{tabular}\n"
      ],
      "text/markdown": [
       "\n",
       "A data.frame: 1 × 21\n",
       "\n",
       "| X &lt;int&gt; | Month_year &lt;int&gt; | Country &lt;chr&gt; | Location &lt;chr&gt; | CollectionDate &lt;chr&gt; | Transect &lt;chr&gt; | TransectNum &lt;int&gt; | OldTagNum &lt;chr&gt; | NewTagNum &lt;chr&gt; | Species &lt;chr&gt; | ⋯ ⋯ | Time_processed &lt;chr&gt; | Sample_type &lt;chr&gt; | SampleNum &lt;chr&gt; | Health_status &lt;chr&gt; | Sampling_notes &lt;chr&gt; | Tubelabel_species &lt;chr&gt; | Sample_physical_location &lt;chr&gt; | Extraction_physical_location &lt;chr&gt; | Date_sequenced &lt;chr&gt; | Notes &lt;chr&gt; |\n",
       "|---|---|---|---|---|---|---|---|---|---|---|---|---|---|---|---|---|---|---|---|---|\n",
       "| 928 | 62019 | BEL | CBC | 6/24/19 | CBC30N | 1 | 384 | 16 | SSID | ⋯ | <!----> | Core_EtOH | 15 | Healthy | <!----> | 062019_BEL_CBC_T1_15_SSID | UML_NARWHAL_R1_B1 | DNA_extracted | <!----> | <!----> |\n",
       "\n"
      ],
      "text/plain": [
       "  X   Month_year Country Location CollectionDate Transect TransectNum OldTagNum\n",
       "1 928 62019      BEL     CBC      6/24/19        CBC30N   1           384      \n",
       "  NewTagNum Species ⋯ Time_processed Sample_type SampleNum Health_status\n",
       "1 16        SSID    ⋯                Core_EtOH   15        Healthy      \n",
       "  Sampling_notes Tubelabel_species         Sample_physical_location\n",
       "1                062019_BEL_CBC_T1_15_SSID UML_NARWHAL_R1_B1       \n",
       "  Extraction_physical_location Date_sequenced Notes\n",
       "1 DNA_extracted                                    "
      ]
     },
     "metadata": {},
     "output_type": "display_data"
    }
   ],
   "source": [
    "location_unmatched=anti_join(sample,metagenomics, by='Extraction_physical_location')\n",
    "nrow(location_unmatched)\n",
    "(location_unmatched)"
   ]
  },
  {
   "cell_type": "code",
   "execution_count": 10,
   "id": "184c90ed-fa4e-4ca0-92f9-401aba8adbaa",
   "metadata": {},
   "outputs": [],
   "source": [
    "# Update the 'Extraction_physical_location' column in samples\n",
    "sample$Extraction_physical_location <- coalesce(metagenomics$Extraction_physical_location[match(sample$Tubelabel_species, metagenomics$Tubelabel_species)], sample$Extraction_physical_location)\n"
   ]
  },
  {
   "cell_type": "code",
   "execution_count": 11,
   "id": "2189cd3a-ff12-47fb-a648-fb0ec2dae367",
   "metadata": {
    "scrolled": true
   },
   "outputs": [
    {
     "data": {
      "text/html": [
       "<style>\n",
       ".list-inline {list-style: none; margin:0; padding: 0}\n",
       ".list-inline>li {display: inline-block}\n",
       ".list-inline>li:not(:last-child)::after {content: \"\\00b7\"; padding: 0 .5ex}\n",
       "</style>\n",
       "<ol class=list-inline><li>''</li><li>'UML_NARWHAL_R2_B12'</li><li>'UML_NARWHAL_R2_B11'</li><li>'UML_NARWHAL_R2_B3'</li><li>'UML_NARWHAL_R2_B26'</li><li>'UML_NARWHAL_R2_B29, UML_NARWHAL_R2_B34'</li><li>'UML_NARWHAL_R2_B29'</li><li>'UML_NARWHAL_R2_B14'</li><li>'UML_NARWHAL_R2_B15'</li><li>'UML_NARWHAL_R2_B32, UML_NARWHAL_R2_B29, UML_NARWHAL_R2_B35'</li><li>'UML_NARWHAL_R2_B32, UML_NARWHAL_R2_B29, UML_NARHWAL_PINK'</li><li><span style=white-space:pre-wrap>'UML_NARWHAL_R2_B32,  UML_NARWHAL_R2_B35'</span></li><li>'UML_NARWHAL_R2_B32, UML_NARWHAL_R2_B35'</li><li>'UML_NARWHAL_R2_B14, UML_NARWHAL_R2_B33'</li><li>'UML_NARWHAL_R2_B32'</li><li>'UML_NARWHAL_R2_B32, UML_NARWHAL_R2_B35, UML_NARWHAL_R2_B33'</li><li>'UML_NARWHAL_R2_B35'</li><li>'UML_NARWHAL_R2_B32, UML_NARWHAL_R2_B29, UML_NARWHAL_R2_B34, UML_NARWHAL_R2_B35'</li><li>' UML_NARWHAL_R2_B35, UML_NARWHAL_R2_B3'</li><li>'UML_NARWHAL_R2_B32, UML_NARWHAL_R2_B33'</li><li>'UML_NARWHAL_R2_B33'</li><li>'UML_NARWHAL_R2_B34, UML_NARWHAL_R2_B32, UML_NARWHAL_R2_B35'</li><li>'UML_NARWHAL_R2_B35, UML_NARWHAL_R2_B29, UML_NARWHAL_R2_B34'</li><li>'DNA_extracted'</li><li>'UML_NARWHAL_R2_B32, UML_NARWHAL_R2_B29, UML_NARWHAL_R2_B33'</li><li>'UML_NARWHAL_R2_B32, UML_NARWHAL_R2_B33, UML_NARWHAL_R2_B35'</li><li><span style=white-space:pre-wrap>'UML_NARWHAL_R2_B29, UML_NARWHAL_R2_B34, UML_NARWHAL_R2_B32,  UML_NARWHAL_R2_B35'</span></li><li>'UML_NARWHAL_R2_B29, UML_NARWHAL_R2_B33'</li><li>'UML_NARWHAL_R2_B29, UML_NARWHAL_R2_B35, UML_NARWHAL_R2_B32'</li><li>'UML_NARWHAL_R2_B33, UML_NARWHAL_R2_B32, UML_NARWHAL_R2_B35'</li><li>'UML_NARWHAL_R2_B32, UML_NARWHAL_R2_B29, UML_NARWHAL_R2_B34'</li><li>'UML_NARWHAL_R2_B32, UML_NARWHAL_R2_B35, UML_NARWHAL_R2_B29, UML_NARWHAL_R2_B26, UML_NARWHAL_R2_B34'</li><li>'UML_NARWHAL_R2_B32, UML_NARWHAL_R2_B33, UML_NARWHAL_R2_B29, UML_NARWHAL_R2_B35'</li><li>'UML_NARWHAL_R2_B13'</li><li>'UML_NARWHAL_R2_B16'</li></ol>\n"
      ],
      "text/latex": [
       "\\begin{enumerate*}\n",
       "\\item ''\n",
       "\\item 'UML\\_NARWHAL\\_R2\\_B12'\n",
       "\\item 'UML\\_NARWHAL\\_R2\\_B11'\n",
       "\\item 'UML\\_NARWHAL\\_R2\\_B3'\n",
       "\\item 'UML\\_NARWHAL\\_R2\\_B26'\n",
       "\\item 'UML\\_NARWHAL\\_R2\\_B29, UML\\_NARWHAL\\_R2\\_B34'\n",
       "\\item 'UML\\_NARWHAL\\_R2\\_B29'\n",
       "\\item 'UML\\_NARWHAL\\_R2\\_B14'\n",
       "\\item 'UML\\_NARWHAL\\_R2\\_B15'\n",
       "\\item 'UML\\_NARWHAL\\_R2\\_B32, UML\\_NARWHAL\\_R2\\_B29, UML\\_NARWHAL\\_R2\\_B35'\n",
       "\\item 'UML\\_NARWHAL\\_R2\\_B32, UML\\_NARWHAL\\_R2\\_B29, UML\\_NARHWAL\\_PINK'\n",
       "\\item 'UML\\_NARWHAL\\_R2\\_B32,  UML\\_NARWHAL\\_R2\\_B35'\n",
       "\\item 'UML\\_NARWHAL\\_R2\\_B32, UML\\_NARWHAL\\_R2\\_B35'\n",
       "\\item 'UML\\_NARWHAL\\_R2\\_B14, UML\\_NARWHAL\\_R2\\_B33'\n",
       "\\item 'UML\\_NARWHAL\\_R2\\_B32'\n",
       "\\item 'UML\\_NARWHAL\\_R2\\_B32, UML\\_NARWHAL\\_R2\\_B35, UML\\_NARWHAL\\_R2\\_B33'\n",
       "\\item 'UML\\_NARWHAL\\_R2\\_B35'\n",
       "\\item 'UML\\_NARWHAL\\_R2\\_B32, UML\\_NARWHAL\\_R2\\_B29, UML\\_NARWHAL\\_R2\\_B34, UML\\_NARWHAL\\_R2\\_B35'\n",
       "\\item ' UML\\_NARWHAL\\_R2\\_B35, UML\\_NARWHAL\\_R2\\_B3'\n",
       "\\item 'UML\\_NARWHAL\\_R2\\_B32, UML\\_NARWHAL\\_R2\\_B33'\n",
       "\\item 'UML\\_NARWHAL\\_R2\\_B33'\n",
       "\\item 'UML\\_NARWHAL\\_R2\\_B34, UML\\_NARWHAL\\_R2\\_B32, UML\\_NARWHAL\\_R2\\_B35'\n",
       "\\item 'UML\\_NARWHAL\\_R2\\_B35, UML\\_NARWHAL\\_R2\\_B29, UML\\_NARWHAL\\_R2\\_B34'\n",
       "\\item 'DNA\\_extracted'\n",
       "\\item 'UML\\_NARWHAL\\_R2\\_B32, UML\\_NARWHAL\\_R2\\_B29, UML\\_NARWHAL\\_R2\\_B33'\n",
       "\\item 'UML\\_NARWHAL\\_R2\\_B32, UML\\_NARWHAL\\_R2\\_B33, UML\\_NARWHAL\\_R2\\_B35'\n",
       "\\item 'UML\\_NARWHAL\\_R2\\_B29, UML\\_NARWHAL\\_R2\\_B34, UML\\_NARWHAL\\_R2\\_B32,  UML\\_NARWHAL\\_R2\\_B35'\n",
       "\\item 'UML\\_NARWHAL\\_R2\\_B29, UML\\_NARWHAL\\_R2\\_B33'\n",
       "\\item 'UML\\_NARWHAL\\_R2\\_B29, UML\\_NARWHAL\\_R2\\_B35, UML\\_NARWHAL\\_R2\\_B32'\n",
       "\\item 'UML\\_NARWHAL\\_R2\\_B33, UML\\_NARWHAL\\_R2\\_B32, UML\\_NARWHAL\\_R2\\_B35'\n",
       "\\item 'UML\\_NARWHAL\\_R2\\_B32, UML\\_NARWHAL\\_R2\\_B29, UML\\_NARWHAL\\_R2\\_B34'\n",
       "\\item 'UML\\_NARWHAL\\_R2\\_B32, UML\\_NARWHAL\\_R2\\_B35, UML\\_NARWHAL\\_R2\\_B29, UML\\_NARWHAL\\_R2\\_B26, UML\\_NARWHAL\\_R2\\_B34'\n",
       "\\item 'UML\\_NARWHAL\\_R2\\_B32, UML\\_NARWHAL\\_R2\\_B33, UML\\_NARWHAL\\_R2\\_B29, UML\\_NARWHAL\\_R2\\_B35'\n",
       "\\item 'UML\\_NARWHAL\\_R2\\_B13'\n",
       "\\item 'UML\\_NARWHAL\\_R2\\_B16'\n",
       "\\end{enumerate*}\n"
      ],
      "text/markdown": [
       "1. ''\n",
       "2. 'UML_NARWHAL_R2_B12'\n",
       "3. 'UML_NARWHAL_R2_B11'\n",
       "4. 'UML_NARWHAL_R2_B3'\n",
       "5. 'UML_NARWHAL_R2_B26'\n",
       "6. 'UML_NARWHAL_R2_B29, UML_NARWHAL_R2_B34'\n",
       "7. 'UML_NARWHAL_R2_B29'\n",
       "8. 'UML_NARWHAL_R2_B14'\n",
       "9. 'UML_NARWHAL_R2_B15'\n",
       "10. 'UML_NARWHAL_R2_B32, UML_NARWHAL_R2_B29, UML_NARWHAL_R2_B35'\n",
       "11. 'UML_NARWHAL_R2_B32, UML_NARWHAL_R2_B29, UML_NARHWAL_PINK'\n",
       "12. <span style=white-space:pre-wrap>'UML_NARWHAL_R2_B32,  UML_NARWHAL_R2_B35'</span>\n",
       "13. 'UML_NARWHAL_R2_B32, UML_NARWHAL_R2_B35'\n",
       "14. 'UML_NARWHAL_R2_B14, UML_NARWHAL_R2_B33'\n",
       "15. 'UML_NARWHAL_R2_B32'\n",
       "16. 'UML_NARWHAL_R2_B32, UML_NARWHAL_R2_B35, UML_NARWHAL_R2_B33'\n",
       "17. 'UML_NARWHAL_R2_B35'\n",
       "18. 'UML_NARWHAL_R2_B32, UML_NARWHAL_R2_B29, UML_NARWHAL_R2_B34, UML_NARWHAL_R2_B35'\n",
       "19. ' UML_NARWHAL_R2_B35, UML_NARWHAL_R2_B3'\n",
       "20. 'UML_NARWHAL_R2_B32, UML_NARWHAL_R2_B33'\n",
       "21. 'UML_NARWHAL_R2_B33'\n",
       "22. 'UML_NARWHAL_R2_B34, UML_NARWHAL_R2_B32, UML_NARWHAL_R2_B35'\n",
       "23. 'UML_NARWHAL_R2_B35, UML_NARWHAL_R2_B29, UML_NARWHAL_R2_B34'\n",
       "24. 'DNA_extracted'\n",
       "25. 'UML_NARWHAL_R2_B32, UML_NARWHAL_R2_B29, UML_NARWHAL_R2_B33'\n",
       "26. 'UML_NARWHAL_R2_B32, UML_NARWHAL_R2_B33, UML_NARWHAL_R2_B35'\n",
       "27. <span style=white-space:pre-wrap>'UML_NARWHAL_R2_B29, UML_NARWHAL_R2_B34, UML_NARWHAL_R2_B32,  UML_NARWHAL_R2_B35'</span>\n",
       "28. 'UML_NARWHAL_R2_B29, UML_NARWHAL_R2_B33'\n",
       "29. 'UML_NARWHAL_R2_B29, UML_NARWHAL_R2_B35, UML_NARWHAL_R2_B32'\n",
       "30. 'UML_NARWHAL_R2_B33, UML_NARWHAL_R2_B32, UML_NARWHAL_R2_B35'\n",
       "31. 'UML_NARWHAL_R2_B32, UML_NARWHAL_R2_B29, UML_NARWHAL_R2_B34'\n",
       "32. 'UML_NARWHAL_R2_B32, UML_NARWHAL_R2_B35, UML_NARWHAL_R2_B29, UML_NARWHAL_R2_B26, UML_NARWHAL_R2_B34'\n",
       "33. 'UML_NARWHAL_R2_B32, UML_NARWHAL_R2_B33, UML_NARWHAL_R2_B29, UML_NARWHAL_R2_B35'\n",
       "34. 'UML_NARWHAL_R2_B13'\n",
       "35. 'UML_NARWHAL_R2_B16'\n",
       "\n",
       "\n"
      ],
      "text/plain": [
       " [1] \"\"                                                                                                  \n",
       " [2] \"UML_NARWHAL_R2_B12\"                                                                                \n",
       " [3] \"UML_NARWHAL_R2_B11\"                                                                                \n",
       " [4] \"UML_NARWHAL_R2_B3\"                                                                                 \n",
       " [5] \"UML_NARWHAL_R2_B26\"                                                                                \n",
       " [6] \"UML_NARWHAL_R2_B29, UML_NARWHAL_R2_B34\"                                                            \n",
       " [7] \"UML_NARWHAL_R2_B29\"                                                                                \n",
       " [8] \"UML_NARWHAL_R2_B14\"                                                                                \n",
       " [9] \"UML_NARWHAL_R2_B15\"                                                                                \n",
       "[10] \"UML_NARWHAL_R2_B32, UML_NARWHAL_R2_B29, UML_NARWHAL_R2_B35\"                                        \n",
       "[11] \"UML_NARWHAL_R2_B32, UML_NARWHAL_R2_B29, UML_NARHWAL_PINK\"                                          \n",
       "[12] \"UML_NARWHAL_R2_B32,  UML_NARWHAL_R2_B35\"                                                           \n",
       "[13] \"UML_NARWHAL_R2_B32, UML_NARWHAL_R2_B35\"                                                            \n",
       "[14] \"UML_NARWHAL_R2_B14, UML_NARWHAL_R2_B33\"                                                            \n",
       "[15] \"UML_NARWHAL_R2_B32\"                                                                                \n",
       "[16] \"UML_NARWHAL_R2_B32, UML_NARWHAL_R2_B35, UML_NARWHAL_R2_B33\"                                        \n",
       "[17] \"UML_NARWHAL_R2_B35\"                                                                                \n",
       "[18] \"UML_NARWHAL_R2_B32, UML_NARWHAL_R2_B29, UML_NARWHAL_R2_B34, UML_NARWHAL_R2_B35\"                    \n",
       "[19] \" UML_NARWHAL_R2_B35, UML_NARWHAL_R2_B3\"                                                            \n",
       "[20] \"UML_NARWHAL_R2_B32, UML_NARWHAL_R2_B33\"                                                            \n",
       "[21] \"UML_NARWHAL_R2_B33\"                                                                                \n",
       "[22] \"UML_NARWHAL_R2_B34, UML_NARWHAL_R2_B32, UML_NARWHAL_R2_B35\"                                        \n",
       "[23] \"UML_NARWHAL_R2_B35, UML_NARWHAL_R2_B29, UML_NARWHAL_R2_B34\"                                        \n",
       "[24] \"DNA_extracted\"                                                                                     \n",
       "[25] \"UML_NARWHAL_R2_B32, UML_NARWHAL_R2_B29, UML_NARWHAL_R2_B33\"                                        \n",
       "[26] \"UML_NARWHAL_R2_B32, UML_NARWHAL_R2_B33, UML_NARWHAL_R2_B35\"                                        \n",
       "[27] \"UML_NARWHAL_R2_B29, UML_NARWHAL_R2_B34, UML_NARWHAL_R2_B32,  UML_NARWHAL_R2_B35\"                   \n",
       "[28] \"UML_NARWHAL_R2_B29, UML_NARWHAL_R2_B33\"                                                            \n",
       "[29] \"UML_NARWHAL_R2_B29, UML_NARWHAL_R2_B35, UML_NARWHAL_R2_B32\"                                        \n",
       "[30] \"UML_NARWHAL_R2_B33, UML_NARWHAL_R2_B32, UML_NARWHAL_R2_B35\"                                        \n",
       "[31] \"UML_NARWHAL_R2_B32, UML_NARWHAL_R2_B29, UML_NARWHAL_R2_B34\"                                        \n",
       "[32] \"UML_NARWHAL_R2_B32, UML_NARWHAL_R2_B35, UML_NARWHAL_R2_B29, UML_NARWHAL_R2_B26, UML_NARWHAL_R2_B34\"\n",
       "[33] \"UML_NARWHAL_R2_B32, UML_NARWHAL_R2_B33, UML_NARWHAL_R2_B29, UML_NARWHAL_R2_B35\"                    \n",
       "[34] \"UML_NARWHAL_R2_B13\"                                                                                \n",
       "[35] \"UML_NARWHAL_R2_B16\"                                                                                "
      ]
     },
     "metadata": {},
     "output_type": "display_data"
    }
   ],
   "source": [
    "unique(sample$Extraction_physical_location)"
   ]
  },
  {
   "cell_type": "code",
   "execution_count": 12,
   "id": "d91ad50b-9a49-4f7b-b2ad-067aaa08daac",
   "metadata": {},
   "outputs": [
    {
     "data": {
      "text/html": [
       "1"
      ],
      "text/latex": [
       "1"
      ],
      "text/markdown": [
       "1"
      ],
      "text/plain": [
       "[1] 1"
      ]
     },
     "metadata": {},
     "output_type": "display_data"
    },
    {
     "data": {
      "text/html": [
       "<table class=\"dataframe\">\n",
       "<caption>A data.frame: 1 × 21</caption>\n",
       "<thead>\n",
       "\t<tr><th scope=col>X</th><th scope=col>Month_year</th><th scope=col>Country</th><th scope=col>Location</th><th scope=col>CollectionDate</th><th scope=col>Transect</th><th scope=col>TransectNum</th><th scope=col>OldTagNum</th><th scope=col>NewTagNum</th><th scope=col>Species</th><th scope=col>⋯</th><th scope=col>Time_processed</th><th scope=col>Sample_type</th><th scope=col>SampleNum</th><th scope=col>Health_status</th><th scope=col>Sampling_notes</th><th scope=col>Tubelabel_species</th><th scope=col>Sample_physical_location</th><th scope=col>Extraction_physical_location</th><th scope=col>Date_sequenced</th><th scope=col>Notes</th></tr>\n",
       "\t<tr><th scope=col>&lt;int&gt;</th><th scope=col>&lt;int&gt;</th><th scope=col>&lt;chr&gt;</th><th scope=col>&lt;chr&gt;</th><th scope=col>&lt;chr&gt;</th><th scope=col>&lt;chr&gt;</th><th scope=col>&lt;int&gt;</th><th scope=col>&lt;chr&gt;</th><th scope=col>&lt;chr&gt;</th><th scope=col>&lt;chr&gt;</th><th scope=col>⋯</th><th scope=col>&lt;chr&gt;</th><th scope=col>&lt;chr&gt;</th><th scope=col>&lt;chr&gt;</th><th scope=col>&lt;chr&gt;</th><th scope=col>&lt;chr&gt;</th><th scope=col>&lt;chr&gt;</th><th scope=col>&lt;chr&gt;</th><th scope=col>&lt;chr&gt;</th><th scope=col>&lt;chr&gt;</th><th scope=col>&lt;chr&gt;</th></tr>\n",
       "</thead>\n",
       "<tbody>\n",
       "\t<tr><td>928</td><td>62019</td><td>BEL</td><td>CBC</td><td>6/24/19</td><td>CBC30N</td><td>1</td><td>384</td><td>16</td><td>SSID</td><td>⋯</td><td></td><td>Core_EtOH</td><td>15</td><td>Healthy</td><td></td><td>062019_BEL_CBC_T1_15_SSID</td><td>UML_NARWHAL_R1_B1</td><td>DNA_extracted</td><td></td><td></td></tr>\n",
       "</tbody>\n",
       "</table>\n"
      ],
      "text/latex": [
       "A data.frame: 1 × 21\n",
       "\\begin{tabular}{lllllllllllllllllllll}\n",
       " X & Month\\_year & Country & Location & CollectionDate & Transect & TransectNum & OldTagNum & NewTagNum & Species & ⋯ & Time\\_processed & Sample\\_type & SampleNum & Health\\_status & Sampling\\_notes & Tubelabel\\_species & Sample\\_physical\\_location & Extraction\\_physical\\_location & Date\\_sequenced & Notes\\\\\n",
       " <int> & <int> & <chr> & <chr> & <chr> & <chr> & <int> & <chr> & <chr> & <chr> & ⋯ & <chr> & <chr> & <chr> & <chr> & <chr> & <chr> & <chr> & <chr> & <chr> & <chr>\\\\\n",
       "\\hline\n",
       "\t 928 & 62019 & BEL & CBC & 6/24/19 & CBC30N & 1 & 384 & 16 & SSID & ⋯ &  & Core\\_EtOH & 15 & Healthy &  & 062019\\_BEL\\_CBC\\_T1\\_15\\_SSID & UML\\_NARWHAL\\_R1\\_B1 & DNA\\_extracted &  & \\\\\n",
       "\\end{tabular}\n"
      ],
      "text/markdown": [
       "\n",
       "A data.frame: 1 × 21\n",
       "\n",
       "| X &lt;int&gt; | Month_year &lt;int&gt; | Country &lt;chr&gt; | Location &lt;chr&gt; | CollectionDate &lt;chr&gt; | Transect &lt;chr&gt; | TransectNum &lt;int&gt; | OldTagNum &lt;chr&gt; | NewTagNum &lt;chr&gt; | Species &lt;chr&gt; | ⋯ ⋯ | Time_processed &lt;chr&gt; | Sample_type &lt;chr&gt; | SampleNum &lt;chr&gt; | Health_status &lt;chr&gt; | Sampling_notes &lt;chr&gt; | Tubelabel_species &lt;chr&gt; | Sample_physical_location &lt;chr&gt; | Extraction_physical_location &lt;chr&gt; | Date_sequenced &lt;chr&gt; | Notes &lt;chr&gt; |\n",
       "|---|---|---|---|---|---|---|---|---|---|---|---|---|---|---|---|---|---|---|---|---|\n",
       "| 928 | 62019 | BEL | CBC | 6/24/19 | CBC30N | 1 | 384 | 16 | SSID | ⋯ | <!----> | Core_EtOH | 15 | Healthy | <!----> | 062019_BEL_CBC_T1_15_SSID | UML_NARWHAL_R1_B1 | DNA_extracted | <!----> | <!----> |\n",
       "\n"
      ],
      "text/plain": [
       "  X   Month_year Country Location CollectionDate Transect TransectNum OldTagNum\n",
       "1 928 62019      BEL     CBC      6/24/19        CBC30N   1           384      \n",
       "  NewTagNum Species ⋯ Time_processed Sample_type SampleNum Health_status\n",
       "1 16        SSID    ⋯                Core_EtOH   15        Healthy      \n",
       "  Sampling_notes Tubelabel_species         Sample_physical_location\n",
       "1                062019_BEL_CBC_T1_15_SSID UML_NARWHAL_R1_B1       \n",
       "  Extraction_physical_location Date_sequenced Notes\n",
       "1 DNA_extracted                                    "
      ]
     },
     "metadata": {},
     "output_type": "display_data"
    }
   ],
   "source": [
    "location_unmatched=anti_join(sample,metagenomics, by='Extraction_physical_location')\n",
    "nrow(location_unmatched)\n",
    "(location_unmatched)"
   ]
  },
  {
   "cell_type": "code",
   "execution_count": 13,
   "id": "5ea55e10-28df-4826-a874-7e7838128922",
   "metadata": {},
   "outputs": [
    {
     "name": "stderr",
     "output_type": "stream",
     "text": [
      "Loading required package: stringr\n",
      "\n"
     ]
    }
   ],
   "source": [
    "\n",
    "require(stringr)\n",
    "# Pad only values with 5 characters (e.g., 62019, 92023)\n",
    "sample$Month_year[nchar(sample$Month_year) == 5] <-\n",
    "  str_pad(sample$Month_year[nchar(sample$Month_year) == 5], width = 6, pad = \"0\")"
   ]
  },
  {
   "cell_type": "code",
   "execution_count": 14,
   "id": "e675ef61-f06b-4190-9d2b-ddb85247e0d2",
   "metadata": {},
   "outputs": [
    {
     "data": {
      "text/html": [
       "<table class=\"dataframe\">\n",
       "<caption>A data.frame: 6 × 21</caption>\n",
       "<thead>\n",
       "\t<tr><th></th><th scope=col>X</th><th scope=col>Month_year</th><th scope=col>Country</th><th scope=col>Location</th><th scope=col>CollectionDate</th><th scope=col>Transect</th><th scope=col>TransectNum</th><th scope=col>OldTagNum</th><th scope=col>NewTagNum</th><th scope=col>Species</th><th scope=col>⋯</th><th scope=col>Time_processed</th><th scope=col>Sample_type</th><th scope=col>SampleNum</th><th scope=col>Health_status</th><th scope=col>Sampling_notes</th><th scope=col>Tubelabel_species</th><th scope=col>Sample_physical_location</th><th scope=col>Extraction_physical_location</th><th scope=col>Date_sequenced</th><th scope=col>Notes</th></tr>\n",
       "\t<tr><th></th><th scope=col>&lt;int&gt;</th><th scope=col>&lt;chr&gt;</th><th scope=col>&lt;chr&gt;</th><th scope=col>&lt;chr&gt;</th><th scope=col>&lt;chr&gt;</th><th scope=col>&lt;chr&gt;</th><th scope=col>&lt;int&gt;</th><th scope=col>&lt;chr&gt;</th><th scope=col>&lt;chr&gt;</th><th scope=col>&lt;chr&gt;</th><th scope=col>⋯</th><th scope=col>&lt;chr&gt;</th><th scope=col>&lt;chr&gt;</th><th scope=col>&lt;chr&gt;</th><th scope=col>&lt;chr&gt;</th><th scope=col>&lt;chr&gt;</th><th scope=col>&lt;chr&gt;</th><th scope=col>&lt;chr&gt;</th><th scope=col>&lt;chr&gt;</th><th scope=col>&lt;chr&gt;</th><th scope=col>&lt;chr&gt;</th></tr>\n",
       "</thead>\n",
       "<tbody>\n",
       "\t<tr><th scope=row>1</th><td>1</td><td>122022</td><td>BEL</td><td>CBC</td><td>12/5/22</td><td>CURLEW</td><td>4</td><td></td><td>77</td><td>OFAV</td><td>⋯</td><td></td><td>Core_frozen  </td><td>18 </td><td>Healthy        </td><td>                            </td><td>122022_BEL_CBC_T4_18_OFAV </td><td>                  </td><td>                  </td><td></td><td>                      </td></tr>\n",
       "\t<tr><th scope=row>2</th><td>2</td><td>092023</td><td>BEL</td><td>CBC</td><td>9/27/23</td><td>CBC30N</td><td>1</td><td></td><td>1 </td><td>SSID</td><td>⋯</td><td></td><td>Core_RNAlater</td><td>185</td><td>Diseased_Margin</td><td>only margin sample available</td><td>092023_BEL_CBC_T1_185_SSID</td><td>UML_NARWHAL_R1_B10</td><td>                  </td><td></td><td>                      </td></tr>\n",
       "\t<tr><th scope=row>3</th><td>3</td><td>092023</td><td>BEL</td><td>CBC</td><td>9/25/23</td><td>CBC30N</td><td>1</td><td></td><td>2 </td><td>PAST</td><td>⋯</td><td></td><td>Core_RNAlater</td><td>171</td><td>Healthy        </td><td>CLP 90%                     </td><td>092023_BEL_CBC_T1_171_PAST</td><td>UML_NARWHAL_R1_B10</td><td>UML_NARWHAL_R2_B12</td><td></td><td>                      </td></tr>\n",
       "\t<tr><th scope=row>4</th><td>4</td><td>092023</td><td>BEL</td><td>CBC</td><td>9/25/23</td><td>CBC30N</td><td>1</td><td></td><td>3 </td><td>SSID</td><td>⋯</td><td></td><td>Core_RNAlater</td><td>173</td><td>Healthy        </td><td>CLP 80%; DC 20%             </td><td>092023_BEL_CBC_T1_173_SSID</td><td>UML_NARWHAL_R1_B10</td><td>UML_NARWHAL_R2_B12</td><td></td><td>                      </td></tr>\n",
       "\t<tr><th scope=row>5</th><td>5</td><td>092023</td><td>BEL</td><td>CBC</td><td>9/25/23</td><td>CBC30N</td><td>1</td><td></td><td>12</td><td>PSTR</td><td>⋯</td><td></td><td>Core_RNAlater</td><td>177</td><td>Healthy        </td><td>No CL                       </td><td>092023_BEL_CBC_T1_177_PSTR</td><td>UML_NARWHAL_R1_B10</td><td>UML_NARWHAL_R2_B12</td><td></td><td>                      </td></tr>\n",
       "\t<tr><th scope=row>6</th><td>6</td><td>092023</td><td>BEL</td><td>CBC</td><td>9/25/23</td><td>CBC30N</td><td>1</td><td></td><td>13</td><td>PAST</td><td>⋯</td><td></td><td>Core_RNAlater</td><td>175</td><td>Healthy        </td><td>No CL                       </td><td>092023_BEL_CBC_T1_175_PAST</td><td>UML_NARWHAL_R1_B10</td><td>UML_NARWHAL_R2_B12</td><td></td><td>R2_B15 EXTRACTED TWICE</td></tr>\n",
       "</tbody>\n",
       "</table>\n"
      ],
      "text/latex": [
       "A data.frame: 6 × 21\n",
       "\\begin{tabular}{r|lllllllllllllllllllll}\n",
       "  & X & Month\\_year & Country & Location & CollectionDate & Transect & TransectNum & OldTagNum & NewTagNum & Species & ⋯ & Time\\_processed & Sample\\_type & SampleNum & Health\\_status & Sampling\\_notes & Tubelabel\\_species & Sample\\_physical\\_location & Extraction\\_physical\\_location & Date\\_sequenced & Notes\\\\\n",
       "  & <int> & <chr> & <chr> & <chr> & <chr> & <chr> & <int> & <chr> & <chr> & <chr> & ⋯ & <chr> & <chr> & <chr> & <chr> & <chr> & <chr> & <chr> & <chr> & <chr> & <chr>\\\\\n",
       "\\hline\n",
       "\t1 & 1 & 122022 & BEL & CBC & 12/5/22 & CURLEW & 4 &  & 77 & OFAV & ⋯ &  & Core\\_frozen   & 18  & Healthy         &                              & 122022\\_BEL\\_CBC\\_T4\\_18\\_OFAV  &                    &                    &  &                       \\\\\n",
       "\t2 & 2 & 092023 & BEL & CBC & 9/27/23 & CBC30N & 1 &  & 1  & SSID & ⋯ &  & Core\\_RNAlater & 185 & Diseased\\_Margin & only margin sample available & 092023\\_BEL\\_CBC\\_T1\\_185\\_SSID & UML\\_NARWHAL\\_R1\\_B10 &                    &  &                       \\\\\n",
       "\t3 & 3 & 092023 & BEL & CBC & 9/25/23 & CBC30N & 1 &  & 2  & PAST & ⋯ &  & Core\\_RNAlater & 171 & Healthy         & CLP 90\\%                      & 092023\\_BEL\\_CBC\\_T1\\_171\\_PAST & UML\\_NARWHAL\\_R1\\_B10 & UML\\_NARWHAL\\_R2\\_B12 &  &                       \\\\\n",
       "\t4 & 4 & 092023 & BEL & CBC & 9/25/23 & CBC30N & 1 &  & 3  & SSID & ⋯ &  & Core\\_RNAlater & 173 & Healthy         & CLP 80\\%; DC 20\\%              & 092023\\_BEL\\_CBC\\_T1\\_173\\_SSID & UML\\_NARWHAL\\_R1\\_B10 & UML\\_NARWHAL\\_R2\\_B12 &  &                       \\\\\n",
       "\t5 & 5 & 092023 & BEL & CBC & 9/25/23 & CBC30N & 1 &  & 12 & PSTR & ⋯ &  & Core\\_RNAlater & 177 & Healthy         & No CL                        & 092023\\_BEL\\_CBC\\_T1\\_177\\_PSTR & UML\\_NARWHAL\\_R1\\_B10 & UML\\_NARWHAL\\_R2\\_B12 &  &                       \\\\\n",
       "\t6 & 6 & 092023 & BEL & CBC & 9/25/23 & CBC30N & 1 &  & 13 & PAST & ⋯ &  & Core\\_RNAlater & 175 & Healthy         & No CL                        & 092023\\_BEL\\_CBC\\_T1\\_175\\_PAST & UML\\_NARWHAL\\_R1\\_B10 & UML\\_NARWHAL\\_R2\\_B12 &  & R2\\_B15 EXTRACTED TWICE\\\\\n",
       "\\end{tabular}\n"
      ],
      "text/markdown": [
       "\n",
       "A data.frame: 6 × 21\n",
       "\n",
       "| <!--/--> | X &lt;int&gt; | Month_year &lt;chr&gt; | Country &lt;chr&gt; | Location &lt;chr&gt; | CollectionDate &lt;chr&gt; | Transect &lt;chr&gt; | TransectNum &lt;int&gt; | OldTagNum &lt;chr&gt; | NewTagNum &lt;chr&gt; | Species &lt;chr&gt; | ⋯ ⋯ | Time_processed &lt;chr&gt; | Sample_type &lt;chr&gt; | SampleNum &lt;chr&gt; | Health_status &lt;chr&gt; | Sampling_notes &lt;chr&gt; | Tubelabel_species &lt;chr&gt; | Sample_physical_location &lt;chr&gt; | Extraction_physical_location &lt;chr&gt; | Date_sequenced &lt;chr&gt; | Notes &lt;chr&gt; |\n",
       "|---|---|---|---|---|---|---|---|---|---|---|---|---|---|---|---|---|---|---|---|---|---|\n",
       "| 1 | 1 | 122022 | BEL | CBC | 12/5/22 | CURLEW | 4 | <!----> | 77 | OFAV | ⋯ | <!----> | Core_frozen   | 18  | Healthy         | <!----> | 122022_BEL_CBC_T4_18_OFAV  | <!----> | <!----> | <!----> | <!----> |\n",
       "| 2 | 2 | 092023 | BEL | CBC | 9/27/23 | CBC30N | 1 | <!----> | 1  | SSID | ⋯ | <!----> | Core_RNAlater | 185 | Diseased_Margin | only margin sample available | 092023_BEL_CBC_T1_185_SSID | UML_NARWHAL_R1_B10 | <!----> | <!----> | <!----> |\n",
       "| 3 | 3 | 092023 | BEL | CBC | 9/25/23 | CBC30N | 1 | <!----> | 2  | PAST | ⋯ | <!----> | Core_RNAlater | 171 | Healthy         | CLP 90%                      | 092023_BEL_CBC_T1_171_PAST | UML_NARWHAL_R1_B10 | UML_NARWHAL_R2_B12 | <!----> | <!----> |\n",
       "| 4 | 4 | 092023 | BEL | CBC | 9/25/23 | CBC30N | 1 | <!----> | 3  | SSID | ⋯ | <!----> | Core_RNAlater | 173 | Healthy         | CLP 80%; DC 20%              | 092023_BEL_CBC_T1_173_SSID | UML_NARWHAL_R1_B10 | UML_NARWHAL_R2_B12 | <!----> | <!----> |\n",
       "| 5 | 5 | 092023 | BEL | CBC | 9/25/23 | CBC30N | 1 | <!----> | 12 | PSTR | ⋯ | <!----> | Core_RNAlater | 177 | Healthy         | No CL                        | 092023_BEL_CBC_T1_177_PSTR | UML_NARWHAL_R1_B10 | UML_NARWHAL_R2_B12 | <!----> | <!----> |\n",
       "| 6 | 6 | 092023 | BEL | CBC | 9/25/23 | CBC30N | 1 | <!----> | 13 | PAST | ⋯ | <!----> | Core_RNAlater | 175 | Healthy         | No CL                        | 092023_BEL_CBC_T1_175_PAST | UML_NARWHAL_R1_B10 | UML_NARWHAL_R2_B12 | <!----> | R2_B15 EXTRACTED TWICE |\n",
       "\n"
      ],
      "text/plain": [
       "  X Month_year Country Location CollectionDate Transect TransectNum OldTagNum\n",
       "1 1 122022     BEL     CBC      12/5/22        CURLEW   4                    \n",
       "2 2 092023     BEL     CBC      9/27/23        CBC30N   1                    \n",
       "3 3 092023     BEL     CBC      9/25/23        CBC30N   1                    \n",
       "4 4 092023     BEL     CBC      9/25/23        CBC30N   1                    \n",
       "5 5 092023     BEL     CBC      9/25/23        CBC30N   1                    \n",
       "6 6 092023     BEL     CBC      9/25/23        CBC30N   1                    \n",
       "  NewTagNum Species ⋯ Time_processed Sample_type   SampleNum Health_status  \n",
       "1 77        OFAV    ⋯                Core_frozen   18        Healthy        \n",
       "2 1         SSID    ⋯                Core_RNAlater 185       Diseased_Margin\n",
       "3 2         PAST    ⋯                Core_RNAlater 171       Healthy        \n",
       "4 3         SSID    ⋯                Core_RNAlater 173       Healthy        \n",
       "5 12        PSTR    ⋯                Core_RNAlater 177       Healthy        \n",
       "6 13        PAST    ⋯                Core_RNAlater 175       Healthy        \n",
       "  Sampling_notes               Tubelabel_species         \n",
       "1                              122022_BEL_CBC_T4_18_OFAV \n",
       "2 only margin sample available 092023_BEL_CBC_T1_185_SSID\n",
       "3 CLP 90%                      092023_BEL_CBC_T1_171_PAST\n",
       "4 CLP 80%; DC 20%              092023_BEL_CBC_T1_173_SSID\n",
       "5 No CL                        092023_BEL_CBC_T1_177_PSTR\n",
       "6 No CL                        092023_BEL_CBC_T1_175_PAST\n",
       "  Sample_physical_location Extraction_physical_location Date_sequenced\n",
       "1                                                                     \n",
       "2 UML_NARWHAL_R1_B10                                                  \n",
       "3 UML_NARWHAL_R1_B10       UML_NARWHAL_R2_B12                         \n",
       "4 UML_NARWHAL_R1_B10       UML_NARWHAL_R2_B12                         \n",
       "5 UML_NARWHAL_R1_B10       UML_NARWHAL_R2_B12                         \n",
       "6 UML_NARWHAL_R1_B10       UML_NARWHAL_R2_B12                         \n",
       "  Notes                 \n",
       "1                       \n",
       "2                       \n",
       "3                       \n",
       "4                       \n",
       "5                       \n",
       "6 R2_B15 EXTRACTED TWICE"
      ]
     },
     "metadata": {},
     "output_type": "display_data"
    }
   ],
   "source": [
    "head(sample)"
   ]
  },
  {
   "cell_type": "code",
   "execution_count": 15,
   "id": "6fc11dc5-7f92-4002-9c96-355bec83efbd",
   "metadata": {},
   "outputs": [
    {
     "data": {
      "text/html": [
       "'character'"
      ],
      "text/latex": [
       "'character'"
      ],
      "text/markdown": [
       "'character'"
      ],
      "text/plain": [
       "[1] \"character\""
      ]
     },
     "metadata": {},
     "output_type": "display_data"
    }
   ],
   "source": [
    "class(sample$Month_year)"
   ]
  },
  {
   "cell_type": "code",
   "execution_count": 19,
   "id": "d84d99a8-9929-4f43-a947-d0cee8e9ee86",
   "metadata": {},
   "outputs": [],
   "source": [
    "#saving in my downloads bc I messed with the first copy and want to wait for brooke to check\n",
    "write.csv(sample, file = \"~/Documents/SCTLD/SCTLD_samples/Sample_Data/CBC_samples.csv\", row.names = FALSE)"
   ]
  },
  {
   "cell_type": "code",
   "execution_count": null,
   "id": "3a6e7323-2cc5-4f74-b650-bc4728550aca",
   "metadata": {},
   "outputs": [],
   "source": []
  },
  {
   "cell_type": "code",
   "execution_count": 107,
   "id": "e15e813b-7961-4a70-b911-d3d60ec1f706",
   "metadata": {},
   "outputs": [],
   "source": [
    "#load new_sample_data\n",
    "update=read.csv(\"~/Documents/SCTLD/SCTLD_samples/Sample_Data/CBC_samples.csv\")"
   ]
  },
  {
   "cell_type": "code",
   "execution_count": null,
   "id": "ce96ffe7-1bc0-40ba-a621-13a85d2055a7",
   "metadata": {},
   "outputs": [],
   "source": []
  }
 ],
 "metadata": {
  "kernelspec": {
   "display_name": "R",
   "language": "R",
   "name": "ir"
  },
  "language_info": {
   "codemirror_mode": "r",
   "file_extension": ".r",
   "mimetype": "text/x-r-source",
   "name": "R",
   "pygments_lexer": "r",
   "version": "4.3.3"
  }
 },
 "nbformat": 4,
 "nbformat_minor": 5
}
